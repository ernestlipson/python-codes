{
 "cells": [
  {
   "cell_type": "code",
   "execution_count": 3,
   "metadata": {},
   "outputs": [
    {
     "name": "stdout",
     "output_type": "stream",
     "text": [
      "9.433981132056603\n",
      "3.4641016151377544\n"
     ]
    }
   ],
   "source": [
    "from math import sqrt\n",
    "print(sqrt(89))\n",
    "\n",
    "import math as m\n",
    "print(m.sqrt(12))"
   ]
  },
  {
   "cell_type": "code",
   "execution_count": 8,
   "metadata": {},
   "outputs": [
    {
     "name": "stdout",
     "output_type": "stream",
     "text": [
      "{16, 'ernest', 12}\n",
      "ernest\n",
      "[16, 'ernest', 12]\n"
     ]
    }
   ],
   "source": [
    "set = {'ernest', 12, 16}\n",
    "\n",
    "print(set)\n",
    "new_set = list(set)\n",
    "print(new_set[1])\n",
    "print(new_set[:])"
   ]
  },
  {
   "cell_type": "code",
   "execution_count": 5,
   "metadata": {},
   "outputs": [
    {
     "name": "stdout",
     "output_type": "stream",
     "text": [
      "{'after', 'emma', 34}\n"
     ]
    }
   ],
   "source": [
    "set = {'emma', 34}\n",
    "set.add('after')\n",
    "print(set)"
   ]
  },
  {
   "cell_type": "code",
   "execution_count": 7,
   "metadata": {},
   "outputs": [
    {
     "name": "stdout",
     "output_type": "stream",
     "text": [
      "many water\n",
      "\"water's\" pizza\n",
      "water's pizza\n",
      "water's \"pizza\"\n"
     ]
    }
   ],
   "source": [
    "print('many water')\n",
    "print('\"water\\'s\" pizza')\n",
    "print(\"water's pizza\")\n",
    "print('water\\'s \"pizza\"')       # various print strings in python"
   ]
  },
  {
   "cell_type": "code",
   "execution_count": 9,
   "metadata": {},
   "outputs": [
    {
     "name": "stdout",
     "output_type": "stream",
     "text": [
      "34.64101615137754\n",
      "12\n",
      "james owusu james owusu james owusu \n"
     ]
    }
   ],
   "source": [
    "print(10 * _) # the under score value is the last recent calculation\n",
    "names = 'james owusu '\n",
    "print(len(names))\n",
    "print(names * 3)"
   ]
  },
  {
   "cell_type": "code",
   "execution_count": 11,
   "metadata": {},
   "outputs": [
    {
     "name": "stdout",
     "output_type": "stream",
     "text": [
      "c:document\n",
      "avin\n",
      "c:document \\navin\n"
     ]
    }
   ],
   "source": [
    "print('c:document\\navin')\n",
    "print(r'c:document \\navin') # r before string means raw document"
   ]
  },
  {
   "cell_type": "code",
   "execution_count": 10,
   "metadata": {},
   "outputs": [
    {
     "name": "stdout",
     "output_type": "stream",
     "text": [
      "15.464101615137753\n"
     ]
    }
   ],
   "source": [
    "x = 9\n",
    "y = 16\n",
    "count = x-9\n",
    "22 - 8\n",
    "sum = _ + 12\n",
    "print(sum)"
   ]
  },
  {
   "cell_type": "code",
   "execution_count": 11,
   "metadata": {},
   "outputs": [
    {
     "name": "stdout",
     "output_type": "stream",
     "text": [
      "python three\n"
     ]
    },
    {
     "data": {
      "text/plain": [
       "'black friday market'"
      ]
     },
     "execution_count": 11,
     "metadata": {},
     "output_type": "execute_result"
    }
   ],
   "source": [
    "name = 'python three'\n",
    "name+' learning'\n",
    "print(name)\n",
    "\n",
    "jumia = 'black friday'\n",
    "jumia+' market'"
   ]
  },
  {
   "cell_type": "code",
   "execution_count": 19,
   "metadata": {},
   "outputs": [
    {
     "name": "stdout",
     "output_type": "stream",
     "text": [
      "pytho\n",
      "python three\n",
      "h\n",
      "pytho python three h\n"
     ]
    }
   ],
   "source": [
    "print(name[0:5])\n",
    "print(name[:])\n",
    "print(name[-4])\n",
    "\n",
    "print(name[0:5], name[:], name[-4])"
   ]
  },
  {
   "cell_type": "code",
   "execution_count": 25,
   "metadata": {},
   "outputs": [
    {
     "name": "stdout",
     "output_type": "stream",
     "text": [
      "['james', 'king', 17, 19]\n",
      "['james', 'king', 17, 89, 19]\n",
      "['james', 'king', 17, 89, 19, 68.9]\n",
      "[68.9]\n",
      "[68.9, 'kwabena', 88, 'overflow', 19]\n"
     ]
    },
    {
     "data": {
      "text/plain": [
       "['james owusu ', [68.9, 'kwabena', 88, 'overflow', 19]]"
      ]
     },
     "execution_count": 25,
     "metadata": {},
     "output_type": "execute_result"
    }
   ],
   "source": [
    "list1 = ['james', 'king', 17, 19, 'agyeman']\n",
    "list1\n",
    "list1[-2]\n",
    "list1.pop()\n",
    "print(list1)\n",
    "\n",
    "list1.insert(3,89)\n",
    "print(list1)\n",
    "\n",
    "list1\n",
    "list1.append(68.9)\n",
    "print(list1)\n",
    "\n",
    "del list1[0:5]\n",
    "print(list1)\n",
    "len(list1)\n",
    "\n",
    "list1.extend(['kwabena', 88, 'overflow', 19])\n",
    "print(list1)\n",
    "\n",
    "names\n",
    "together = [names, list1]\n",
    "together"
   ]
  },
  {
   "cell_type": "code",
   "execution_count": 24,
   "metadata": {},
   "outputs": [
    {
     "name": "stdout",
     "output_type": "stream",
     "text": [
      "['fidelity', 'cormercial', 'uba', 'cbg']\n"
     ]
    }
   ],
   "source": [
    "bank = ['fidelity', 'cormercial', 'uba']\n",
    "bank.extend(['cbg'])    # the extend method extends the list\n",
    "print(bank)"
   ]
  },
  {
   "cell_type": "code",
   "execution_count": 29,
   "metadata": {},
   "outputs": [
    {
     "name": "stdout",
     "output_type": "stream",
     "text": [
      "kwabena\n",
      "jame\n",
      "a\n"
     ]
    }
   ],
   "source": [
    "# slicing an item from a list inside a list\n",
    "print(together[1][1])\n",
    "print(together[0][0 : 4])\n",
    "print(together[1][1][2])"
   ]
  },
  {
   "cell_type": "markdown",
   "metadata": {
    "collapsed": true
   },
   "source": [
    "### LISTS\n",
    "\n",
    "    Each element or value that is inside a list is called an item. \n",
    "    All the items in a list are assigned to a single\n",
    "    variable. Lists avoid having a separate variable to store each item \n",
    "    which is less efficient and more error prone when you have to perform \n",
    "    some operations on these items. \n",
    "    \n",
    "    Lists can be simple or nested lists with varying types of values.\n",
    "    List are one of the most flexible data storage systems in Python \n",
    "    because elements can be added, changed and removed.\n",
    "\n",
    "    In Python, lists can also be concatenated using the + sign, \n",
    "    and the * operator is used to create a repeated sequence of list items."
   ]
  },
  {
   "cell_type": "code",
   "execution_count": 14,
   "metadata": {},
   "outputs": [
    {
     "name": "stdout",
     "output_type": "stream",
     "text": [
      "<class 'list'>\n",
      "['many africans', 17, 18, 'junior', ['james', 'king', 17, 19, 'agyeman']]\n"
     ]
    }
   ],
   "source": [
    "list1 = ['james', 'king', 17, 19, 'agyeman']\n",
    "mixed_list = ['many africans', 17,18, 'junior']\n",
    "mixed_list\n",
    "print(type(mixed_list))\n",
    "\n",
    "mixed_list.append(list1)\n",
    "mixed_list\n",
    "\n",
    "# reversed(mixed_list)\n",
    "mixed_list.reverse\n",
    "print(mixed_list)"
   ]
  },
  {
   "cell_type": "code",
   "execution_count": 68,
   "metadata": {},
   "outputs": [
    {
     "data": {
      "text/plain": [
       "['many africans',\n",
       " 17,\n",
       " 18,\n",
       " 'junior',\n",
       " [68.9, 'kwabena', 88, 'overflow', 19],\n",
       " 68.9,\n",
       " 'kwabena',\n",
       " 88,\n",
       " 'overflow',\n",
       " 19,\n",
       " 'many africans',\n",
       " 17,\n",
       " 18,\n",
       " 'junior',\n",
       " [68.9, 'kwabena', 88, 'overflow', 19],\n",
       " 68.9,\n",
       " 'kwabena',\n",
       " 88,\n",
       " 'overflow',\n",
       " 19]"
      ]
     },
     "execution_count": 68,
     "metadata": {},
     "output_type": "execute_result"
    }
   ],
   "source": [
    "(mixed_list + list1) *2"
   ]
  },
  {
   "cell_type": "code",
   "execution_count": 15,
   "metadata": {},
   "outputs": [
    {
     "name": "stdout",
     "output_type": "stream",
     "text": [
      "False\n",
      "True\n"
     ]
    }
   ],
   "source": [
    "# you can check for the membership of a list \n",
    "# by using the in or not in membership operators, which returns a boolean answer\n",
    "print(7 in mixed_list)\n",
    "list1 == mixed_list\n",
    "print(8 not in mixed_list)"
   ]
  },
  {
   "cell_type": "markdown",
   "metadata": {},
   "source": [
    "### THE list() Function \n",
    "\n",
    "    The built-in list() function is used to create a list. \n",
    "    The syntax for list() function is list([sequence])\n",
    "    where the sequence can be a string, tuple or list itself. \n",
    "    If the optional sequence is not specified then an empty list is created.\n",
    "\n",
    "    You cannot concatenate a list with a string value. In order to concatenate \n",
    "    a string with the list, You must convert the string value to list type, \n",
    "    using Python built-in list() function\n",
    "\n",
    "### Indexing and Slicing\n",
    "\n",
    "    In addition to positive index numbers, you can also access items \n",
    "    from the list with a negative index number, by counting backwards \n",
    "    from the end of the list, starting at −1. \n",
    "    Negative indexing is useful if you have a long list and you \n",
    "    want to locate an item towards the end of a list.\n",
    "    A list can contain any Python type. But a list itself is also a Python type. \n",
    "    That means that a list can also contain a list!"
   ]
  },
  {
   "cell_type": "code",
   "execution_count": 16,
   "metadata": {},
   "outputs": [
    {
     "name": "stdout",
     "output_type": "stream",
     "text": [
      "['h', 'o', 'w', ' ', 'm', 'a', 'n', 'y', ' ', 'm', 'i', 'l', 'e', 's']\n",
      "[]\n",
      "['h', 'o', 'w', ' ', 'm', 'a', 'n', 'y', ' ', 'm', 'i', 'l', 'e', 's', 'many africans', 17, 18, 'junior', ['james', 'king', 17, 19, 'agyeman']]\n"
     ]
    }
   ],
   "source": [
    "qoute = \"how many miles\"\n",
    "list2 = list(qoute)\n",
    "list3 = list()\n",
    "print(list2)\n",
    "print(list3)\n",
    "\n",
    "sequence = list(mixed_list)\n",
    "sequence = list2 + sequence\n",
    "print(sequence)"
   ]
  },
  {
   "cell_type": "code",
   "execution_count": 81,
   "metadata": {},
   "outputs": [
    {
     "data": {
      "text/plain": [
       "['many africans', 17, 18, 'senior', [68.9, 'kwabena', 88, 'overflow', 19]]"
      ]
     },
     "execution_count": 81,
     "metadata": {},
     "output_type": "execute_result"
    }
   ],
   "source": [
    "mixed_list\n",
    "mixed_list[3] = 'senior'\n",
    "mixed_list"
   ]
  },
  {
   "cell_type": "code",
   "execution_count": 17,
   "metadata": {},
   "outputs": [
    {
     "name": "stdout",
     "output_type": "stream",
     "text": [
      "['few africans', 17, 18, 'junior', ['james', 'king', 17, 19, 'agyeman']]\n",
      "139749694787664\n",
      "139749694787664\n",
      "139749680784560\n",
      "139749680784880\n",
      "139749682804288\n",
      "['apple', 'banana', 'cherry']\n",
      "139749681682464\n"
     ]
    }
   ],
   "source": [
    "new_list = mixed_list\n",
    "new_list\n",
    "new_list[0] = 'few africans'\n",
    "print(mixed_list)\n",
    "# the above code proves that assigning an exixting variable \n",
    "# to a new variable does not create a new copy of the existing items.\n",
    "\n",
    "# assigning a list variable to a new list does not neccessarily \n",
    "# create a new list but both variables refer to the same location in memory.\n",
    "print(id(mixed_list))\n",
    "print(id(new_list))\n",
    "\n",
    "# copying a list\n",
    "new_list = mixed_list[:]\n",
    "print(id(new_list))\n",
    "\n",
    "new_list = mixed_list.copy()\n",
    "print(id(new_list))\n",
    "\n",
    "new_list = list(mixed_list)\n",
    "print(id(new_list))\n",
    "\n",
    "# It is also possible to use the list() constructor to make a new list\n",
    "thislist = list((\"apple\", \"banana\", \"cherry\"))\n",
    "print(thislist)\n",
    "print(id(thislist))"
   ]
  },
  {
   "cell_type": "code",
   "execution_count": 19,
   "metadata": {},
   "outputs": [
    {
     "name": "stdout",
     "output_type": "stream",
     "text": [
      "['few africans', 17, 18, 'junior']\n",
      "[]\n"
     ]
    },
    {
     "data": {
      "text/plain": [
       "[18]"
      ]
     },
     "execution_count": 19,
     "metadata": {},
     "output_type": "execute_result"
    }
   ],
   "source": [
    "new_list[: :2]\n",
    "'''List slicing returns a part of the list from\n",
    "he start index value to stop index value\n",
    "which includes the start index value but excludes the stop index value. \n",
    "A third argument indicate step'''\n",
    "print(new_list[:4])\n",
    "print(new_list[-3 : 1])\n",
    "new_list[2:4:3]"
   ]
  },
  {
   "cell_type": "code",
   "execution_count": 45,
   "metadata": {},
   "outputs": [
    {
     "name": "stdout",
     "output_type": "stream",
     "text": [
      "5\n",
      "['few africans', 17, 18, 'junior', ['james', 'king', 17, 19, 'agyeman']]\n",
      "True\n",
      "True\n"
     ]
    }
   ],
   "source": [
    "print(len(new_list))\n",
    "\n",
    "new_list.sort\n",
    "print(new_list)\n",
    "\n",
    "numbers1 = [1,5,7,8,12]\n",
    "numbers2 = [0, 1, 'lagos']\n",
    "print(any(numbers1))\n",
    "print(all(numbers1))"
   ]
  },
  {
   "cell_type": "code",
   "execution_count": 104,
   "metadata": {
    "collapsed": true
   },
   "outputs": [
    {
     "data": {
      "text/plain": [
       "['__add__',\n",
       " '__class__',\n",
       " '__contains__',\n",
       " '__delattr__',\n",
       " '__delitem__',\n",
       " '__dir__',\n",
       " '__doc__',\n",
       " '__eq__',\n",
       " '__format__',\n",
       " '__ge__',\n",
       " '__getattribute__',\n",
       " '__getitem__',\n",
       " '__gt__',\n",
       " '__hash__',\n",
       " '__iadd__',\n",
       " '__imul__',\n",
       " '__init__',\n",
       " '__init_subclass__',\n",
       " '__iter__',\n",
       " '__le__',\n",
       " '__len__',\n",
       " '__lt__',\n",
       " '__mul__',\n",
       " '__ne__',\n",
       " '__new__',\n",
       " '__reduce__',\n",
       " '__reduce_ex__',\n",
       " '__repr__',\n",
       " '__reversed__',\n",
       " '__rmul__',\n",
       " '__setattr__',\n",
       " '__setitem__',\n",
       " '__sizeof__',\n",
       " '__str__',\n",
       " '__subclasshook__',\n",
       " 'append',\n",
       " 'clear',\n",
       " 'copy',\n",
       " 'count',\n",
       " 'extend',\n",
       " 'index',\n",
       " 'insert',\n",
       " 'pop',\n",
       " 'remove',\n",
       " 'reverse',\n",
       " 'sort']"
      ]
     },
     "execution_count": 104,
     "metadata": {},
     "output_type": "execute_result"
    }
   ],
   "source": [
    "dir(list)"
   ]
  },
  {
   "cell_type": "code",
   "execution_count": 39,
   "metadata": {},
   "outputs": [
    {
     "name": "stdout",
     "output_type": "stream",
     "text": [
      "(1, 5, 9, 'works-in-accra', 9)\n"
     ]
    }
   ],
   "source": [
    "tuple2 = (1, 5, 9, \"works-in-accra\", 9)\n",
    "type(tuple2)\n",
    "\n",
    "reversed(tuple2)\n",
    "print(tuple2)"
   ]
  },
  {
   "cell_type": "code",
   "execution_count": 26,
   "metadata": {},
   "outputs": [
    {
     "name": "stdout",
     "output_type": "stream",
     "text": [
      "james\n",
      "1675\n",
      "kokomlemle\n",
      "None NOT FOUND\n",
      "NONE\n"
     ]
    }
   ],
   "source": [
    "'''in dictionaries, an alternative string can be printed if the key given \n",
    "IS NOT a match in the dictionary'''\n",
    "data = {1:'james', 4:1675, 2:'hyebr3', 9:'kokomlemle'}\n",
    "print(data[1])\n",
    "print(data.get(4))\n",
    "print(data.get(9))\n",
    "new_data = data.get(8)\n",
    "print(new_data, 'NOT FOUND')\n",
    "print(data.get(3, 'NONE'))"
   ]
  },
  {
   "cell_type": "code",
   "execution_count": 27,
   "metadata": {},
   "outputs": [
    {
     "name": "stdout",
     "output_type": "stream",
     "text": [
      "NOT FOUND\n"
     ]
    },
    {
     "data": {
      "text/plain": [
       "1675"
      ]
     },
     "execution_count": 27,
     "metadata": {},
     "output_type": "execute_result"
    }
   ],
   "source": [
    "print(data.get(8, 'NOT FOUND'))\n",
    "'''in dictionaries, an alternative string can be printed if the key given \n",
    "IS NOT a match in the dictionary'''\n",
    "data.get(4, 'NOT FOUND')"
   ]
  },
  {
   "cell_type": "code",
   "execution_count": 32,
   "metadata": {
    "scrolled": true
   },
   "outputs": [
    {
     "name": "stdout",
     "output_type": "stream",
     "text": [
      "{'lipson': 'esipon', 'karim_Hills': 'kwasei', 'ofori nsuo': 'ejeidy'}\n",
      "dict_keys(['lipson', 'karim_Hills', 'ofori nsuo'])\n",
      "dict_values(['esipon', 'kwasei', 'ejeidy'])\n"
     ]
    }
   ],
   "source": [
    "# How to combine two lists to form a dictionary\n",
    "keys = ['lipson', 'karim_Hills', 'ofori nsuo', 'Aseda']\n",
    "values = ['esipon', 'kwasei', 'ejeidy']\n",
    "\n",
    "dict_file = dict(zip(keys, values))\n",
    "print(dict_file)\n",
    "print(dict_file.keys());  print(dict_file.values())"
   ]
  },
  {
   "cell_type": "code",
   "execution_count": 36,
   "metadata": {},
   "outputs": [
    {
     "name": "stdout",
     "output_type": "stream",
     "text": [
      "{'lipson': 'esipon', 'karim_Hills': 'kwasei', 'ofori nsuo': 'ejeidy', 'Aseda': 'capeCoast'}\n",
      "{'lipson': 'esipon', 'karim_Hills': 'kwasei', 'ofori nsuo': 'ejeidy', 'Aseda': 'capeCoast', 'Monica': 'Bole'}\n",
      "{'lipson': 'esipon', 'karim_Hills': 'kwasei', 'ofori nsuo': 'ejeidy', 'Aseda': 'capeCoast'}\n"
     ]
    }
   ],
   "source": [
    "values.append('capeCoast')\n",
    "data_file = dict(zip(keys, values))\n",
    "print(data_file)\n",
    "\n",
    "data_file['Monica'] = 'Bole'\n",
    "print(data_file)\n",
    "\n",
    "# to delete data in a dictionary, the key is specified.\n",
    "del data_file['Monica']\n",
    "print(data_file)"
   ]
  },
  {
   "cell_type": "code",
   "execution_count": 48,
   "metadata": {},
   "outputs": [
    {
     "name": "stdout",
     "output_type": "stream",
     "text": [
      "<class 'dict'>\n",
      "{'many': 'water'}\n"
     ]
    }
   ],
   "source": [
    "# Dictionaries\n",
    "data_file = {'many':'water'}\n",
    "print(type(data_file))\n",
    "\n",
    "print(data_file)"
   ]
  },
  {
   "cell_type": "code",
   "execution_count": 54,
   "metadata": {},
   "outputs": [
    {
     "name": "stdout",
     "output_type": "stream",
     "text": [
      "NOT FOUND\n",
      "{'genaral': {'many': 'water'}}\n",
      "water\n"
     ]
    }
   ],
   "source": [
    "print(data_file.get(1,'NOT FOUND'))\n",
    "# using the get() function, you  can get the \n",
    "# values of a dictionary using the keys. \n",
    "# when the specified key is not available an alternatie \n",
    "# message can be given eg. NOT FOUND\n",
    "\n",
    "data_file['many']\n",
    "town = 'genaral'\n",
    "\n",
    "new_list = { town : data_file}\n",
    "print(new_list)\n",
    "print(new_list[town]['many'])"
   ]
  },
  {
   "cell_type": "code",
   "execution_count": 51,
   "metadata": {},
   "outputs": [
    {
     "name": "stdout",
     "output_type": "stream",
     "text": [
      "{91.8: 'kumerica', 12: 'achimota', 'affirm': 0}\n"
     ]
    },
    {
     "data": {
      "text/plain": [
       "{91.8: 'kumerica', 12: 'achimota', 'affirm': 0, 'furnish': 82.5}"
      ]
     },
     "execution_count": 51,
     "metadata": {},
     "output_type": "execute_result"
    }
   ],
   "source": [
    "listA = [91.8, 12, 'affirm']\n",
    "listB = ['kumerica', 'achimota', 0, 82.5]\n",
    "listAB = dict(zip(listA, listB))\n",
    "\n",
    "print(listAB)\n",
    "\n",
    "listAB\n",
    "listA.insert(3, 'furnish')\n",
    "listAB = dict(zip(listA, listB))\n",
    "listAB"
   ]
  },
  {
   "cell_type": "code",
   "execution_count": 53,
   "metadata": {},
   "outputs": [
    {
     "name": "stdout",
     "output_type": "stream",
     "text": [
      "{91.8: 'kumerica', 12: 'achimota', 'affirm': 0, 'furnish': 82.5, 'affairs': 'kuma'}\n"
     ]
    }
   ],
   "source": [
    "listAB[91.8]\n",
    "listAB['affairs']='kuma'\n",
    "\n",
    "print(listAB)"
   ]
  },
  {
   "cell_type": "code",
   "execution_count": 59,
   "metadata": {},
   "outputs": [
    {
     "name": "stdout",
     "output_type": "stream",
     "text": [
      "Sublime\n",
      "Pycharm\n",
      "ntel\n"
     ]
    }
   ],
   "source": [
    "program = {'Jaso':'Sublime', 'Python':['Pycharm', 'Sublime-Text'], \n",
    "           'JAVA':{'JASE':'Intelli', 'JAEE':'Netbeans'}}\n",
    "\n",
    "print(program['Jaso'])\n",
    "print(program['Python'][0])\n",
    "print(program['JAVA']['JASE'][1:5])"
   ]
  },
  {
   "cell_type": "code",
   "execution_count": 60,
   "metadata": {},
   "outputs": [
    {
     "name": "stdout",
     "output_type": "stream",
     "text": [
      "139749675682000\n",
      "139749675682000\n",
      "<class 'float'>\n"
     ]
    }
   ],
   "source": [
    "number = 19.8\n",
    "sumber = number\n",
    "print(id(number)) # returns the identity or addresss of a variable\n",
    "print(id(sumber))\n",
    "print(type(number))"
   ]
  },
  {
   "cell_type": "code",
   "execution_count": 64,
   "metadata": {},
   "outputs": [
    {
     "name": "stdout",
     "output_type": "stream",
     "text": [
      "<class 'complex'>\n",
      "(19.8+4j)\n"
     ]
    }
   ],
   "source": [
    "complexA = 6 + 9j\n",
    "print(type(complexA))\n",
    "\n",
    "# nb: complexes cannot be converted to int nor float\n",
    "integer = int(number)\n",
    "integer\n",
    "new_number = 4\n",
    "\n",
    "# How to convert two real numbers into a complex number\n",
    "complexB = complex(number, new_number) \n",
    "print(complexB)"
   ]
  },
  {
   "cell_type": "code",
   "execution_count": 51,
   "metadata": {},
   "outputs": [
    {
     "data": {
      "text/plain": [
       "1"
      ]
     },
     "execution_count": 51,
     "metadata": {},
     "output_type": "execute_result"
    }
   ],
   "source": [
    "new_number < number\n",
    "boolean = _\n",
    "boolean\n",
    "int(boolean)"
   ]
  },
  {
   "cell_type": "code",
   "execution_count": 67,
   "metadata": {},
   "outputs": [
    {
     "name": "stdout",
     "output_type": "stream",
     "text": [
      "lipson\n",
      "range(0, 10)\n",
      "[0, 1, 2, 3, 4, 5, 6, 7, 8, 9]\n",
      "[2, 4, 6, 8, 10, 12, 14, 16, 18, 20, 22, 24, 26, 28]\n"
     ]
    }
   ],
   "source": [
    "str = 'lipson'\n",
    "print(str)\n",
    "print(range(10))\n",
    "\n",
    "myList = list(range(10))\n",
    "print(myList)\n",
    "# ranging of values...\n",
    "myList = list(range(2, 30 , 2))\n",
    "print(myList)"
   ]
  },
  {
   "cell_type": "code",
   "execution_count": 74,
   "metadata": {},
   "outputs": [
    {
     "name": "stdout",
     "output_type": "stream",
     "text": [
      "0b11001\n",
      "0x79\n",
      "0o131\n",
      "11\n",
      "3\n",
      "0x2a6\n",
      "239\n",
      "0b101011\n",
      "678\n"
     ]
    }
   ],
   "source": [
    "# Number system conversion in python..\n",
    "\n",
    "print(bin(25)); \n",
    "print(hex(121)); \n",
    "print(oct(89)); \n",
    "print(0b01011) \n",
    "print(0b00011); \n",
    "print(hex(678)); \n",
    "print(0xef); \n",
    "print(bin(43))\n",
    "# how to represent a number in other bases.\n",
    "print(0x2a6)"
   ]
  },
  {
   "cell_type": "code",
   "execution_count": 76,
   "metadata": {},
   "outputs": [
    {
     "name": "stdout",
     "output_type": "stream",
     "text": [
      "7 15\n"
     ]
    }
   ],
   "source": [
    "# swaping two numbers without using a third variable.\n",
    "a = 15\n",
    "b = 7\n",
    "\n",
    "a = a + b\n",
    "b = a - b\n",
    "a = a - b \n",
    "# basically the two numbers are added, then differentiated.\n",
    "print(a, b)"
   ]
  },
  {
   "cell_type": "code",
   "execution_count": 77,
   "metadata": {},
   "outputs": [
    {
     "name": "stdout",
     "output_type": "stream",
     "text": [
      "7 15\n"
     ]
    }
   ],
   "source": [
    "# alternative method in swapping two variables\n",
    "\n",
    "a = 15\n",
    "b =7\n",
    "\n",
    "a,b = b,a\n",
    "print(a, b)"
   ]
  },
  {
   "cell_type": "code",
   "execution_count": 79,
   "metadata": {},
   "outputs": [
    {
     "name": "stdout",
     "output_type": "stream",
     "text": [
      "-19 -13 -26 -43\n",
      "0 13 0b1000 0b1001 1 9728 0\n"
     ]
    }
   ],
   "source": [
    "# Bitwise Operators.\n",
    "print(~18, ~12, ~25, ~42)\n",
    "print(13 & 16, 12 | 13, bin(8), bin(9), 8^9, 19<<9, 20>>10)"
   ]
  },
  {
   "cell_type": "code",
   "execution_count": 85,
   "metadata": {},
   "outputs": [
    {
     "name": "stdout",
     "output_type": "stream",
     "text": [
      "9.486832980505138\n",
      "149\n",
      "150\n",
      "\n",
      "((3.141592653589793, 2.718281828459045, 3.141592653589793, 2.718281828459045, 3.141592653589793, 2.718281828459045, 3.141592653589793, 2.718281828459045, 3.141592653589793, 2.718281828459045, 3.141592653589793, 2.718281828459045, 3.141592653589793, 2.718281828459045, 3.141592653589793, 2.718281828459045, 3.141592653589793, 2.718281828459045, 3.141592653589793, 2.718281828459045, 3.141592653589793, 2.718281828459045, 3.141592653589793, 2.718281828459045),)\n"
     ]
    }
   ],
   "source": [
    "# creating aliases with a function\n",
    "import math as k\n",
    "k.sqrt(8)\n",
    "# importing only specified needed fxns.\n",
    "from math import sqrt,pow\n",
    "pow(6,2)\n",
    "help(str)\n",
    "\n",
    "from math import sqrt, floor, ceil, pi, e\n",
    "print(sqrt(90)),\n",
    "\n",
    "# returns the largest integer less than or equal to a given number.\n",
    "print(floor(149.89)),\n",
    "\n",
    "print(ceil(149.89)),\n",
    "\n",
    "calc = pi, e, \n",
    "areA = calc * 12, \n",
    "print(f'\\n{areA}')"
   ]
  },
  {
   "cell_type": "code",
   "execution_count": 89,
   "metadata": {},
   "outputs": [
    {
     "name": "stdout",
     "output_type": "stream",
     "text": [
      "please input a number 56\n",
      "please input 2nd number 56\n",
      "112\n"
     ]
    }
   ],
   "source": [
    "# Taking user inputs\n",
    "xnum = int(input('please input a number '))\n",
    "ynum = int(input('please input 2nd number '))\n",
    "znum = xnum + ynum\n",
    "print(znum)"
   ]
  },
  {
   "cell_type": "code",
   "execution_count": 91,
   "metadata": {},
   "outputs": [
    {
     "name": "stdout",
     "output_type": "stream",
     "text": [
      "enter a char: school\n",
      "s\n",
      "enter a char again: office\n",
      "o\n"
     ]
    }
   ],
   "source": [
    "# printing characters\n",
    "ch = input('enter a char: ')\n",
    "print(ch[0]) # prints the char at index 0. OR another way is\n",
    "ch = input('enter a char again: ')[0]\n",
    "print(ch)"
   ]
  },
  {
   "cell_type": "code",
   "execution_count": 93,
   "metadata": {},
   "outputs": [
    {
     "name": "stdout",
     "output_type": "stream",
     "text": [
      "enter an expression: 7 * 9 * 8 + 12 + (78+23)\n",
      "617\n"
     ]
    }
   ],
   "source": [
    "# how to use the evaluate function\n",
    "result = eval(input('enter an expression: '))\n",
    "print(result)\n",
    "# the import sys argv is used to pick entered values from the command line."
   ]
  },
  {
   "cell_type": "code",
   "execution_count": 99,
   "metadata": {},
   "outputs": [
    {
     "name": "stdout",
     "output_type": "stream",
     "text": [
      "please input a number: 5\n",
      "number is NOT EVEN, Enter again: \n",
      "please input a number: 8\n",
      "number is even\n",
      "Do you want to continue? yes/no yes\n",
      "please input a number: 89\n",
      "number is NOT EVEN, Enter again: \n",
      "please input a number: 8\n",
      "number is even\n",
      "Do you want to continue? yes/no no\n"
     ]
    }
   ],
   "source": [
    "# control flows...\n",
    "# Blocks of codes/statements in python is known as a suite.\n",
    "\n",
    "xvar = int(input('please input a number: '))\n",
    "while xvar:\n",
    "    if xvar % 2==0 :\n",
    "        print('number is even')\n",
    "        cont = input('Do you want to continue? yes/no ')\n",
    "        if cont == 'no':\n",
    "            break\n",
    "        elif cont == 'yes':\n",
    "            xvar = int(input('please input a number: '))\n",
    "    else:\n",
    "        print('number is NOT EVEN, Enter again: ')\n",
    "        xvar = int(input('please input a number: '))"
   ]
  },
  {
   "cell_type": "code",
   "execution_count": 104,
   "metadata": {},
   "outputs": [
    {
     "name": "stdout",
     "output_type": "stream",
     "text": [
      "enter an integer: 3\n",
      "wrong INPUT\n",
      "please input a number: 3\n",
      "Number given is positive\n",
      "please enter a number: 5\n",
      "please enter 2nd number: 4\n",
      "please enter 3rd number: 2\n",
      "5 is maximum\n"
     ]
    }
   ],
   "source": [
    "# if, elif, if..else\n",
    "bvar = int(input('enter an integer: '))\n",
    "if bvar == 1:\n",
    "    print('one inputed')\n",
    "elif bvar == 2:\n",
    "    print('two inputed')\n",
    "else: \n",
    "    print('wrong INPUT')\n",
    "\n",
    "# program to check if a given number is positive or negative.\n",
    "dvar = float(input('please input a number: '))\n",
    "if dvar < 0:\n",
    "    print('Number given is negative')\n",
    "elif dvar == 0:\n",
    "    while dvar:\n",
    "        print('cannot accept 0 inputs')\n",
    "        dvar = float(input('please input a number: '))\n",
    "else:\n",
    "    print('Number given is positive')\n",
    "    \n",
    "# program to check the maximum value among three numbers.\n",
    "avar = int(input('please enter a number: '))\n",
    "evar = int(input('please enter 2nd number: '))\n",
    "gvar = int(input('please enter 3rd number: '))\n",
    "\n",
    "if avar > evar & gvar:\n",
    "    print(f'{avar} is maximum')\n",
    "elif evar > avar & gvar:\n",
    "    print(f'{evar} is maximum')\n",
    "elif gvar > avar & evar:\n",
    "    print(f'{gvar} is maximum')\n",
    "else:\n",
    "    print('All numbers are equal')"
   ]
  },
  {
   "cell_type": "code",
   "execution_count": 106,
   "metadata": {
    "collapsed": true
   },
   "outputs": [
    {
     "name": "stdout",
     "output_type": "stream",
     "text": [
      "beginning python programming \n",
      "yeah \n",
      "yeah \n",
      "yeah \n",
      "yeah \n",
      "yeah \n",
      "\n",
      "beginning python programming \n",
      "yeah \n",
      "yeah \n",
      "yeah \n",
      "yeah \n",
      "yeah \n",
      "\n",
      "beginning python programming \n",
      "yeah \n",
      "yeah \n",
      "yeah \n",
      "yeah \n",
      "yeah \n",
      "\n",
      "beginning python programming \n",
      "yeah \n",
      "yeah \n",
      "yeah \n",
      "yeah \n",
      "yeah \n",
      "\n",
      "beginning python programming \n",
      "yeah \n",
      "yeah \n",
      "yeah \n",
      "yeah \n",
      "yeah \n",
      "\n",
      "beginning python programming \n",
      "yeah \n",
      "yeah \n",
      "yeah \n",
      "yeah \n",
      "yeah \n",
      "\n",
      "beginning python programming \n",
      "yeah \n",
      "yeah \n",
      "yeah \n",
      "yeah \n",
      "yeah \n",
      "\n",
      "beginning python programming \n",
      "yeah \n",
      "yeah \n",
      "yeah \n",
      "yeah \n",
      "yeah \n",
      "\n",
      "beginning python programming \n",
      "yeah \n",
      "yeah \n",
      "yeah \n",
      "yeah \n",
      "yeah \n",
      "\n"
     ]
    }
   ],
   "source": [
    "# looping while loops\n",
    "i=1\n",
    "while i <= 9:\n",
    "    print('beginning python programming ')\n",
    "    j=1\n",
    "    while j <= 5:\n",
    "        print('yeah ')\n",
    "        j = j+1\n",
    "    i = i+1\n",
    "    print()"
   ]
  },
  {
   "cell_type": "code",
   "execution_count": 2,
   "metadata": {},
   "outputs": [
    {
     "name": "stdout",
     "output_type": "stream",
     "text": [
      "Please input an expression 90 + 89 + 16\n",
      "195\n"
     ]
    }
   ],
   "source": [
    "result = eval(input('Please input an expression '))\n",
    "print(result)"
   ]
  },
  {
   "cell_type": "code",
   "execution_count": 5,
   "metadata": {},
   "outputs": [
    {
     "name": "stdout",
     "output_type": "stream",
     "text": [
      "number given is too small \n"
     ]
    }
   ],
   "source": [
    "while result != 100:\n",
    "    print('number given is too small ')\n",
    "    break"
   ]
  },
  {
   "cell_type": "code",
   "execution_count": 42,
   "metadata": {
    "collapsed": true
   },
   "outputs": [
    {
     "name": "stdout",
     "output_type": "stream",
     "text": [
      "15 \n",
      "30 \n",
      "45 \n",
      "60 \n",
      "75 \n",
      "90 \n",
      "3 5 6 9 10 12 15 18 20 21 24 25 27 30 33 35 36 39 40 42 45 48 50 51 54 55 57 60 63 65 66 69 70 72 75 78 80 81 84 85 87 90 93 95 96 99 100 "
     ]
    }
   ],
   "source": [
    "# print all numbers divisible by 3 and 5\n",
    "i= 1\n",
    "while i <= 100:\n",
    "    if i%3 == 0 and i%5 == 0:\n",
    "        print(i, end = \" \\n\")\n",
    "        i = i+1\n",
    "    else:\n",
    "        i=i+1\n",
    "        \n",
    "# print all numbers divisible by 3 or 5\n",
    "i= 1\n",
    "while i <= 100:\n",
    "    if i%3 == 0 or i%5 == 0:\n",
    "        print(i, end = \" \")\n",
    "        i = i+1\n",
    "    else:\n",
    "        i=i+1"
   ]
  },
  {
   "cell_type": "code",
   "execution_count": 116,
   "metadata": {},
   "outputs": [
    {
     "name": "stdout",
     "output_type": "stream",
     "text": [
      "1 2 4 7 8 11 13 14 16 17 19 22 23 26 28 29 31 32 34 37 38 41 43 44 46 47 49 52 53 56 58 59 61 62 64 67 68 71 73 74 76 77 79 82 83 86 88 89 91 92 94 97 98 "
     ]
    }
   ],
   "source": [
    "# python code to print all values from 1 to 100, skiping values divisible by 3 or 5.\n",
    "a = 1\n",
    "while a <= 100:\n",
    "    if a%3 == 0 or a%5 == 0:\n",
    "        a = a + 1\n",
    "    else:\n",
    "        print(a, end = \" \")\n",
    "        a = a + 1"
   ]
  },
  {
   "cell_type": "code",
   "execution_count": 121,
   "metadata": {},
   "outputs": [
    {
     "name": "stdout",
     "output_type": "stream",
     "text": [
      "required numbers \n",
      " [1, 6, 11, 16, 21, 26, 31, 36, 41, 46, 51, 56, 61, 66, 71, 76, 81, 86, 91, 96]\n"
     ]
    }
   ],
   "source": [
    "import numpy as np\n",
    "numbers = np.arange(1, 101, 5)\n",
    "print('required numbers \\n', list(numbers))"
   ]
  },
  {
   "cell_type": "code",
   "execution_count": 124,
   "metadata": {},
   "outputs": [
    {
     "name": "stdout",
     "output_type": "stream",
     "text": [
      "please input L limit: 1\n",
      "please input U limit: 100\n",
      "15\n",
      "30\n",
      "45\n",
      "60\n",
      "75\n",
      "90\n",
      "please input the num: 50\n",
      "0\n",
      "15\n",
      "30\n",
      "45\n"
     ]
    }
   ],
   "source": [
    "# print all numbers divisible by 3 and 5. eg 2\n",
    "lower = int(input('please input L limit: '))\n",
    "Upper = int(input('please input U limit: '))\n",
    "for i in range(lower, Upper+1):\n",
    "    if i%3==0 and i%5==0:\n",
    "        print(i)\n",
    "        \n",
    "        \n",
    "newNumber = int(input('please input the num: '))\n",
    "for i in range(newNumber+1):\n",
    "    if i%3==0 and i%5==0:\n",
    "        print(i)"
   ]
  },
  {
   "cell_type": "code",
   "execution_count": 2,
   "metadata": {
    "collapsed": true
   },
   "outputs": [
    {
     "name": "stdout",
     "output_type": "stream",
     "text": [
      "Help on class range in module builtins:\n",
      "\n",
      "class range(object)\n",
      " |  range(stop) -> range object\n",
      " |  range(start, stop[, step]) -> range object\n",
      " |  \n",
      " |  Return an object that produces a sequence of integers from start (inclusive)\n",
      " |  to stop (exclusive) by step.  range(i, j) produces i, i+1, i+2, ..., j-1.\n",
      " |  start defaults to 0, and stop is omitted!  range(4) produces 0, 1, 2, 3.\n",
      " |  These are exactly the valid indices for a list of 4 elements.\n",
      " |  When step is given, it specifies the increment (or decrement).\n",
      " |  \n",
      " |  Methods defined here:\n",
      " |  \n",
      " |  __bool__(self, /)\n",
      " |      self != 0\n",
      " |  \n",
      " |  __contains__(self, key, /)\n",
      " |      Return key in self.\n",
      " |  \n",
      " |  __eq__(self, value, /)\n",
      " |      Return self==value.\n",
      " |  \n",
      " |  __ge__(self, value, /)\n",
      " |      Return self>=value.\n",
      " |  \n",
      " |  __getattribute__(self, name, /)\n",
      " |      Return getattr(self, name).\n",
      " |  \n",
      " |  __getitem__(self, key, /)\n",
      " |      Return self[key].\n",
      " |  \n",
      " |  __gt__(self, value, /)\n",
      " |      Return self>value.\n",
      " |  \n",
      " |  __hash__(self, /)\n",
      " |      Return hash(self).\n",
      " |  \n",
      " |  __iter__(self, /)\n",
      " |      Implement iter(self).\n",
      " |  \n",
      " |  __le__(self, value, /)\n",
      " |      Return self<=value.\n",
      " |  \n",
      " |  __len__(self, /)\n",
      " |      Return len(self).\n",
      " |  \n",
      " |  __lt__(self, value, /)\n",
      " |      Return self<value.\n",
      " |  \n",
      " |  __ne__(self, value, /)\n",
      " |      Return self!=value.\n",
      " |  \n",
      " |  __reduce__(...)\n",
      " |      Helper for pickle.\n",
      " |  \n",
      " |  __repr__(self, /)\n",
      " |      Return repr(self).\n",
      " |  \n",
      " |  __reversed__(...)\n",
      " |      Return a reverse iterator.\n",
      " |  \n",
      " |  count(...)\n",
      " |      rangeobject.count(value) -> integer -- return number of occurrences of value\n",
      " |  \n",
      " |  index(...)\n",
      " |      rangeobject.index(value) -> integer -- return index of value.\n",
      " |      Raise ValueError if the value is not present.\n",
      " |  \n",
      " |  ----------------------------------------------------------------------\n",
      " |  Static methods defined here:\n",
      " |  \n",
      " |  __new__(*args, **kwargs) from builtins.type\n",
      " |      Create and return a new object.  See help(type) for accurate signature.\n",
      " |  \n",
      " |  ----------------------------------------------------------------------\n",
      " |  Data descriptors defined here:\n",
      " |  \n",
      " |  start\n",
      " |  \n",
      " |  step\n",
      " |  \n",
      " |  stop\n",
      "\n"
     ]
    }
   ],
   "source": [
    "help(range)"
   ]
  },
  {
   "cell_type": "code",
   "execution_count": 125,
   "metadata": {},
   "outputs": [
    {
     "name": "stdout",
     "output_type": "stream",
     "text": [
      "amina\n",
      "gyasi\n",
      "clinton\n",
      "\n",
      "['amina', 'gyasi', 'clinton']\n"
     ]
    }
   ],
   "source": [
    "# for loops\n",
    "people = ['amina', 'gyasi', 'clinton']\n",
    "for i in people:\n",
    "    print(i)\n",
    "print(f'\\n{people}')"
   ]
  },
  {
   "cell_type": "code",
   "execution_count": 16,
   "metadata": {},
   "outputs": [
    {
     "name": "stdout",
     "output_type": "stream",
     "text": [
      "a s h l e y 1  3  5  7  9  11  13  15  17  19  20 20 19 18 17 16 15 15 14 13 12 "
     ]
    }
   ],
   "source": [
    "people = \"ashley\"\n",
    "for i in people:\n",
    "    print(i, end=\" \")\n",
    "# printing within a range of values\n",
    "for i in range(1,21,2):\n",
    "    print(i, end=\"  \")\n",
    "# this for loop is iterating \n",
    "# a range of values from 1 to 20 at a rate of two\n",
    "for i in range(20,11,-1):\n",
    "    if(i%5 == 0):\n",
    "        print(i, end=\" \")\n",
    "    print(i, end=\" \")"
   ]
  },
  {
   "cell_type": "code",
   "execution_count": 37,
   "metadata": {},
   "outputs": [
    {
     "name": "stdout",
     "output_type": "stream",
     "text": [
      "please input amount of candies: 90\n",
      "TOM-TOM TOM-TOM TOM-TOM TOM-TOM TOM-TOM TOM-TOM TOM-TOM TOM-TOM TOM-TOM TOM-TOM TOM-TOM TOM-TOM TOM-TOM TOM-TOM TOM-TOM TOM-TOM TOM-TOM TOM-TOM TOM-TOM TOM-TOM TOM-TOM TOM-TOM TOM-TOM TOM-TOM TOM-TOM \n",
      "candy cannot exceed 25\n"
     ]
    }
   ],
   "source": [
    "# break, continue and pass\n",
    "canlim = 25\n",
    "candies = int(input('please input amount of candies: '))\n",
    "i = 1\n",
    "while i <= candies:\n",
    "    print('TOM-TOM', end=\" \")\n",
    "    i += 1\n",
    "    if i > canlim:\n",
    "        print('\\ncandy cannot exceed 25')\n",
    "        break        "
   ]
  },
  {
   "cell_type": "code",
   "execution_count": 55,
   "metadata": {
    "collapsed": true
   },
   "outputs": [
    {
     "name": "stdout",
     "output_type": "stream",
     "text": [
      "please input a range of value: 16\n",
      "1\n",
      "2\n",
      "4\n",
      "7\n",
      "8\n",
      "11\n",
      "13\n",
      "14\n",
      "bye \n",
      "\n",
      "1\n",
      "2\n",
      "3\n",
      "4\n",
      "5\n",
      "6\n",
      "7\n",
      "8\n",
      "9\n",
      "10\n",
      "11\n",
      "12\n",
      "13\n",
      "14\n",
      "15\n",
      "bye Again\n"
     ]
    }
   ],
   "source": [
    "ranNum = int(input('please input a range of value: '))\n",
    "for i in range(1,ranNum):\n",
    "    if (i%3==0 or i%5==0):\n",
    "        continue\n",
    "    print(i)\n",
    "print('bye', '\\n')  \n",
    "\n",
    "for i in range(1, ranNum):\n",
    "    if (i%3==0 or i%5==0):\n",
    "        pass   \n",
    "    # pass basically means pass the code after the if block\n",
    "    print(i)\n",
    "print('bye Again')"
   ]
  },
  {
   "cell_type": "markdown",
   "metadata": {},
   "source": [
    "     Python code to print all the perfect square numbers between 1 and 500.\n",
    "     Perfect suares are the numbers produced by squaring all numbers."
   ]
  },
  {
   "cell_type": "code",
   "execution_count": 126,
   "metadata": {},
   "outputs": [
    {
     "name": "stdout",
     "output_type": "stream",
     "text": [
      "/home/lipson/Desktop/Lipson Code Folder/Python/Anaconda\n"
     ]
    }
   ],
   "source": [
    "# python code to import current working diectory\n",
    "import os\n",
    "print(os.getcwd())"
   ]
  },
  {
   "cell_type": "code",
   "execution_count": 59,
   "metadata": {},
   "outputs": [
    {
     "name": "stdout",
     "output_type": "stream",
     "text": [
      "[1, 4, 9, 16, 25, 36, 49, 64, 81, 100, 121, 144, 169, 196, 225, 256, 289, 324, 361, 400, 441, 484]\n"
     ]
    }
   ],
   "source": [
    "# Python code to print all the perfect square numbers between 1 and 500\n",
    "def squares(a,b):\n",
    "    Lists = []\n",
    "    for i in range (a, b+1):\n",
    "        j = 1;\n",
    "        while j*j <= i:\n",
    "            if j*j == i:\n",
    "                Lists.append(i)\n",
    "            j = j+1\n",
    "        i = i+1\n",
    "    return Lists\n",
    "print(squares(1, 500))"
   ]
  },
  {
   "cell_type": "markdown",
   "metadata": {},
   "source": [
    "\n",
    "    Another approach to finding the perfect squares.\n",
    "    Let L be the beginning and R be the end. The very first perfect square after \n",
    "    number L will definitely be\n",
    "    square of [sqrt(L)]. So square of the square root of L gives \n",
    "    the next figure after L.\n",
    "    eg. (1 4 9 16 25 36 49). Square root of 4 power two gives two.\n",
    "    \n",
    "    code: pow(ceil(sqrt(L),2)\n",
    "    NB: The diffrence two perfect squares is always an odd number.\n",
    "    To get the next number is (sqrt(x) * 2) + 1,  \n",
    "    where x is the already known perfect number.\n",
    "    NB: Addition is computatinally less expensive than \n",
    "    perrforming than performing multiplication or finding square\n",
    "    roots of every number."
   ]
  },
  {
   "cell_type": "code",
   "execution_count": 136,
   "metadata": {
    "collapsed": true
   },
   "outputs": [
    {
     "name": "stderr",
     "output_type": "stream",
     "text": [
      "ERROR:root:Internal Python error in the inspect module.\n",
      "Below is the traceback from this internal error.\n",
      "\n"
     ]
    },
    {
     "name": "stdout",
     "output_type": "stream",
     "text": [
      "Traceback (most recent call last):\n",
      "  File \"/home/lipson/anaconda3/lib/python3.7/site-packages/IPython/core/interactiveshell.py\", line 3326, in run_code\n",
      "    exec(code_obj, self.user_global_ns, self.user_ns)\n",
      "  File \"<ipython-input-136-3ed073c36613>\", line 15, in <module>\n",
      "    print(peSqr(l, r))\n",
      "  File \"<ipython-input-136-3ed073c36613>\", line 14, in peSqr\n",
      "    peSqr(l , r)\n",
      "  File \"<ipython-input-136-3ed073c36613>\", line 14, in peSqr\n",
      "    peSqr(l , r)\n",
      "  File \"<ipython-input-136-3ed073c36613>\", line 14, in peSqr\n",
      "    peSqr(l , r)\n",
      "  [Previous line repeated 2956 more times]\n",
      "  File \"<ipython-input-136-3ed073c36613>\", line 5, in peSqr\n",
      "    for i in range(l, r + 1):\n",
      "RecursionError: maximum recursion depth exceeded in comparison\n",
      "\n",
      "During handling of the above exception, another exception occurred:\n",
      "\n",
      "Traceback (most recent call last):\n",
      "  File \"/home/lipson/anaconda3/lib/python3.7/site-packages/IPython/core/interactiveshell.py\", line 2040, in showtraceback\n",
      "    stb = value._render_traceback_()\n",
      "AttributeError: 'RecursionError' object has no attribute '_render_traceback_'\n",
      "\n",
      "During handling of the above exception, another exception occurred:\n",
      "\n",
      "Traceback (most recent call last):\n",
      "  File \"/home/lipson/anaconda3/lib/python3.7/site-packages/IPython/core/ultratb.py\", line 1101, in get_records\n",
      "    return _fixed_getinnerframes(etb, number_of_lines_of_context, tb_offset)\n",
      "  File \"/home/lipson/anaconda3/lib/python3.7/site-packages/IPython/core/ultratb.py\", line 319, in wrapped\n",
      "    return f(*args, **kwargs)\n",
      "  File \"/home/lipson/anaconda3/lib/python3.7/site-packages/IPython/core/ultratb.py\", line 353, in _fixed_getinnerframes\n",
      "    records = fix_frame_records_filenames(inspect.getinnerframes(etb, context))\n",
      "  File \"/home/lipson/anaconda3/lib/python3.7/inspect.py\", line 1502, in getinnerframes\n",
      "    frameinfo = (tb.tb_frame,) + getframeinfo(tb, context)\n",
      "  File \"/home/lipson/anaconda3/lib/python3.7/inspect.py\", line 1464, in getframeinfo\n",
      "    lines, lnum = findsource(frame)\n",
      "  File \"/home/lipson/anaconda3/lib/python3.7/site-packages/IPython/core/ultratb.py\", line 173, in findsource\n",
      "    file = getsourcefile(object) or getfile(object)\n",
      "  File \"/home/lipson/anaconda3/lib/python3.7/inspect.py\", line 696, in getsourcefile\n",
      "    if getattr(getmodule(object, filename), '__loader__', None) is not None:\n",
      "  File \"/home/lipson/anaconda3/lib/python3.7/inspect.py\", line 734, in getmodule\n",
      "    f = module.__file__\n",
      "KeyboardInterrupt\n"
     ]
    },
    {
     "ename": "RecursionError",
     "evalue": "maximum recursion depth exceeded in comparison",
     "output_type": "error",
     "traceback": [
      "\u001b[0;31m---------------------------------------------------------------------------\u001b[0m"
     ]
    }
   ],
   "source": [
    "l = 2\n",
    "r = 40\n",
    "from math import ceil, sqrt, pow\n",
    "def peSqr(l , r):\n",
    "    for i in range(l, r + 1):\n",
    "        number = pow(ceil(sqrt(l) + 1),2)\n",
    "        n = number * number\n",
    "        number = (number * 2) + 1\n",
    "    while ((n >= l and n <= r)):\n",
    "        print(n, end=\" \")\n",
    "        n = n + number\n",
    "        number += 2\n",
    "    \n",
    "    peSqr(l , r)\n",
    "print(peSqr(l, r)) \n",
    "\n",
    "# this program is halted, to be looked up later"
   ]
  },
  {
   "cell_type": "code",
   "execution_count": 133,
   "metadata": {},
   "outputs": [
    {
     "name": "stdout",
     "output_type": "stream",
     "text": [
      "16.0\n"
     ]
    }
   ],
   "source": [
    "number = pow(ceil(sqrt(9) + 1),2)\n",
    "print(number)"
   ]
  },
  {
   "cell_type": "code",
   "execution_count": 88,
   "metadata": {},
   "outputs": [
    {
     "name": "stdout",
     "output_type": "stream",
     "text": [
      "Enter number please: 64\n",
      "Number is a perfect square\n"
     ]
    }
   ],
   "source": [
    "# checking to see if a given number is perfect square or not\n",
    "import math\n",
    "number = int(input('Enter number please: '))\n",
    "root = math.sqrt(number)\n",
    "if int(pow(int(root+0.5),2)) == number:\n",
    "    print('Number is a perfect square')\n",
    "else:\n",
    "    print('Number is not perfect')"
   ]
  },
  {
   "cell_type": "code",
   "execution_count": 138,
   "metadata": {},
   "outputs": [
    {
     "name": "stdout",
     "output_type": "stream",
     "text": [
      "enter initial number: 1\n",
      "enter end number: 50\n",
      "1 4 9 16 25 36 49 "
     ]
    }
   ],
   "source": [
    "# Code to print perfect squares given a range.\n",
    "import math\n",
    "number1 = int(input('enter initial number: '))\n",
    "number2 = int(input('enter end number: '))\n",
    "for i in range(number1 , number2+1):\n",
    "    root = math.sqrt(i)\n",
    "    if int(pow(int(root+0.5),2)) == i:\n",
    "        print(i, end=\" \")"
   ]
  },
  {
   "cell_type": "code",
   "execution_count": 146,
   "metadata": {},
   "outputs": [
    {
     "name": "stdout",
     "output_type": "stream",
     "text": [
      "4\n"
     ]
    }
   ],
   "source": [
    "root = math.sqrt(16)\n",
    "print(int(root + 0.5))"
   ]
  },
  {
   "cell_type": "code",
   "execution_count": 97,
   "metadata": {},
   "outputs": [
    {
     "data": {
      "text/plain": [
       "-3"
      ]
     },
     "execution_count": 97,
     "metadata": {},
     "output_type": "execute_result"
    }
   ],
   "source": [
    "math.trunc(-2.5)\n",
    "math.floor(-2.5)"
   ]
  },
  {
   "cell_type": "markdown",
   "metadata": {},
   "source": [
    "###    Fibonacci Sequence\n",
    "    A fibonacci seqquence is the integer sequence 0,1,1,2,3,5,8,13..\n",
    "    The first two terms are 0 and 1. All other terms are obtained \n",
    "    by adding the preceding two terms.\n",
    "    This means to say that the nth term is the sum of the (n-1)th and (n-1)th terms.\n",
    "    Fibonacci rule: Xn = Xn-1 + Xn-2"
   ]
  },
  {
   "cell_type": "code",
   "execution_count": 116,
   "metadata": {},
   "outputs": [
    {
     "name": "stdout",
     "output_type": "stream",
     "text": [
      "input number of terms: 9\n",
      "fibonacci sequence\n",
      "[0, 1, 1, 2, 3, 5, 8, 13, 21]\n",
      "end of fibonacci numbers\n"
     ]
    }
   ],
   "source": [
    "# program to display fibonacci series\n",
    "nterms = int(input('input number of terms: '))\n",
    "n1 , n2 = 0, 1\n",
    "counter = 0\n",
    "List = []\n",
    "if nterms <= 0:\n",
    "    print('please enter a +ve integer: ')\n",
    "elif nterms == 1:\n",
    "    print('fibonacci series upto ',nterms, \" \")\n",
    "    print(n1)\n",
    "else:\n",
    "    print('fibonacci sequence')\n",
    "    while counter < nterms:\n",
    "        List.append(n1)\n",
    "        term = n1 + n2\n",
    "        n1 = n2\n",
    "        n2 = term\n",
    "        counter += 1\n",
    "    print(List)\n",
    "print('end of fibonacci numbers')"
   ]
  },
  {
   "cell_type": "code",
   "execution_count": 118,
   "metadata": {},
   "outputs": [],
   "source": [
    "name_Age_loc = \"\"\"Name: Lipson Ernest  Salary: 5000  Age: 24\"\"\"\n",
    "# An example of multiline String literal"
   ]
  },
  {
   "cell_type": "code",
   "execution_count": 168,
   "metadata": {},
   "outputs": [
    {
     "name": "stdout",
     "output_type": "stream",
     "text": [
      "enter number: 9\n",
      "1 is an odd Number\n",
      "3 is an odd Number\n",
      "5 is an odd Number\n",
      "7 is an odd Number\n",
      "\n",
      "\n",
      "[1, 3, 5, 7]\n"
     ]
    }
   ],
   "source": [
    "# Python program to check if a num is odd or not\n",
    "number1 = int(input('enter number: '))\n",
    "for i in range(0,number1):\n",
    "    if i%2 == 1:\n",
    "        print(i, 'is an odd Number')\n",
    "    else:\n",
    "        continue\n",
    "\n",
    "# Using a list to append num\n",
    "List = []\n",
    "for i in range(0,number1):\n",
    "    if i%2 == 1:\n",
    "        List.append(i)\n",
    "    else:\n",
    "        continue\n",
    "print('\\n')\n",
    "print(List)\n",
    "\n",
    "number1 = int(input('enter number: '))\n",
    "for i in range(0,number1):\n",
    "    if i%2 == 1:\n",
    "        print(i, 'is an odd Number')\n",
    "    else:\n",
    "        continue"
   ]
  },
  {
   "cell_type": "code",
   "execution_count": 239,
   "metadata": {},
   "outputs": [
    {
     "name": "stdout",
     "output_type": "stream",
     "text": [
      "Please enter a number: 4\n",
      "4 is not a prime number\n",
      "2 times 2 is 4\n"
     ]
    }
   ],
   "source": [
    "# example 3. Checking for prime numbers and giving Explanations if they re not\n",
    "number1  = int(input('Please enter a number: '))\n",
    "if number1 > 1:\n",
    "    for i in range(2, number1):\n",
    "        if number1%i == 0:\n",
    "            print(number1, 'is not a prime number')\n",
    "            print(i,'times',number1//i,'is',number1)\n",
    "            break\n",
    "    else:\n",
    "        print(number1, 'is a prime number')\n",
    "elif number == 1:\n",
    "    print(number1, 'is not a prime number')\n",
    "elif number < 0:\n",
    "    print(\"Prime's cannot be negative\")"
   ]
  },
  {
   "cell_type": "code",
   "execution_count": 240,
   "metadata": {},
   "outputs": [
    {
     "name": "stdout",
     "output_type": "stream",
     "text": [
      "Please enter a number: 4\n",
      "4 is not a prime number\n"
     ]
    }
   ],
   "source": [
    "# example 4. Checking for prime numbers\n",
    "number1  = int(input('Please enter a number: '))\n",
    "if number1 > 1:\n",
    "    for i in range(2, number1-1):\n",
    "        if (number1%i) == 0:\n",
    "            print(number1, 'is not a prime number')\n",
    "            break\n",
    "    else:\n",
    "        print(number1, 'is a prime number')\n",
    "else:\n",
    "    print(number1, 'is not a prime number')"
   ]
  },
  {
   "cell_type": "code",
   "execution_count": 241,
   "metadata": {},
   "outputs": [
    {
     "name": "stdout",
     "output_type": "stream",
     "text": [
      "enter prime: 4\n",
      "4 is a prime number\n"
     ]
    }
   ],
   "source": [
    "# Non Workable code for prime numbers\n",
    "prime = int(input('enter prime: '))\n",
    "if prime > 1:\n",
    "    for i in range(2, prime-1):\n",
    "        if(prime%1 and prime%prime)==0:\n",
    "            print(prime, 'is a prime number')\n",
    "            break\n",
    "    else:\n",
    "        print(prime, 'is not a prime number')\n",
    "else:\n",
    "    print(\"prime's cannot be negative\") #My own code but could'nt work"
   ]
  },
  {
   "cell_type": "code",
   "execution_count": 243,
   "metadata": {},
   "outputs": [
    {
     "name": "stdout",
     "output_type": "stream",
     "text": [
      "Enter The Number4\n",
      "4 is not a Prime Number\n"
     ]
    }
   ],
   "source": [
    "# Prime number \n",
    "number = int(input(\"Enter The Number\"))\n",
    "\n",
    "if number > 1:\n",
    "    for i in range(2,int(number)):\n",
    "        if (number % i == 0):\n",
    "            print(number, \"is not a Prime Number\")\n",
    "            break\n",
    "    else:\n",
    "        print(number,\"is a Prime number\")   \n",
    "else:\n",
    "    print(number,\"is not a Prime number\")"
   ]
  },
  {
   "cell_type": "code",
   "execution_count": 222,
   "metadata": {},
   "outputs": [
    {
     "name": "stdout",
     "output_type": "stream",
     "text": [
      "please input initial range: 900\n",
      "please input terminal range: 1000\n",
      "[907, 911, 919, 929, 937, 941, 947, 953, 967, 971, 977, 983, 991, 997]\n"
     ]
    }
   ],
   "source": [
    "#program to print prime numbers given a range N\n",
    "primex = int(input('please input initial range: '))\n",
    "primey = int(input('please input terminal range: '))\n",
    "ListX = []\n",
    "for num in range(primex,primey+1):\n",
    "    for i in range(2, num):\n",
    "        if num%i == 0:\n",
    "            break\n",
    "    else:\n",
    "        ListX.append(num)\n",
    "print(ListX)"
   ]
  },
  {
   "cell_type": "code",
   "execution_count": 244,
   "metadata": {},
   "outputs": [
    {
     "name": "stdout",
     "output_type": "stream",
     "text": [
      "Prime numbers between 900 and 1000 are:\n",
      "907 911 919 929 937 941 947 953 967 971 977 983 991 997 "
     ]
    }
   ],
   "source": [
    "# Python program to display all the prime numbers within an interval\n",
    "lower = 900\n",
    "upper = 1000\n",
    "\n",
    "print(\"Prime numbers between\", lower, \"and\", upper, \"are:\")\n",
    "for num in range(lower, upper + 1):\n",
    "    for i in range(2, num):\n",
    "        if (num % i) == 0:\n",
    "            break\n",
    "    else:\n",
    "        print(num, end=\" \")"
   ]
  },
  {
   "cell_type": "code",
   "execution_count": 246,
   "metadata": {},
   "outputs": [
    {
     "ename": "SyntaxError",
     "evalue": "invalid token (<ipython-input-246-9e7cfb2978e9>, line 1)",
     "output_type": "error",
     "traceback": [
      "\u001b[0;36m  File \u001b[0;32m\"<ipython-input-246-9e7cfb2978e9>\"\u001b[0;36m, line \u001b[0;32m1\u001b[0m\n\u001b[0;31m    0bf010198330\u001b[0m\n\u001b[0m     ^\u001b[0m\n\u001b[0;31mSyntaxError\u001b[0m\u001b[0;31m:\u001b[0m invalid token\n"
     ]
    }
   ],
   "source": [
    "0bf010198330"
   ]
  },
  {
   "cell_type": "code",
   "execution_count": 249,
   "metadata": {},
   "outputs": [
    {
     "name": "stdout",
     "output_type": "stream",
     "text": [
      "many waters\n"
     ]
    }
   ],
   "source": [
    "print('many waters')"
   ]
  },
  {
   "cell_type": "code",
   "execution_count": 264,
   "metadata": {},
   "outputs": [
    {
     "name": "stdout",
     "output_type": "stream",
     "text": [
      "please input num: 19\n",
      "19 is an odd number\n"
     ]
    }
   ],
   "source": [
    "# python code to check if number is odd\n",
    "odd = int(input('please input num: '))\n",
    "if odd > 0:\n",
    "    if odd%2 == 0:\n",
    "        print(odd,'is not an odd number')\n",
    "    else:\n",
    "        print(odd,'is an odd number')\n",
    "else:\n",
    "    print(odd,'is negative and cannot be odd')"
   ]
  },
  {
   "cell_type": "code",
   "execution_count": 274,
   "metadata": {},
   "outputs": [
    {
     "name": "stdout",
     "output_type": "stream",
     "text": [
      "please input start point: 20\n",
      "please input terminal point: 50\n",
      "[21, 23, 25, 27, 29, 31, 33, 35, 37, 39, 41, 43, 45, 47, 49]\n"
     ]
    }
   ],
   "source": [
    "# python program to print odd numbers given a range\n",
    "odd1 = int(input('please input start point: '))\n",
    "odd2 = int(input('please input terminal point: '))\n",
    "List = []\n",
    "for i in range (odd1, odd2):\n",
    "    if i % 2 == 1:\n",
    "        List.append(i)\n",
    "    else:\n",
    "        continue\n",
    "print(List)"
   ]
  },
  {
   "cell_type": "code",
   "execution_count": 279,
   "metadata": {},
   "outputs": [
    {
     "name": "stdout",
     "output_type": "stream",
     "text": [
      "please input A: 10\n",
      "please input B: 50\n",
      "[10, 12, 14, 16, 18, 20, 22, 24, 26, 28, 30, 32, 34, 36, 38, 40, 42, 44, 46, 48]\n"
     ]
    }
   ],
   "source": [
    "# python program to print even numbers given a range\n",
    "even1 = int(input('please input A: '))\n",
    "even2 = int(input('please input B: '))\n",
    "List = []\n",
    "for i in range(even1,even2):\n",
    "    if i%2 == 0:\n",
    "        List.append(i)\n",
    "    else:\n",
    "        continue\n",
    "    #return List\n",
    "print(List)"
   ]
  },
  {
   "cell_type": "code",
   "execution_count": 282,
   "metadata": {},
   "outputs": [
    {
     "name": "stdout",
     "output_type": "stream",
     "text": [
      "please input A: 1\n",
      "please input B: 16\n",
      "1 is not even please 2 is an even number 3 is not even please 4 is an even number 5 is not even please 6 is an even number 7 is not even please 8 is an even number 9 is not even please 10 is an even number 11 is not even please 12 is an even number 13 is not even please 14 is an even number 15 is not even please "
     ]
    }
   ],
   "source": [
    "even1 = int(input('please input A: '))\n",
    "even2 = int(input('please input B: '))\n",
    "for i in range(even1,even2):\n",
    "    if i%2 == 0:\n",
    "        print(i,'is an even number')\n",
    "    else:\n",
    "        print(i,'is not even please')"
   ]
  },
  {
   "cell_type": "code",
   "execution_count": 285,
   "metadata": {},
   "outputs": [
    {
     "name": "stdout",
     "output_type": "stream",
     "text": [
      " 2   3   5   7   11   13   17   19   23   29   31   37   41   43   47   53   59   61   67   71   73   79   83   89   97  "
     ]
    }
   ],
   "source": [
    "# Python Program to print Prime Numbers from 1 to 100\n",
    "for Number in range (1, 101):\n",
    "    count = 0\n",
    "    for i in range(2, (Number//2 + 1)):\n",
    "        if(Number % i == 0):\n",
    "            count = count + 1\n",
    "            break\n",
    "    if (count == 0 and Number != 1):\n",
    "        print(\" %d\" %Number, end = '  ')"
   ]
  },
  {
   "cell_type": "code",
   "execution_count": 288,
   "metadata": {},
   "outputs": [
    {
     "name": "stdout",
     "output_type": "stream",
     "text": [
      " 2   3   5   7  "
     ]
    }
   ],
   "source": [
    "# Python Program to print Prime Numbers from 1 to 10\n",
    "#using the while loop \n",
    "Number = 1\n",
    "\n",
    "while(Number <= 10):\n",
    "    count = 0\n",
    "    i = 2\n",
    "    \n",
    "    while(i <= Number//2):\n",
    "        if(Number % i == 0):\n",
    "            count = count + 1\n",
    "            break\n",
    "        i = i + 1\n",
    "\n",
    "    if (count == 0 and Number != 1):\n",
    "        print(\" %d\" %Number, end = '  ')\n",
    "    Number = Number  + 1"
   ]
  },
  {
   "cell_type": "code",
   "execution_count": 287,
   "metadata": {},
   "outputs": [
    {
     "name": "stdout",
     "output_type": "stream",
     "text": [
      " Please Enter the Minimum Value: 2\n",
      " Please Enter the Maximum Value: 16\n",
      " 2   3   5   7   11   13  "
     ]
    }
   ],
   "source": [
    "# Python Program to print Prime Numbers from 1 to N\n",
    " \n",
    "minimum = int(input(\" Please Enter the Minimum Value: \"))\n",
    "maximum = int(input(\" Please Enter the Maximum Value: \"))\n",
    "\n",
    "for Number in range (minimum, maximum + 1):\n",
    "    count = 0\n",
    "    for i in range(2, (Number//2 + 1)):\n",
    "        if(Number % i == 0):\n",
    "            count = count + 1\n",
    "            break\n",
    "\n",
    "    if (count == 0 and Number != 1):\n",
    "        print(\" %d\" %Number, end = '  ')"
   ]
  },
  {
   "cell_type": "code",
   "execution_count": 289,
   "metadata": {},
   "outputs": [
    {
     "name": "stdout",
     "output_type": "stream",
     "text": [
      " Please Enter the Minimum Value: 19\n",
      " Please Enter the Maximum Value: 50\n",
      " 19   23   29   31   37   41   43   47  "
     ]
    }
   ],
   "source": [
    "# Python Program to print Prime Numbers from 1 to N\n",
    "# using a while loop\n",
    "minimum = int(input(\" Please Enter the Minimum Value: \"))\n",
    "maximum = int(input(\" Please Enter the Maximum Value: \"))\n",
    "\n",
    "Number = minimum\n",
    "\n",
    "while(Number <= maximum):\n",
    "    count = 0\n",
    "    i = 2\n",
    "    \n",
    "    while(i <= Number//2):\n",
    "        if(Number % i == 0):\n",
    "            count = count + 1\n",
    "            break\n",
    "        i = i + 1\n",
    "\n",
    "    if (count == 0 and Number != 1):\n",
    "        print(\" %d\" %Number, end = '  ')\n",
    "    Number = Number  + 1"
   ]
  },
  {
   "cell_type": "code",
   "execution_count": 290,
   "metadata": {},
   "outputs": [
    {
     "name": "stdout",
     "output_type": "stream",
     "text": [
      " Please Enter the Minimum Value: 18\n",
      " Please Enter the Maximum Value: 100\n",
      " 19   23   29   31   37   41   43   47   53   59   61   67   71   73   79   83   89   97  \n",
      "\n",
      "Sum of Prime Numbers from 18 to 100 = 1002\n"
     ]
    }
   ],
   "source": [
    "# Python Program to find Sum of Prime Numbers from 1 to N\n",
    " \n",
    "minimum = int(input(\" Please Enter the Minimum Value: \"))\n",
    "maximum = int(input(\" Please Enter the Maximum Value: \"))\n",
    "total = 0\n",
    "\n",
    "for Number in range (minimum, maximum + 1):\n",
    "    count = 0\n",
    "    for i in range(2, (Number//2 + 1)):\n",
    "        if(Number % i == 0):\n",
    "            count = count + 1\n",
    "            break\n",
    "\n",
    "    if (count == 0 and Number != 1):\n",
    "        print(\" %d\" %Number, end = '  ')\n",
    "        total = total + Number\n",
    "\n",
    "print(\"\\n\\nSum of Prime Numbers from %d to %d = %d\" %(minimum, maximum, total))"
   ]
  },
  {
   "cell_type": "code",
   "execution_count": 291,
   "metadata": {},
   "outputs": [
    {
     "name": "stdout",
     "output_type": "stream",
     "text": [
      " Please Enter the Minimum Value: 18\n",
      " Please Enter the Maximum Value: 99\n",
      " 19   23   29   31   37   41   43   47   53   59   61   67   71   73   79   83   89   97  \n",
      "\n",
      "Sum of Prime Numbers from 18 to 99 = 1002\n"
     ]
    }
   ],
   "source": [
    "# Python Program to print Prime Numbers from 1 to N\n",
    " \n",
    "minimum = int(input(\" Please Enter the Minimum Value: \"))\n",
    "maximum = int(input(\" Please Enter the Maximum Value: \"))\n",
    "total = 0\n",
    "\n",
    "Number = minimum\n",
    "\n",
    "while(Number <= maximum):\n",
    "    count = 0\n",
    "    i = 2\n",
    "    \n",
    "    while(i <= Number//2):\n",
    "        if(Number % i == 0):\n",
    "            count = count + 1\n",
    "            break\n",
    "        i = i + 1\n",
    "\n",
    "    if (count == 0 and Number != 1):\n",
    "        print(\" %d\" %Number, end = '  ')\n",
    "        total = total + Number\n",
    "    Number = Number  + 1\n",
    "        \n",
    "print(\"\\n\\nSum of Prime Numbers from %d to %d = %d\" %(minimum, maximum, total))"
   ]
  },
  {
   "cell_type": "code",
   "execution_count": 292,
   "metadata": {},
   "outputs": [
    {
     "name": "stdout",
     "output_type": "stream",
     "text": [
      " Please enter Number of Units you Consumed : 134\n",
      "\n",
      "Electricity Bill = 516.34\n"
     ]
    }
   ],
   "source": [
    "# Python Program to Calculate Electricity Bill\n",
    "units = int(input(\" Please enter Number of Units you Consumed : \"))\n",
    "\n",
    "if(units < 50):\n",
    "    amount = units * 2.60\n",
    "    surcharge = 25\n",
    "elif(units <= 100):\n",
    "    amount = 130 + ((units - 50) * 3.25)\n",
    "    surcharge = 35\n",
    "elif(units <= 200):\n",
    "    amount = 130 + 162.50 + ((units - 100) * 5.26)\n",
    "    surcharge = 45\n",
    "else:\n",
    "    amount = 130 + 162.50 + 526 + ((units - 200) * 8.45)\n",
    "    surcharge = 75\n",
    "\n",
    "total = amount + surcharge\n",
    "print(\"\\nElectricity Bill = %.2f\"  %total)"
   ]
  },
  {
   "cell_type": "code",
   "execution_count": 2,
   "metadata": {},
   "outputs": [
    {
     "data": {
      "text/plain": [
       "[20.0, 'bedroom', 10.75, 'bathroom', 9.5]"
      ]
     },
     "execution_count": 2,
     "metadata": {},
     "output_type": "execute_result"
    }
   ],
   "source": [
    "areas = [\"hallway\", 11.25, \"kitchen\", 18.0, \"living room\", 20.0, \"bedroom\", 10.75, \"bathroom\", 9.50]\n",
    "areas[-5:]"
   ]
  },
  {
   "cell_type": "markdown",
   "metadata": {},
   "source": [
    "Functions \n",
    "Functions are a set of reusable code."
   ]
  },
  {
   "cell_type": "markdown",
   "metadata": {},
   "source": [
    "## Numpy\n",
    "numpy is great for doing vector arithmetic. If you compare its functionality with regular Python lists, however, some things have changed.\n",
    "\n",
    "First of all, numpy arrays cannot contain elements with different types. If you try to build such a list, some of the elements' types are changed to end up with a homogeneous list. This is known as type coercion.\n",
    "\n",
    "Second, the typical arithmetic operators, such as +, -, * and / have a different meaning for regular Python lists and numpy arrays.\n",
    "\n",
    "Have a look at this line of code:\n",
    "np.array([True, 1, 2]) + np.array([3, 4, False])"
   ]
  },
  {
   "cell_type": "markdown",
   "metadata": {},
   "source": [
    "# Subsetting 2D NumPy Arrays\n",
    "\n",
    "If your 2D numpy array has a regular structure, i.e. each row and column has a fixed number of values, complicated ways of subsetting become very easy. Have a look at the code below where the elements \"a\" and \"c\" are extracted from a list of lists.\n",
    "\n",
    "## regular list of lists\n",
    "x = [[\"a\", \"b\"], [\"c\", \"d\"]]\n",
    "[x[0][0], x[1][0]]\n",
    "\n",
    "## numpy\n",
    "import numpy as np\n",
    "np_x = np.array(x)\n",
    "np_x[:,0]\n",
    "\n",
    "For regular Python lists, this is a real pain. For 2D numpy arrays, however, it's pretty intuitive! The indexes before the comma refer to the rows, while those after the comma refer to the columns. The : is for slicing; in this example, it tells Python to include all rows.\n",
    "\n",
    "The code that converts the pre-loaded baseball list to a 2D numpy array is already in the script. The first column contains the players' height in inches and the second column holds player weight, in pounds. Add some lines to make the correct selections. Remember that in Python, the first element is at index 0!"
   ]
  },
  {
   "cell_type": "code",
   "execution_count": 26,
   "metadata": {
    "collapsed": true
   },
   "outputs": [
    {
     "name": "stdout",
     "output_type": "stream",
     "text": [
      "xxxxxx\n",
      "xxxxxx\n",
      "xxxxxx\n",
      "xxxxxx\n",
      "xxxxxx\n",
      "\n",
      "x\n",
      "xx\n",
      "xxx\n",
      "xxxx\n",
      "xxxxx\n",
      "xxxxx\n",
      "xxxx\n",
      "xxx\n",
      "xx\n",
      "x\n",
      "\n",
      "xxxxx\n",
      "xxxx\n",
      "xxx\n",
      "xx\n",
      "x\n"
     ]
    }
   ],
   "source": [
    "#Printing Patterns\n",
    "for i in range(5):\n",
    "    for j in range(6):\n",
    "        print('x', end=\"\")\n",
    "    print()\n",
    "print()  \n",
    "\n",
    "for i in range(5):\n",
    "    for j in range(i+1):\n",
    "        print('x', end=\"\")\n",
    "    print()\n",
    "for i in range(5):\n",
    "    for j in range(5-i):\n",
    "        print('x', end=\"\")\n",
    "    print()\n",
    "print()   \n",
    "    \n",
    "for i in range(5):\n",
    "    for j in range(5-i):\n",
    "        print('x', end=\"\")\n",
    "    print()"
   ]
  },
  {
   "cell_type": "code",
   "execution_count": 27,
   "metadata": {},
   "outputs": [
    {
     "name": "stdout",
     "output_type": "stream",
     "text": [
      "20\n"
     ]
    }
   ],
   "source": [
    "#for else loops...\n",
    "ListK = [20,19,67,12,88,15,9]\n",
    "for i in ListK:\n",
    "    if i%5 == 0:\n",
    "        print(i)\n",
    "        break\n",
    "else:\n",
    "    print('Not found')"
   ]
  },
  {
   "cell_type": "code",
   "execution_count": 67,
   "metadata": {},
   "outputs": [
    {
     "name": "stdout",
     "output_type": "stream",
     "text": [
      "array('I', [7, 5, 9, 8, 4, 2, 9])\n",
      "array('i', [-9, 8, 12, -11])\n",
      "(140645904923904, 4)\n",
      "i\n",
      "array('i', [-11, 12, 8, -9])\n",
      "-11 12 8 -9 \n",
      "-11 12 8 -9 \n",
      "121 144 64 81 "
     ]
    }
   ],
   "source": [
    "#Arrays\n",
    "import array as ay\n",
    "vals = ay.array('I',[7, 5, 9, 8, 4, 2, 9])\n",
    "print(vals)\n",
    "\n",
    "vals2 = ay.array('i',[-9, 8, 12, -11])\n",
    "print(vals2)\n",
    "\n",
    "#to determine the size and address of an array\n",
    "vals2 = ay.array('i',[-9, 8, 12, -11])\n",
    "print(vals2.buffer_info()) #first argument shows the address, second argument is size\n",
    "print(vals2.typecode)\n",
    "vals2.reverse()\n",
    "print(vals2)\n",
    "\n",
    "for i in vals2:\n",
    "    print(i, end=\" \")\n",
    "print()\n",
    "for i in range(len(vals2)):\n",
    "    print(vals2[i], end=\" \")\n",
    "print() \n",
    "\n",
    "#creating a new array from an existing array\n",
    "from array import *\n",
    "newArr = array(vals2.typecode, (a*a for a in vals2))\n",
    "for i in newArr:\n",
    "    print(i, end=\" \")"
   ]
  },
  {
   "cell_type": "code",
   "execution_count": 74,
   "metadata": {},
   "outputs": [
    {
     "name": "stdout",
     "output_type": "stream",
     "text": [
      "enter length of array: 4\n",
      "please input array elements: 12\n",
      "please input array elements: 6\n",
      "please input array elements: 7\n",
      "please input array elements: 9\n",
      "array('i', [12, 6, 7, 9])\n",
      "enter the search value:  6\n",
      "True\n",
      "1\n",
      "1\n"
     ]
    }
   ],
   "source": [
    "#asking user input to fill an empty array\n",
    "from array import *\n",
    "myArray = array('i', []) #crreating an empty array\n",
    "n = int(input('enter length of array: '))\n",
    "for i in range(n):\n",
    "    usArray = int(input('please input array elements: '))\n",
    "    myArray.append(usArray)\n",
    "    \n",
    "print(myArray)\n",
    "\n",
    "#searching for a number in the given array\n",
    "newVal = int(input('enter the search value:  '))\n",
    "k = 0\n",
    "for e in myArray:\n",
    "    if e==newVal:\n",
    "        print('True')\n",
    "        break\n",
    "else:\n",
    "    print('false')\n",
    "#printing the index of a given array element\n",
    "for e in myArray:\n",
    "    if e==newVal:\n",
    "        print(k)\n",
    "        break\n",
    "    k+=1\n",
    "#using python built in fxn to check the index\n",
    "print(myArray.index(newVal))"
   ]
  },
  {
   "cell_type": "code",
   "execution_count": 82,
   "metadata": {},
   "outputs": [
    {
     "name": "stdout",
     "output_type": "stream",
     "text": [
      "[ 9 16 19 13]\n",
      "Hell\n"
     ]
    }
   ],
   "source": [
    "import numpy\n",
    "array = numpy.array([9, 16, 19, 13], int)\n",
    "print(array)\n",
    "\n",
    "xstring = 'Hello everyone'[0:4]#how to return a part of a string\n",
    "print(xstring)"
   ]
  },
  {
   "cell_type": "code",
   "execution_count": 84,
   "metadata": {},
   "outputs": [
    {
     "name": "stdout",
     "output_type": "stream",
     "text": [
      "Hello everyone\n"
     ]
    }
   ],
   "source": [
    "xstring = '   Hello everyone   '.strip()\n",
    "print(xstring)"
   ]
  }
 ],
 "metadata": {
  "kernelspec": {
   "display_name": "Python 3",
   "language": "python",
   "name": "python3"
  },
  "language_info": {
   "codemirror_mode": {
    "name": "ipython",
    "version": 3
   },
   "file_extension": ".py",
   "mimetype": "text/x-python",
   "name": "python",
   "nbconvert_exporter": "python",
   "pygments_lexer": "ipython3",
   "version": "3.7.4"
  }
 },
 "nbformat": 4,
 "nbformat_minor": 2
}
