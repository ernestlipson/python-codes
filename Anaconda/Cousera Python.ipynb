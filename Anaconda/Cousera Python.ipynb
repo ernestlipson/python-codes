{
 "cells": [
  {
   "cell_type": "markdown",
   "metadata": {},
   "source": [
    "### What can Python do?\n",
    "\n",
    "    Python can be used on a server to create web applications.\n",
    "    Python can be used alongside software to create workflows.\n",
    "    Python can connect to database systems. It can also read and modify files.\n",
    "    Python can be used to handle big data and perform complex mathematics.\n",
    "    Python can be used for rapid prototyping, or for production-ready software development.\n",
    "\n",
    "### Why Python?\n",
    "\n",
    "    Python works on different platforms (Windows, Mac, Linux, Raspberry Pi, etc).\n",
    "    Python runs on an interpreter system, meaning that code can be executed as soon as it is written. This means that prototyping can be very quick.\n",
    "    Python can be treated in a procedural way, an object-orientated way or a functional way\n",
    "    Python relies on indentation, using whitespace, to define scope; such as the scope of loops, functions and classes. Other programming languages often use curly-brackets for this purpose.\n",
    "    \n",
    "### Multi Line Comments\n",
    "\n",
    "    Python does not really have a syntax for multi line comments.\n",
    "    To add a multiline comment you could insert a # for each line:\n",
    "    Or, not quite as intended, you can use a multiline string.\n",
    "    Since Python will ignore string literals that are not assigned to a variable, you can  add a multiline string (triple quotes) in your code, and place your comment inside it:\n",
    "    As long as the string is not assigned to a variable, Python will read the code, but then ignore it, and you have made a multiline comment.\n"
   ]
  },
  {
   "cell_type": "code",
   "execution_count": 7,
   "metadata": {},
   "outputs": [
    {
     "name": "stdout",
     "output_type": "stream",
     "text": [
      "Orange\n",
      "Banana\n",
      "Cherry\n",
      "Orange\n",
      "Orange\n",
      "Orange\n",
      "Python is awesome\n",
      "Python is awesome\n",
      "Python is fantastic\n",
      "Python is awesome\n",
      "Python is fantastic\n",
      "Python is fantastic\n"
     ]
    }
   ],
   "source": [
    "#Python allows you to assign values to multiple variables in one line:\n",
    "x, y, z = \"Orange\", \"Banana\", \"Cherry\"\n",
    "print(x)\n",
    "print(y)\n",
    "print(z)\n",
    "#And you can assign the same value to multiple variables in one line:\n",
    "x = y = z = \"Orange\"\n",
    "print(x)\n",
    "print(y)\n",
    "print(z)\n",
    "\n",
    "#The Python print statement is often used to output variables.\n",
    "#To combine both text and a variable, Python uses the + character\n",
    "x = \"awesome\"\n",
    "print(\"Python is \" + x)\n",
    "x = \"Python is \"\n",
    "y = \"awesome\"\n",
    "z =  x + y\n",
    "print(z)\n",
    "\n",
    "'''If you create a variable with the same name inside a function, \n",
    "this variable will be local, and can only be used inside the function. \n",
    "The global variable with the same name will remain as it was,\n",
    "global and with the original value.'''\n",
    "\n",
    "\n",
    "x = \"awesome\"\n",
    "\n",
    "def myfunc():\n",
    "  x = \"fantastic\"\n",
    "  print(\"Python is \" + x)\n",
    "myfunc()\n",
    "print(\"Python is \" + x) \n",
    "\n",
    "#Normally, when you create a variable inside a function, \n",
    "#that variable is local, and can only be used inside that function.\n",
    "#To create a global variable inside a function, you can use the global keyword.\n",
    "\n",
    "#If you use the global keyword, the variable belongs to the global scope:\n",
    "\n",
    "def myfunc():\n",
    "  global x\n",
    "  x = \"fantastic\"\n",
    "myfunc()\n",
    "print(\"Python is \" + x) \n",
    "\n",
    "\n",
    "#Also, use the global keyword if you want to change a global variable inside a function.\n",
    "#To change the value of a global variable inside a function, \n",
    "#refer to the variable by using the global keyword:\n",
    "\n",
    "x = \"awesome\"\n",
    "\n",
    "def myfunc():\n",
    "  global x\n",
    "  x = \"fantastic\"\n",
    "myfunc()\n",
    "print(\"Python is \" + x) "
   ]
  },
  {
   "cell_type": "markdown",
   "metadata": {},
   "source": [
    "### Built-in Data Types\n",
    "    Text Type: => \tstr\n",
    "    Numeric Types: =>\tint, float, complex\n",
    "    Sequence Types: =>\tlist, tuple, range\n",
    "    Mapping Type: =>\tdict\n",
    "    Set Types: =>  set, frozenset\n",
    "    Boolean Type: =>\tbool\n",
    "    Binary Types: =>\tbytes, bytearray, memoryview\n",
    "    \n",
    "    Float, or \"floating point number\" is a number, positive or negative, containing one or more decimals.\n",
    "    Float can also be scientific numbers with an \"e\" to indicate the power of 10."
   ]
  },
  {
   "cell_type": "code",
   "execution_count": 1,
   "metadata": {},
   "outputs": [
    {
     "name": "stdout",
     "output_type": "stream",
     "text": [
      "<class 'int'>\n",
      "<class 'complex'>\n",
      "{'apple', 'mongoDB', 'banana'}\n",
      "<class 'set'>\n",
      "540000000.0\n"
     ]
    }
   ],
   "source": [
    "xlab = int(5)\n",
    "print(type(xlab))\n",
    "\n",
    "xcom = 1j\n",
    "print(type(xcom))\n",
    "\n",
    "x = set(('apple', 'banana', 'mongoDB'))\n",
    "print(x)\n",
    "print(type(x))\n",
    "\n",
    "bfloat = 54e7 # Float can also be scientific numbers with an \"e\" \n",
    "              # to indicate the power of 10.\n",
    "print(bfloat)"
   ]
  },
  {
   "cell_type": "code",
   "execution_count": 2,
   "metadata": {},
   "outputs": [
    {
     "name": "stdout",
     "output_type": "stream",
     "text": [
      "1.0 2 (1+0j)\n"
     ]
    }
   ],
   "source": [
    "# type conversion\n",
    "x, y, z = 1, 2.8, 1j\n",
    "\n",
    "a = float(x)\n",
    "b = int(y)\n",
    "c = complex(a)\n",
    "\n",
    "print(a, b, c)\n",
    "# You cannot convert complex types into another number type."
   ]
  },
  {
   "cell_type": "markdown",
   "metadata": {},
   "source": [
    "### Random Number\n",
    "\n",
    "    Python does not have a random() function to make a random number, but Python has a built-in module called random that can be used to make random numbers:"
   ]
  },
  {
   "cell_type": "code",
   "execution_count": 7,
   "metadata": {},
   "outputs": [
    {
     "name": "stdout",
     "output_type": "stream",
     "text": [
      "5\n"
     ]
    }
   ],
   "source": [
    "# generating a random Number\n",
    "import random as r\n",
    "print(r.randrange(1,10))"
   ]
  },
  {
   "cell_type": "code",
   "execution_count": 10,
   "metadata": {},
   "outputs": [
    {
     "name": "stdout",
     "output_type": "stream",
     "text": [
      "13\n"
     ]
    }
   ],
   "source": [
    "from random import *\n",
    "print(randrange(2, 20))"
   ]
  },
  {
   "cell_type": "code",
   "execution_count": 16,
   "metadata": {},
   "outputs": [
    {
     "name": "stdout",
     "output_type": "stream",
     "text": [
      "11\n"
     ]
    }
   ],
   "source": [
    "from random import randrange\n",
    "print(randrange(1, 14))"
   ]
  },
  {
   "cell_type": "markdown",
   "metadata": {},
   "source": [
    "### Strings are Arrays in Python\n",
    "\n",
    "    Like many other popular programming languages, strings in Python are arrays of \n",
    "    bytes representing unicode characters.\n",
    "    However, Python does not have a character data type, a single character \n",
    "    is simply a string with a length of 1.\n",
    "    Square brackets can be used to access elements of the string."
   ]
  },
  {
   "cell_type": "code",
   "execution_count": 17,
   "metadata": {},
   "outputs": [
    {
     "name": "stdout",
     "output_type": "stream",
     "text": [
      "y\n",
      "ah\n",
      "ytho\n",
      "11\n",
      "Hello, World!\n",
      "hello, world!\n",
      "HELLO, WORLD!\n",
      "Jello, World!\n",
      "['Hello', ' World!']\n",
      "True\n",
      "False\n",
      "HelloWorld\n",
      "Hello World\n"
     ]
    }
   ],
   "source": [
    "a = 'hello python'\n",
    "print(a[7])\n",
    "\n",
    "# slicing\n",
    "# You can return a range of characters by using the slice syntax.\n",
    "b = 'yeah python'\n",
    "print(b[2:4])\n",
    "print(b[-5:-1])\n",
    "\n",
    "# String Length\n",
    "# To get the length of a string, use the len() function.\n",
    "print(len(b))\n",
    "\n",
    "# String Methods\n",
    "# The strip() method removes any whitespace from the beginning or the end:\n",
    "a = \" Hello, World! \"\n",
    "print(a.strip()) # returns \"Hello, World!\" \n",
    "\n",
    "# The lower() method returns the string in lower case:\n",
    "a = \"Hello, World!\"\n",
    "print(a.lower())\n",
    "\n",
    "# The upper() method returns the string in upper case:\n",
    "a = \"Hello, World!\"\n",
    "print(a.upper())\n",
    "\n",
    "# The replace() method replaces a string with another string:\n",
    "a = \"Hello, World!\"\n",
    "print(a.replace(\"H\", \"J\"))\n",
    "\n",
    "# The split() method splits the string into substrings \n",
    "# if it finds instances of the separator:\n",
    "a = \"Hello, World!\"\n",
    "print(a.split(\",\")) # returns ['Hello', ' World!'] \n",
    "\n",
    "# To check if a certain phrase or character is present in a string, \n",
    "# we can use the keywords in or not in.\n",
    "# Check if the phrase \"ain\" is present in the following text:\n",
    "txt = \"The rain in Spain stays mainly in the plain\"\n",
    "x = \"ain\" in txt\n",
    "print(x)\n",
    "\n",
    "# Check if the phrase \"ain\" is NOT present in the following text:\n",
    "txt = \"The rain in Spain stays mainly in the plain\"\n",
    "x = \"ain\" not in txt\n",
    "print(x)\n",
    "\n",
    "# String Concatenation\n",
    "# To concatenate, or combine, two strings you can use the + operator.\n",
    "# Merge variable a with variable b into variable c:\n",
    "a = \"Hello\"\n",
    "b = \"World\"\n",
    "c = a + b\n",
    "print(c)\n",
    "\n",
    "# To add a space between them, add a \" \":\n",
    "a = \"Hello\"\n",
    "b = \"World\"\n",
    "c = a + \" \" + b\n",
    "print(c)"
   ]
  },
  {
   "cell_type": "markdown",
   "metadata": {},
   "source": [
    "### String Format\n",
    "\n",
    "    We cannot combine strings and numbers like this:\n",
    "    age = 36\n",
    "    txt = \"My name is John, I am \" + age\n",
    "    print(txt)\n",
    "    \n",
    "    But we can combine strings and numbers by using the format() method!\n",
    "    The format() method takes the passed arguments, formats them, \n",
    "    and places them in the string where the placeholders {} are.\n",
    "   ### Use the format() method to insert numbers into strings:\n",
    "    age = 36\n",
    "    txt = \"My name is John, and I am {}\"\n",
    "    print(txt.format(age))\n",
    "    The format() method takes unlimited number of arguments, \n",
    "    and are placed into the respective placeholders:\n",
    "    You can use indexes numbers {0} to be sure the arguments are placed \n",
    "    in the correct placeholders."
   ]
  },
  {
   "cell_type": "code",
   "execution_count": 19,
   "metadata": {},
   "outputs": [
    {
     "name": "stdout",
     "output_type": "stream",
     "text": [
      "My name is John, and I am 36\n",
      "My name is ernest lipson, I am 78.19 in height and 16.19 in weight\n"
     ]
    }
   ],
   "source": [
    "age = 36\n",
    "txt = \"My name is John, and I am {}\"\n",
    "print(txt.format(age))\n",
    "\n",
    "# example 2:\n",
    "height = 78.19\n",
    "bmi = 16.19\n",
    "name = 'ernest lipson'\n",
    "info = 'My name is {}, I am {} in height and {} in weight'\n",
    "print(info.format(name,height,bmi))"
   ]
  },
  {
   "cell_type": "code",
   "execution_count": 20,
   "metadata": {},
   "outputs": [
    {
     "name": "stdout",
     "output_type": "stream",
     "text": [
      "I want 3 pieces of item ie. 567 for 49.95 dollars.\n"
     ]
    }
   ],
   "source": [
    "quantity = 3\n",
    "itemno = 567\n",
    "price = 49.95\n",
    "myorder = \"I want {} pieces of item ie. {} for {} dollars.\"\n",
    "print(myorder.format(quantity, itemno, price))"
   ]
  },
  {
   "cell_type": "code",
   "execution_count": 43,
   "metadata": {},
   "outputs": [
    {
     "name": "stdout",
     "output_type": "stream",
     "text": [
      "I want to pay 49.95 dollars for 3 pieces of item 567.\n"
     ]
    }
   ],
   "source": [
    "# You can use indexes numbers {0} to be sure the arguments \n",
    "# are placed in the correct placeholders.\n",
    "quantity = 3\n",
    "itemno = 567\n",
    "price = 49.95\n",
    "myorder = \"I want to pay {2} dollars for {0} pieces of item {1}.\"\n",
    "print(myorder.format(quantity, itemno, price))"
   ]
  },
  {
   "cell_type": "code",
   "execution_count": 44,
   "metadata": {
    "scrolled": true
   },
   "outputs": [
    {
     "name": "stdout",
     "output_type": "stream",
     "text": [
      "I want 19 bags of rice, 18.199 per bag and 78 bottles of wine\n"
     ]
    }
   ],
   "source": [
    "# example 2\n",
    "bot = 18.199\n",
    "rel = 78\n",
    "price = 19\n",
    "need = 'I want {2} bags of rice, {0} per bag and {1} bottles of wine'\n",
    "print(need.format(bot,rel,price))"
   ]
  },
  {
   "cell_type": "markdown",
   "metadata": {},
   "source": [
    "### Escape Character\n",
    "\n",
    "    To insert characters that are illegal in a string, use an escape character.\n",
    "    An escape character is a backslash \\ followed by the character you want to insert.\n",
    "    An example of an illegal character is a double quote (\"\") inside a string \n",
    "    that is surrounded by double quotes.\n",
    "    \n",
    "    Example\n",
    "    You will get an error if you use double quotes inside a string \n",
    "    that is surrounded by double quotes:\n",
    "    \n",
    "    txt = \"We are the so-called \"Vikings\" from the north.\"\n",
    "    To fix this problem, use the escape character \\\":\n",
    "    \n",
    "    Example\n",
    "    The escape character allows you to use double quotes when you \n",
    "    normally would not be allowed:\n",
    "    \n",
    "    txt = \"We are the so-called \\\"Vikings\\\" from the north.\""
   ]
  },
  {
   "cell_type": "code",
   "execution_count": 22,
   "metadata": {},
   "outputs": [
    {
     "name": "stdout",
     "output_type": "stream",
     "text": [
      "We are the so-called \"Vikings\" from the north.\n"
     ]
    }
   ],
   "source": [
    "# txtA = \"We are the so-called \"Vikings\" from the north.\"\n",
    "txtB = \"We are the so-called \\\"Vikings\\\" from the north.\"\n",
    "print(txtB)"
   ]
  },
  {
   "cell_type": "code",
   "execution_count": 23,
   "metadata": {},
   "outputs": [
    {
     "name": "stdout",
     "output_type": "stream",
     "text": [
      "26 46687 15\n"
     ]
    }
   ],
   "source": [
    "# binary, hexadicimal numbers\n",
    "a = 0b11010\n",
    "b = 0xb65f\n",
    "c = 0b1111\n",
    "print(a, b, c)"
   ]
  },
  {
   "cell_type": "markdown",
   "metadata": {},
   "source": [
    "### Python Booleans\n",
    "    The bool() function allows you to evaluate any value, \n",
    "    and give you True or False in return,\n",
    "    \n",
    "    Evaluate a string and a number:\n",
    "    print(bool(\"Hello\"))\n",
    "    print(bool(15))\n",
    "    print(bool('everyone'))\n",
    "    \n",
    "    All the above code returns true if evaluated\n",
    "    Most Values are True\n",
    "\n",
    "    Almost any value is evaluated to True if it has some sort of content.\n",
    "    Any string is True, except empty strings.\n",
    "    Any number is True, except 0.\n",
    "    Any list, tuple, set, and dictionary are True, except empty ones.\n",
    "    In fact, there are not many values that evaluates to False, except empty values, \n",
    "    such as (), [], {}, \"\", the number 0, and the value None. \n",
    "    And of course the value False evaluates to False.\n",
    "    Python also has many built-in functions that returns a boolean value, \n",
    "    like the isinstance() function, which can be used to determine if an \n",
    "    object is of a certain data type:\n",
    "    \n",
    "    Example\n",
    "    Check if an object is an integer or not:\n",
    "        isinstance(x, int)"
   ]
  },
  {
   "cell_type": "code",
   "execution_count": 28,
   "metadata": {},
   "outputs": [
    {
     "name": "stdout",
     "output_type": "stream",
     "text": [
      "True\n",
      "False\n",
      "False\n",
      "True\n",
      "True\n"
     ]
    }
   ],
   "source": [
    "print(bool(['work', 'assumption']))\n",
    "print(bool([]))\n",
    "x = 200\n",
    "mol = 'mol index of 50g'\n",
    "print(isinstance(x, float)) \n",
    "print(isinstance(x, int))\n",
    "print(isinstance(mol, str))"
   ]
  },
  {
   "cell_type": "markdown",
   "metadata": {},
   "source": [
    "### Python Identity Operators\n",
    "\n",
    "    Identity operators are used to compare the objects, not if they are equal, \n",
    "    but if they are actually the same object, with the same memory location:\n",
    "\n",
    "    is:  \tReturns true if both variables are the same object \t\n",
    "    is not: \tReturns true if both variables are not the same object"
   ]
  },
  {
   "cell_type": "code",
   "execution_count": 14,
   "metadata": {},
   "outputs": [
    {
     "name": "stdout",
     "output_type": "stream",
     "text": [
      "True\n",
      "False\n",
      "True\n"
     ]
    }
   ],
   "source": [
    "x = [\"apple\", \"banana\"]\n",
    "y = [\"apple\", \"banana\"]\n",
    "z = x\n",
    "\n",
    "print(x is z)\n",
    "# returns True because z is the same object as x, and has the same memory location\n",
    "print(x is y)\n",
    "# returns False because x is not the same object as y, even if they have the same content\n",
    "print(x == y)\n",
    "# to demonstrate the difference betweeen \"is\" and \"==\": \n",
    "# this comparison returns True because x is equal to y"
   ]
  },
  {
   "cell_type": "code",
   "execution_count": 1,
   "metadata": {},
   "outputs": [
    {
     "name": "stdout",
     "output_type": "stream",
     "text": [
      "False\n",
      "True\n",
      "False\n"
     ]
    }
   ],
   "source": [
    "x = [\"apple\", \"banana\"]\n",
    "y = [\"apple\", \"banana\"]\n",
    "z = x\n",
    "\n",
    "print(x is not z)\n",
    "# returns False because z is the same object as x\n",
    "print(x is not y)\n",
    "# returns True because x is not the same object as y, even if they have the same content\n",
    "print(x != y)\n",
    "# to demonstrate the difference betweeen \"is not\" and \"!=\": \n",
    "# this comparison returns False because x is equal to y"
   ]
  },
  {
   "cell_type": "markdown",
   "metadata": {},
   "source": [
    "### Python Membership Operators\n",
    "\n",
    "    Membership operators are used to test if a sequence is presented in an object:\n",
    "    \n",
    "    in : Returns True if a sequence with the specified value is present in the object\n",
    "    not in: Returns True if a sequence with the specified value is not present \n",
    "    in the object"
   ]
  },
  {
   "cell_type": "code",
   "execution_count": 29,
   "metadata": {},
   "outputs": [
    {
     "name": "stdout",
     "output_type": "stream",
     "text": [
      "True\n",
      "True\n",
      "False\n"
     ]
    }
   ],
   "source": [
    "x = [\"apple\", \"banana\"]\n",
    "print(\"banana\" in x)\n",
    "# returns True because a sequence with the value \"banana\" is in the list\n",
    "\n",
    "x = [\"apple\", \"banana\"]\n",
    "print(\"pineapple\" not in x)\n",
    "# returns True because a sequence with the value \"pineapple\" is not in the list\n",
    "\n",
    "x = ('mana', 'bread', 99.56)\n",
    "print('bread' not in x)\n",
    "# returns False because a sequence with the value 'bread' is in the list"
   ]
  },
  {
   "cell_type": "markdown",
   "metadata": {},
   "source": [
    "### Python Bitwise Operators\n",
    "    Bitwise operators are used to compare (binary) numbers:\n",
    "    \n",
    "    &  ---- Sets each bit to 1 if both bits are 1\n",
    "    \n",
    "    | ----\tSets each bit to 1 if one of two bits is 1\n",
    "    \n",
    "    ^ ----  Sets each bit to 1 if only one of two bits is 1\n",
    "    \n",
    "    ~ ----  Inverts all the bits\n",
    "    \n",
    "    << ---- Zero fill left shift; Shift left by pushing zeros in \n",
    "            from the right and let the leftmost bits fall off\n",
    "            \n",
    "    >> ---- Signed right shift; Shift right by pushing copies \n",
    "            of the leftmost bit in from the left, and let the rightmost bits fall off"
   ]
  },
  {
   "cell_type": "code",
   "execution_count": 42,
   "metadata": {},
   "outputs": [
    {
     "name": "stdout",
     "output_type": "stream",
     "text": [
      "4\n",
      "7\n",
      "1\n",
      "-4\n",
      "80\n",
      "0\n"
     ]
    }
   ],
   "source": [
    "bit = 5 & 6 & 7\n",
    "print(bit)\n",
    "\n",
    "bitwise = 5 | 6\n",
    "print(bitwise)\n",
    "\n",
    "sets = 8 ^ 9\n",
    "print(sets)\n",
    "\n",
    "gyt = ~3\n",
    "print(gyt)\n",
    "\n",
    "tri = 5 << 4\n",
    "print(tri)\n",
    "\n",
    "ned = 6 >> 3\n",
    "print(ned)"
   ]
  },
  {
   "cell_type": "markdown",
   "metadata": {},
   "source": [
    "### Python Collections (Arrays)\n",
    "\n",
    "    There are four collection data types in the Python programming language:\n",
    "\n",
    "    List: is a collection which is ordered and changeable. Allows duplicate members.\n",
    "    Tuple: is a collection which is ordered and unchangeable. Allows duplicate members.\n",
    "    Set: is a collection which is unordered and unindexed. No duplicate members.\n",
    "    Dictionary: is a collection which is unordered, changeable and indexed. No duplicate members.\n",
    "\n",
    "### The extend() method\n",
    "    adds the specified list elements (or any iterable) to the end of the current list.\n",
    "    \n",
    "    list.extend(iterable)\n",
    "    parameter needed: Any iterable (list, set, tuple, etc.)\n",
    "    \n",
    "    Add a tuple to the fruits list:"
   ]
  },
  {
   "cell_type": "code",
   "execution_count": 39,
   "metadata": {},
   "outputs": [
    {
     "name": "stdout",
     "output_type": "stream",
     "text": [
      "['apple', 'banana', 'cherry', 1, 4, 5, 9]\n"
     ]
    }
   ],
   "source": [
    "# the extend() metheod\n",
    "fruits = ['apple', 'banana', 'cherry']\n",
    "points = (1, 4, 5, 9)\n",
    "fruits.extend(points)\n",
    "print(fruits)"
   ]
  },
  {
   "cell_type": "markdown",
   "metadata": {},
   "source": [
    "### The sort() method sorts the list ascending by default.\n",
    "\n",
    "    You can also make a function to decide the sorting criteria(s).\n",
    "    list.sort(reverse=True|False, key=myFunc)"
   ]
  },
  {
   "cell_type": "code",
   "execution_count": 47,
   "metadata": {},
   "outputs": [
    {
     "name": "stdout",
     "output_type": "stream",
     "text": [
      "['BMW', 'Ford', 'Volvo']\n",
      "['Volvo', 'Ford', 'BMW']\n"
     ]
    }
   ],
   "source": [
    "cars = ['Ford', 'BMW', 'Volvo']\n",
    "cars.sort() \n",
    "print(cars)\n",
    "\n",
    "cars.sort(reverse=True)\n",
    "print(cars)"
   ]
  },
  {
   "cell_type": "code",
   "execution_count": 43,
   "metadata": {},
   "outputs": [
    {
     "name": "stdout",
     "output_type": "stream",
     "text": [
      "['orange', 'kiwi', 'melon']\n",
      "['apple', 'blackcurrant', 'cherry']\n",
      "apple banana cherry orange kiwi melon mango \n",
      "YES\n",
      "7\n",
      "['apple', 'banana', 'berry', 'cherry', 'orange', 'kiwi', 'melon', 'mango', 'pineapple']\n",
      "['apple', 'banana', 'berry', 'cherry', 'orange', 'melon', 'mango', 'pineapple']\n",
      "['apple', 'banana', 'berry', 'cherry', 'melon', 'mango', 'pineapple']\n",
      "['banana', 'cherry']\n",
      "[]\n",
      "['apple', 'banana', 'cherry']\n",
      "['apple', 'banana', 'cherry']\n",
      "['a', 'b', 'c', 1, 2, 3]\n",
      "['a', 'b', 'c', 1, 2, 3]\n",
      "['apple', 'banana', 'cherry', ['Ford', 'BMW', 'Volvo']]\n",
      "[2, 4, 18, 19, 34.9, 'array', 'List', 'Tuple', 'Dictionary']\n",
      "['a', 'b', 'c', 1, 2, 3]\n",
      "1\n",
      "2\n",
      "[1, 1, 2, 3, 4, 7, 8, 9, 9]\n",
      "d c b a "
     ]
    }
   ],
   "source": [
    "thislist = [\"apple\", \"banana\", \"cherry\", \"orange\", \"kiwi\", \"melon\", \"mango\"]\n",
    "print(thislist[-4:-1])\n",
    "# Negative indexing means starting from the end of the list.\n",
    "# This example returns the items from index -4 (included) to index -1 (excluded)\n",
    "# Remember that the last item has the index -1\n",
    "\n",
    "# changing item value\n",
    "thislist = [\"apple\", \"banana\", \"cherry\"]\n",
    "thislist[1] = \"blackcurrant\"\n",
    "print(thislist)\n",
    "\n",
    "# looping theough a list\n",
    "thislist = [\"apple\", \"banana\", \"cherry\", \"orange\", \"kiwi\", \"melon\", \"mango\"]\n",
    "for e in thislist:\n",
    "    print(e, end=\" \")\n",
    "    \n",
    "# Check if \"apple\" is present in the list:\n",
    "if 'apple' in thislist:\n",
    "    print('\\nYES')\n",
    "    \n",
    "print(len(thislist))\n",
    "thislist.append('pineapple')\n",
    "thislist.insert(2, 'berry')\n",
    "\n",
    "print(thislist)\n",
    "thislist.remove('kiwi')\n",
    "print(thislist)\n",
    "thislist.pop(4)\n",
    "print(thislist)\n",
    "\n",
    "# The del keyword removes the specified index:\n",
    "thislist = [\"apple\", \"banana\", \"cherry\"]\n",
    "del thislist[0]\n",
    "print(thislist)\n",
    "\n",
    "# The del keyword can also delete the list completely:\n",
    "thislist = [\"apple\", \"banana\", \"cherry\"]\n",
    "del thislist \n",
    "\n",
    "# The clear() method empties the list\n",
    "thislist = [\"apple\", \"banana\", \"cherry\", \"orange\", \"kiwi\", \"melon\", \"mango\"]\n",
    "thislist.clear()\n",
    "print(thislist)\n",
    "\n",
    "# to copy a list\n",
    "# Make a copy of a list with the copy() method:\n",
    "thislist = [\"apple\", \"banana\", \"cherry\"]\n",
    "mylist = thislist.copy()\n",
    "print(mylist)\n",
    "\n",
    "# Make a copy of a list with the list() method:\n",
    "thislist = [\"apple\", \"banana\", \"cherry\"]\n",
    "mylist = list(thislist)\n",
    "print(mylist)\n",
    "newlist = list(thislist)\n",
    "\n",
    "# Join two list:\n",
    "list1 = [\"a\", \"b\" , \"c\"]\n",
    "list2 = [1, 2, 3]\n",
    "list3 = list1 + list2\n",
    "print(list3)\n",
    "\n",
    "# Append list2 into list1:\n",
    "list1 = [\"a\", \"b\" , \"c\"]\n",
    "list2 = [1, 2, 3]\n",
    "for x in list2:\n",
    "  list1.append(x)\n",
    "print(list1)\n",
    "\n",
    "# the append method\n",
    "a = [\"apple\", \"banana\", \"cherry\"]\n",
    "b = [\"Ford\", \"BMW\", \"Volvo\"]\n",
    "a.append(b)\n",
    "print(a)\n",
    "\n",
    "ManyPle = ['array', 'List', 'Tuple', 'Dictionary']\n",
    "FewPle = [2, 4, 18, 19, 34.9]\n",
    "for e in ManyPle:\n",
    "    FewPle.append(e)\n",
    "print(FewPle)\n",
    "\n",
    "# Use the extend() method to add list2 at the end of list1:\n",
    "list1 = [\"a\", \"b\" , \"c\"]\n",
    "list2 = [1, 2, 3]\n",
    "list1.extend(list2)\n",
    "print(list1)\n",
    "\n",
    "# the count method\n",
    "# Return the number of times the value \"cherry\" appears in the fruits list:\n",
    "fruits = ['apple', 'banana', 'cherry']\n",
    "x = fruits.count(\"cherry\")\n",
    "print(x)\n",
    "\n",
    "fruits = [1, 4, 2, 9, 7, 8, 9, 3, 1]\n",
    "x = fruits.count(9)\n",
    "print(x)\n",
    "\n",
    "fruits.reverse()\n",
    "fruits.sort()\n",
    "print(fruits)\n",
    "\n",
    "# The buil-in function reversed() returns a reversed iterator object.\n",
    "alph = [\"a\", \"b\", \"c\", \"d\"]\n",
    "ralph = reversed(alph)\n",
    "for x in ralph:\n",
    "    print(x, end=' ')"
   ]
  },
  {
   "cell_type": "markdown",
   "metadata": {},
   "source": [
    "### Tuples\n",
    "    A tuple is a sequence which is ordered and unchangeable.\n",
    "    Once a tuple is created, you cannot change its values. Tuples are unchangeable, \n",
    "    or immutable as it also is called.\n",
    "    But there is a workaround. You can convert the tuple into a list, \n",
    "    change the list, and convert the list back into a tuple.\n",
    "    \n",
    "    To create a tuple with only one item, you have add a comma after the item, \n",
    "    unless Python will not recognize the variable as a tuple.\n",
    "    \n",
    "    You cannot remove items in a tuple.\n",
    "    Tuples are unchangeable, so you cannot remove items from it, \n",
    "    but you can delete the tuple completely:"
   ]
  },
  {
   "cell_type": "code",
   "execution_count": 49,
   "metadata": {},
   "outputs": [
    {
     "name": "stdout",
     "output_type": "stream",
     "text": [
      "('apple', 'banana', 'cherry', 'yummy')\n",
      "cherry\n",
      "cherry\n",
      "('apple', 'banana', 'berry')\n",
      "apple banana cherry yummy \n",
      " 4\n",
      "<class 'tuple'>\n",
      "<class 'tuple'>\n",
      "<zip object at 0x7f693dd42aa0>\n",
      "('many_ace', 'tantra', 'mile_7')\n"
     ]
    }
   ],
   "source": [
    "this_tuple = ('apple', 'banana', 'cherry', 'yummy',)\n",
    "print(this_tuple)\n",
    "print(this_tuple[2])\n",
    "print(this_tuple[-2])\n",
    "\n",
    "# changing the value of a tuple.\n",
    "xlist = ('apple', 'banana', 'cherry',)\n",
    "ylist = list(xlist)\n",
    "ylist[2] = 'berry'\n",
    "xlist = tuple(ylist)\n",
    "print(xlist)\n",
    "\n",
    "# printing the values in a tuple\n",
    "for e in this_tuple:\n",
    "    print(e, end=' ')\n",
    "print('\\n',len(this_tuple))\n",
    "\n",
    "# creating a single item tuple\n",
    "xtuple = ('bottles',)\n",
    "print(type(xtuple))\n",
    "ytuple = ('container',)\n",
    "print(type(ytuple))\n",
    "\n",
    "newTuple = zip(thisTuple,xlist)\n",
    "print(newTuple)\n",
    "\n",
    "yem = tuple(('many_ace', 'tantra', 'mile_7',))\n",
    "print(yem)"
   ]
  },
  {
   "cell_type": "code",
   "execution_count": 1,
   "metadata": {},
   "outputs": [
    {
     "name": "stdout",
     "output_type": "stream",
     "text": [
      "362880\n"
     ]
    }
   ],
   "source": [
    "# python functions, factorial function\n",
    "def fac(num):\n",
    "    if num == 1:\n",
    "        return 1\n",
    "    else:\n",
    "        return num * fac(num - 1)\n",
    "\n",
    "print(fac(9))"
   ]
  },
  {
   "cell_type": "code",
   "execution_count": 2,
   "metadata": {},
   "outputs": [
    {
     "ename": "NameError",
     "evalue": "name 'pandas' is not defined",
     "output_type": "error",
     "traceback": [
      "\u001b[0;31m---------------------------------------------------------------------------\u001b[0m",
      "\u001b[0;31mNameError\u001b[0m                                 Traceback (most recent call last)",
      "\u001b[0;32m<ipython-input-2-609b6d5922fb>\u001b[0m in \u001b[0;36m<module>\u001b[0;34m\u001b[0m\n\u001b[0;32m----> 1\u001b[0;31m \u001b[0mpandas\u001b[0m\u001b[0;34m\u001b[0m\u001b[0;34m\u001b[0m\u001b[0m\n\u001b[0m",
      "\u001b[0;31mNameError\u001b[0m: name 'pandas' is not defined"
     ]
    }
   ],
   "source": [
    "pandas"
   ]
  }
 ],
 "metadata": {
  "kernelspec": {
   "display_name": "Python 3",
   "language": "python",
   "name": "python3"
  },
  "language_info": {
   "codemirror_mode": {
    "name": "ipython",
    "version": 3
   },
   "file_extension": ".py",
   "mimetype": "text/x-python",
   "name": "python",
   "nbconvert_exporter": "python",
   "pygments_lexer": "ipython3",
   "version": "3.7.4"
  }
 },
 "nbformat": 4,
 "nbformat_minor": 2
}
