{
 "cells": [
  {
   "cell_type": "code",
   "execution_count": 2,
   "metadata": {},
   "outputs": [
    {
     "name": "stdout",
     "output_type": "stream",
     "text": [
      "[0, 1, 3, 6, 10, 15, 21, 28]\n",
      "[0, 1, 3, 6]\n"
     ]
    }
   ],
   "source": [
    "from itertools import accumulate, takewhile\n",
    "\n",
    "nums = list(accumulate(range(8)))\n",
    "print(nums)\n",
    "print(list(takewhile(lambda x: x <= 6, nums)))"
   ]
  },
  {
   "cell_type": "code",
   "execution_count": 3,
   "metadata": {},
   "outputs": [
    {
     "name": "stdout",
     "output_type": "stream",
     "text": [
      "[('A', 0), ('A', 1), ('B', 0), ('B', 1)]\n",
      "[('A', 'B'), ('B', 'A')]\n"
     ]
    }
   ],
   "source": [
    "#itertools\n",
    "#There are also several combinatoric functions in itertool, \n",
    "#such as product and permutation.\n",
    "#These are used when you want to accomplish a task with all \n",
    "#possible combinations of some items.\n",
    "\n",
    "from itertools import product, permutations\n",
    "\n",
    "letters = (\"A\", \"B\")\n",
    "print(list(product(letters, range(2))))\n",
    "print(list(permutations(letters)))"
   ]
  },
  {
   "cell_type": "code",
   "execution_count": 4,
   "metadata": {},
   "outputs": [
    {
     "name": "stdout",
     "output_type": "stream",
     "text": [
      "2\n"
     ]
    }
   ],
   "source": [
    "nums = {1, 2, 3, 4, 5, 6}\n",
    "nums = {0, 1, 2, 3} & nums\n",
    "nums = filter(lambda x: x > 1, nums)\n",
    "print(len(list(nums)))"
   ]
  },
  {
   "cell_type": "code",
   "execution_count": 8,
   "metadata": {},
   "outputs": [
    {
     "name": "stdout",
     "output_type": "stream",
     "text": [
      "[2, 8]\n",
      "{9, 12, 78}\n",
      "<class 'set'>\n"
     ]
    }
   ],
   "source": [
    "nums = [1, 2, 8, 3, 7]\n",
    "res = list(filter(lambda x: x%2 == 0, nums))\n",
    "print(res)\n",
    "\n",
    "setA = {12, 6, 9, 11, 78}\n",
    "setB = {19, 6, 11, 23, 99}\n",
    "print(setA - setB)\n",
    "print(type(setA))"
   ]
  },
  {
   "cell_type": "code",
   "execution_count": 13,
   "metadata": {},
   "outputs": [
    {
     "name": "stdout",
     "output_type": "stream",
     "text": [
      "ginger\n"
     ]
    }
   ],
   "source": [
    "class Cat:\n",
    "    def __init__(self, color, legs):\n",
    "        self.color = color\n",
    "        self.legs = legs\n",
    "\n",
    "felix = Cat(\"ginger\", 4)\n",
    "rover = Cat(\"dog-colored\", 4)\n",
    "stumpy = Cat(\"brown\", 3)\n",
    "\n",
    "print(felix.color)"
   ]
  },
  {
   "cell_type": "code",
   "execution_count": 16,
   "metadata": {},
   "outputs": [
    {
     "data": {
      "image/png": "[encoded data removed]",
      "text/plain": [
       "<Figure size 432x288 with 1 Axes>"
      ]
     },
     "metadata": {
      "needs_background": "light"
     },
     "output_type": "display_data"
    }
   ],
   "source": [
    "import matplotlib.pyplot as plt\n",
    "import numpy as np\n",
    "\n",
    "# Create a list of evenly-spaced numbers over the range\n",
    "x = np.linspace(0, 20, 100)\n",
    "plt.plot(x, np.sin(x))       # Plot the sine of each x point\n",
    "plt.show()"
   ]
  },
  {
   "cell_type": "code",
   "execution_count": 17,
   "metadata": {},
   "outputs": [
    {
     "name": "stdout",
     "output_type": "stream",
     "text": [
      "The Zen of Python, by Tim Peters\n",
      "\n",
      "Beautiful is better than ugly.\n",
      "Explicit is better than implicit.\n",
      "Simple is better than complex.\n",
      "Complex is better than complicated.\n",
      "Flat is better than nested.\n",
      "Sparse is better than dense.\n",
      "Readability counts.\n",
      "Special cases aren't special enough to break the rules.\n",
      "Although practicality beats purity.\n",
      "Errors should never pass silently.\n",
      "Unless explicitly silenced.\n",
      "In the face of ambiguity, refuse the temptation to guess.\n",
      "There should be one-- and preferably only one --obvious way to do it.\n",
      "Although that way may not be obvious at first unless you're Dutch.\n",
      "Now is better than never.\n",
      "Although never is often better than *right* now.\n",
      "If the implementation is hard to explain, it's a bad idea.\n",
      "If the implementation is easy to explain, it may be a good idea.\n",
      "Namespaces are one honking great idea -- let's do more of those!\n"
     ]
    }
   ],
   "source": [
    "import this"
   ]
  },
  {
   "cell_type": "code",
   "execution_count": 1,
   "metadata": {},
   "outputs": [
    {
     "name": "stdout",
     "output_type": "stream",
     "text": [
      "3.7.4 (default, Aug 13 2019, 20:35:49) \n",
      "[GCC 7.3.0]\n",
      "having asymptomatic versions\n"
     ]
    }
   ],
   "source": [
    "import sys\n",
    "print(sys.version)\n",
    "print('having asymptomatic versions')"
   ]
  },
  {
   "cell_type": "code",
   "execution_count": null,
   "metadata": {},
   "outputs": [],
   "source": [
    "import webbrowser\n",
    "import time\n",
    "\n",
    "time_break = 3\n",
    "count = 0\n",
    "\n",
    "print('This program started at exaclty '+time.ctime())\n",
    "while(count < time_break):\n",
    "    time.sleep(15)\n",
    "    webbrowser.open(\"www.w3schools.com\")\n",
    "    break;"
   ]
  },
  {
   "cell_type": "code",
   "execution_count": 3,
   "metadata": {},
   "outputs": [
    {
     "name": "stdout",
     "output_type": "stream",
     "text": [
      "['25madrid.jpg', '74tel aviv.jpg', '90beijing.jpg', '47sao paulo.jpg', '36sydney.jpg', '9barcelona.jpg', '69chicago.jpg', '83gainesville.jpg', '47london.jpg', '93manchester.jpg', '47singapore.jpg', '28houston.jpg', '50san diego.jpg', '29bristol.jpg', '54dallas.jpg', '73delhi.jpg', '37athens.jpg', '72bucharest.jpg', '61edinbrugh.jpg', '4istanbul.jpg', '64seattle.jpg', '35miami.jpg', '88jacksonville.jpg', '69shanghai.jpg', '2chennai.jpg', '66san jose.jpg', '55kiev.jpg', '89berkeley.jpg', '68pune.jpg', '.DS_Store', '48sunnyvale.jpg', '2hyderabad.jpg', '5bogota.jpg', '72bangalore.jpg', '96karachi.jpg', '41seoul.jpg', '97oakland.jpg', '29buenos aires.jpg', '16los angeles.jpg', '45ithaca.jpg', '46colombo.jpg', '17cairo.jpg', '45austin.jpg', '52new york.jpg', '22rochester.jpg']\n"
     ]
    }
   ],
   "source": [
    "# opening a file and renaming the file\n",
    "import os\n",
    "def rename_files():\n",
    "    fileList = os.listdir(\"/home/lipson/Downloads/Compressed/prank/prank\")\n",
    "    print(fileList)\n",
    "    \n",
    "rename_files()"
   ]
  },
  {
   "cell_type": "code",
   "execution_count": 16,
   "metadata": {},
   "outputs": [
    {
     "name": "stdout",
     "output_type": "stream",
     "text": [
      "['25madrid.jpg', '74tel aviv.jpg', '90beijing.jpg', '47sao paulo.jpg', '36sydney.jpg', '9barcelona.jpg', '69chicago.jpg', '83gainesville.jpg', '47london.jpg', '93manchester.jpg', '47singapore.jpg', '28houston.jpg', '50san diego.jpg', '29bristol.jpg', '54dallas.jpg', '73delhi.jpg', '37athens.jpg', '72bucharest.jpg', '61edinbrugh.jpg', '4istanbul.jpg', '64seattle.jpg', '35miami.jpg', '88jacksonville.jpg', '69shanghai.jpg', '2chennai.jpg', '66san jose.jpg', '55kiev.jpg', '89berkeley.jpg', '68pune.jpg', '.DS_Store', '48sunnyvale.jpg', '2hyderabad.jpg', '5bogota.jpg', '72bangalore.jpg', '96karachi.jpg', '41seoul.jpg', '97oakland.jpg', '29buenos aires.jpg', '16los angeles.jpg', '45ithaca.jpg', '46colombo.jpg', '17cairo.jpg', '45austin.jpg', '52new york.jpg', '22rochester.jpg']\n"
     ]
    }
   ],
   "source": [
    "import os\n",
    "def rename_files():\n",
    "    fileList = os.listdir(r\"/home/lipson/Desktop/Lipson Code Folder/Python/Anaconda/prank/prank\")\n",
    "    print(fileList)\n",
    "    \n",
    "    saved_path = os.getcwd()\n",
    "    os.chdir(r\"/home/lipson/Desktop/Lipson Code Folder/Python/Anaconda/prank/prank\")\n",
    "    for fileName in fileList:\n",
    "        os.rename(fileName, fileName.translate(\"0123456789\"))\n",
    "    os.chdir(saved_path)\n",
    "    \n",
    "rename_files()"
   ]
  },
  {
   "cell_type": "code",
   "execution_count": 1,
   "metadata": {},
   "outputs": [
    {
     "output_type": "stream",
     "name": "stdout",
     "text": [
      "happy working with a python environment\nhelp\nhappiness\n8.9\n34\n88\n"
     ]
    }
   ],
   "source": [
    "print('happy working with a python environment')\n",
    "new_people = ['help', 'happiness', 8.9, 34, 88]\n",
    "for i in new_people:\n",
    "    print(i)"
   ]
  }
 ],
 "metadata": {
  "kernelspec": {
   "display_name": "Python 3",
   "language": "python",
   "name": "python3"
  },
  "language_info": {
   "codemirror_mode": {
    "name": "ipython",
    "version": 3
   },
   "file_extension": ".py",
   "mimetype": "text/x-python",
   "name": "python",
   "nbconvert_exporter": "python",
   "pygments_lexer": "ipython3",
   "version": "3.8.5-final"
  }
 },
 "nbformat": 4,
 "nbformat_minor": 2
}