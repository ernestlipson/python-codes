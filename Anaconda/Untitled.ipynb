{
 "cells": [
  {
   "cell_type": "code",
   "execution_count": 5,
   "metadata": {},
   "outputs": [
    {
     "name": "stdout",
     "output_type": "stream",
     "text": [
      "13\n",
      "67\n",
      "99\n"
     ]
    }
   ],
   "source": [
    "import array as arr\n",
    "new_array = arr.array('i', [13, 67, 99])\n",
    "for i in range (0, 3):\n",
    "    print(new_array[i])\n",
    "\n",
    "new_array.append(4)\n",
    "for i in range(new_array[0], new_array[3]):\n",
    "    print(new_array[i])"
   ]
  }
 ],
 "metadata": {
  "kernelspec": {
   "display_name": "Python 3",
   "language": "python",
   "name": "python3"
  },
  "language_info": {
   "codemirror_mode": {
    "name": "ipython",
    "version": 3
   },
   "file_extension": ".py",
   "mimetype": "text/x-python",
   "name": "python",
   "nbconvert_exporter": "python",
   "pygments_lexer": "ipython3",
   "version": "3.8.5"
  }
 },
 "nbformat": 4,
 "nbformat_minor": 2
}
