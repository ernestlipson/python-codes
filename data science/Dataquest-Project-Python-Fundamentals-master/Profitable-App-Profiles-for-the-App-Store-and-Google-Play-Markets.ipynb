{
 "cells": [
  {
   "cell_type": "markdown",
   "metadata": {},
   "source": [
    "# <center> Profitable App Profile for the Apple Store and Google Play Markets </center>\n",
    "\n",
    "<center> by: Chlaudiah Julinar Soplero Lelywiary </center>"
   ]
  },
  {
   "cell_type": "markdown",
   "metadata": {},
   "source": [
    "This project is to find the characteristics of mobile appplication that are prefreable in Apple Store and Google Play Store. As a data analyst who work in company that builds Android and iOS mobile apps, the job is to help the developers team to make a decision based on data-driven approach for decided what kind of apps that they should build. "
   ]
  },
  {
   "cell_type": "markdown",
   "metadata": {},
   "source": [
    "The company only build apps that are free to download and install and main source of revenue consites of in-app adds. This means our revenue for any given app is mostly influenced by the number of users who use our app. Our goal for this project is to analyze data to help our developers understand what kind of apps are likely to attract more users."
   ]
  },
  {
   "cell_type": "markdown",
   "metadata": {},
   "source": [
    "## Opening and Exploring the Data"
   ]
  },
  {
   "cell_type": "markdown",
   "metadata": {},
   "source": [
    "As of September 2018, there were approximately 2 million iOS apps available on the App Store and 2.1 million Android apps on Google Play (source from: [Statista](https://www.statista.com/statistics/276623/number-of-apps-available-in-leading-app-stores/))"
   ]
  },
  {
   "cell_type": "markdown",
   "metadata": {},
   "source": [
    "Collectiong data over 4 million apps requires a significant amount of time and money, so try to analyze a sample of the data instead. To avoid spending resources on collectiong new data ourselves try to see any relevant existing data without cost. There are two datasets below seem suitable for the goals:\n",
    "\n",
    "* [Google Apps Store Datasets](https://www.kaggle.com/lava18/google-play-store-apps/home) containing data about approximately **10.000** Android apps from Google Play that collected in August 2018.\n",
    "* [Apple iOS Apps Store Datasets](https://www.kaggle.com/ramamet4/app-store-apple-data-set-10k-apps/home) containing data about approximately **7.000** iOS apps from the App Store that collected in July 2017.\n",
    "\n",
    "Lets start by opening two data sets and then continue with exploring the data."
   ]
  },
  {
   "cell_type": "code",
   "execution_count": 1,
   "metadata": {},
   "outputs": [],
   "source": [
    "## OPEN TWO DATA SETS#\n",
    "\n",
    "from csv import reader\n",
    "\n",
    "#------- Google App Store Data sets------#\n",
    "open_android = open('googleplaystore.csv',encoding='utf-8')\n",
    "android_file = reader(open_android)\n",
    "android_lists = list(android_file)\n",
    "android_header = android_lists[0]\n",
    "android_data = android_lists[1:]\n",
    "\n",
    "#------- Apple iOS App Store Data sets------#\n",
    "open_ios = open('AppleStore.csv',encoding='utf-8')\n",
    "ios_file = reader(open_ios)\n",
    "ios_lists = list(ios_file)\n",
    "ios_header = ios_lists[0]\n",
    "ios_data = ios_lists[1:]"
   ]
  },
  {
   "cell_type": "code",
   "execution_count": 2,
   "metadata": {},
   "outputs": [],
   "source": [
    "# EXPLORE TWO DATA SETS #\n",
    "def explore_data(lists, header=False):\n",
    "    for row in lists[:3]:\n",
    "        print(row,'\\n')\n",
    "        \n",
    "    if header:\n",
    "        print('Number of rows: ',len(lists))\n",
    "        print('Number of columns: ',len(lists[0]))"
   ]
  },
  {
   "cell_type": "code",
   "execution_count": 3,
   "metadata": {},
   "outputs": [
    {
     "name": "stdout",
     "output_type": "stream",
     "text": [
      "Android Data Explore: \n",
      "['App', 'Category', 'Rating', 'Reviews', 'Size', 'Installs', 'Type', 'Price', 'Content Rating', 'Genres', 'Last Updated', 'Current Ver', 'Android Ver'] \n",
      "\n",
      "['Photo Editor & Candy Camera & Grid & ScrapBook', 'ART_AND_DESIGN', '4.1', '159', '19M', '10,000+', 'Free', '0', 'Everyone', 'Art & Design', 'January 7, 2018', '1.0.0', '4.0.3 and up'] \n",
      "\n",
      "['Coloring book moana', 'ART_AND_DESIGN', '3.9', '967', '14M', '500,000+', 'Free', '0', 'Everyone', 'Art & Design;Pretend Play', 'January 15, 2018', '2.0.0', '4.0.3 and up'] \n",
      "\n",
      "Number of rows:  10842\n",
      "Number of columns:  13\n"
     ]
    }
   ],
   "source": [
    "print('Android Data Explore: ')\n",
    "android_explore = explore_data(android_lists, header=True)"
   ]
  },
  {
   "cell_type": "markdown",
   "metadata": {},
   "source": [
    "As we can see from the result, for Android Dataset has **13 feature** and **10841 data**. The features that might be useful for our goals are:\n",
    "\n",
    "| <center> Column Name </center> | <center> Description </center>                                |\n",
    "| ----------- | ------------------------------------------- |\n",
    "| App         | Application Name                            |\n",
    "| Category    | Category the app belongs to                 |\n",
    "| Rating      | Overall user rating of the app              |\n",
    "| Reviews     | Number of user reviews                      |\n",
    "| Installs    | Number of user download or install the app  |\n",
    "| Type        | a paid app or free app                      |\n",
    "| Genres      | Apart from the main category                |\n",
    "| Price       | Price of the app                            |"
   ]
  },
  {
   "cell_type": "code",
   "execution_count": 4,
   "metadata": {},
   "outputs": [
    {
     "name": "stdout",
     "output_type": "stream",
     "text": [
      "iOS Data Explore: \n",
      "['id', 'track_name', 'size_bytes', 'currency', 'price', 'rating_count_tot', 'rating_count_ver', 'user_rating', 'user_rating_ver', 'ver', 'cont_rating', 'prime_genre', 'sup_devices.num', 'ipadSc_urls.num', 'lang.num', 'vpp_lic'] \n",
      "\n",
      "['284882215', 'Facebook', '389879808', 'USD', '0.0', '2974676', '212', '3.5', '3.5', '95.0', '4+', 'Social Networking', '37', '1', '29', '1'] \n",
      "\n",
      "['389801252', 'Instagram', '113954816', 'USD', '0.0', '2161558', '1289', '4.5', '4.0', '10.23', '12+', 'Photo & Video', '37', '0', '29', '1'] \n",
      "\n",
      "Number of rows:  7198\n",
      "Number of columns:  16\n"
     ]
    }
   ],
   "source": [
    "print('iOS Data Explore: ')\n",
    "ios_explore = explore_data(ios_lists,True)"
   ]
  },
  {
   "cell_type": "markdown",
   "metadata": {},
   "source": [
    "For iOS data sets has **16 features** and **7197 data**. The features that might be useful are:\n",
    "\n",
    "| Column Name       |  Description                             |\n",
    "| -----------       | -----------------------------------------|\n",
    "| id                | Application ID                           |\n",
    "| track_name        | Application Name                         |\n",
    "| price             | price amount                             |\n",
    "| rating_count_tot  | Number of user rating count for all ver  |\n",
    "| rating_count_ver  | Number of user rating count for cur ver  |\n",
    "| prime_genre       | primary genre                            |\n",
    "| currency          | Currency Type                            |"
   ]
  },
  {
   "cell_type": "markdown",
   "metadata": {},
   "source": [
    "## Data Cleaning"
   ]
  },
  {
   "cell_type": "markdown",
   "metadata": {},
   "source": [
    "### Detecting and Deleting Wrong Data"
   ]
  },
  {
   "cell_type": "markdown",
   "metadata": {},
   "source": [
    "The Google Play data set has a dedicated [discussion section](https://www.kaggle.com/lava18/google-play-store-apps/discussion), and [one of the discussion](https://www.kaggle.com/lava18/google-play-store-apps/discussion/66015) describes an error for a certain row.\n",
    "\n"
   ]
  },
  {
   "cell_type": "code",
   "execution_count": 5,
   "metadata": {},
   "outputs": [
    {
     "name": "stdout",
     "output_type": "stream",
     "text": [
      "Wrong data:  ['Life Made WI-Fi Touchscreen Photo Frame', '1.9', '19', '3.0M', '1,000+', 'Free', '0', 'Everyone', '', 'February 11, 2018', '1.0.19', '4.0 and up'] \n",
      "\n",
      "List of Features:  ['App', 'Category', 'Rating', 'Reviews', 'Size', 'Installs', 'Type', 'Price', 'Content Rating', 'Genres', 'Last Updated', 'Current Ver', 'Android Ver'] \n",
      "\n",
      "Example of right data:  ['Photo Editor & Candy Camera & Grid & ScrapBook', 'ART_AND_DESIGN', '4.1', '159', '19M', '10,000+', 'Free', '0', 'Everyone', 'Art & Design', 'January 7, 2018', '1.0.0', '4.0.3 and up']\n"
     ]
    }
   ],
   "source": [
    "print('Wrong data: ',android_data[10472],'\\n')\n",
    "print('List of Features: ',android_header,'\\n')\n",
    "print('Example of right data: ',android_data[0])"
   ]
  },
  {
   "cell_type": "markdown",
   "metadata": {},
   "source": [
    "It is right from the discussion, that the data in index:**10472** (without header) is a wrong data because **Content Rating** feature has a blank value. Also, as we can see the **Rating** of that app reach **19**, and it is clearly off because the maximum rating for a Google Play App is a **5**.\n",
    "\n",
    "So, need to delete the row of that wrong data from the Google Play data set."
   ]
  },
  {
   "cell_type": "code",
   "execution_count": 6,
   "metadata": {},
   "outputs": [
    {
     "name": "stdout",
     "output_type": "stream",
     "text": [
      "10840\n"
     ]
    }
   ],
   "source": [
    "del android_data[10472]\n",
    "print(len(android_data))"
   ]
  },
  {
   "cell_type": "markdown",
   "metadata": {},
   "source": [
    "### Removing Duplicate Entries"
   ]
  },
  {
   "cell_type": "markdown",
   "metadata": {},
   "source": [
    "#### Part One"
   ]
  },
  {
   "cell_type": "markdown",
   "metadata": {},
   "source": [
    "After cleaning the wrong data, in this part will delete the duplicate entries in Google Play data set (look at the [discussion section](https://www.kaggle.com/lava18/google-play-store-apps/discussion)). Duplicate entries cases where an application appears more than once in a data set. For example, Instagram has four entries in Google Play data set:"
   ]
  },
  {
   "cell_type": "code",
   "execution_count": 7,
   "metadata": {},
   "outputs": [
    {
     "name": "stdout",
     "output_type": "stream",
     "text": [
      "2545 ['Instagram', 'SOCIAL', '4.5', '66577313', 'Varies with device', '1,000,000,000+', 'Free', '0', 'Teen', 'Social', 'July 31, 2018', 'Varies with device', 'Varies with device']\n",
      "2604 ['Instagram', 'SOCIAL', '4.5', '66577446', 'Varies with device', '1,000,000,000+', 'Free', '0', 'Teen', 'Social', 'July 31, 2018', 'Varies with device', 'Varies with device']\n",
      "2611 ['Instagram', 'SOCIAL', '4.5', '66577313', 'Varies with device', '1,000,000,000+', 'Free', '0', 'Teen', 'Social', 'July 31, 2018', 'Varies with device', 'Varies with device']\n",
      "3909 ['Instagram', 'SOCIAL', '4.5', '66509917', 'Varies with device', '1,000,000,000+', 'Free', '0', 'Teen', 'Social', 'July 31, 2018', 'Varies with device', 'Varies with device']\n"
     ]
    }
   ],
   "source": [
    "for i in range(len(android_data)):\n",
    "    name=android_data[i][0]\n",
    "    if name=='Instagram':\n",
    "        print(i,android_data[i])"
   ]
  },
  {
   "cell_type": "markdown",
   "metadata": {},
   "source": [
    "We will count how many cases are duplicate entries in Google Play data set."
   ]
  },
  {
   "cell_type": "code",
   "execution_count": 8,
   "metadata": {},
   "outputs": [
    {
     "name": "stdout",
     "output_type": "stream",
     "text": [
      "Number of duplicate entries:  1181\n",
      "Example of duplicate entries:  ['Quick PDF Scanner + OCR FREE', 'Box', 'Google My Business', 'ZOOM Cloud Meetings', 'join.me - Simple Meetings']\n"
     ]
    }
   ],
   "source": [
    "duplicate = []\n",
    "unique=[]\n",
    "for row in android_data:\n",
    "    name=row[0]\n",
    "    if name in unique:\n",
    "        duplicate.append(name)\n",
    "    else: unique.append(name)\n",
    "print(\"Number of duplicate entries: \",len(duplicate))\n",
    "print(\"Example of duplicate entries: \",duplicate[:5])"
   ]
  },
  {
   "cell_type": "markdown",
   "metadata": {},
   "source": [
    "From the result, we can see that there are 1,181 cases for duplicate entries in Google Play datset. To handle this case, we don't want to count certain apps more than once when analyze data, so we need to remove the duplicate entries and keep only one entry per app. One thing we could do is remove the duplicate rows randomly, but there is still another way and better than this. "
   ]
  },
  {
   "cell_type": "markdown",
   "metadata": {},
   "source": [
    "If we back to Instagram's rows example, there are four difference in every row, and that is in index 3 (remember that list in Python start with 0). To find what column is it for index 3, then we can print it below:"
   ]
  },
  {
   "cell_type": "code",
   "execution_count": 9,
   "metadata": {},
   "outputs": [
    {
     "name": "stdout",
     "output_type": "stream",
     "text": [
      "0 App\n",
      "1 Category\n",
      "2 Rating\n",
      "3 Reviews\n",
      "4 Size\n",
      "5 Installs\n",
      "6 Type\n",
      "7 Price\n",
      "8 Content Rating\n",
      "9 Genres\n",
      "10 Last Updated\n",
      "11 Current Ver\n",
      "12 Android Ver\n"
     ]
    }
   ],
   "source": [
    "for i in range(len(android_header)):\n",
    "    print(i,android_header[i])"
   ]
  },
  {
   "cell_type": "markdown",
   "metadata": {},
   "source": [
    "So, the differences that occurs in every Instagram's row is number of reviews. The different numbers show the data was collected at different times. Using this information, the criterion for removing the duplicates entries can be build. Main important thing that we can get from this information is **the higher number of reviews, the more recent the data should be**."
   ]
  },
  {
   "cell_type": "markdown",
   "metadata": {},
   "source": [
    "#### Part Two"
   ]
  },
  {
   "cell_type": "markdown",
   "metadata": {},
   "source": [
    "Instead of removing the duplicates randomly, just keep the row with the highest number of reviews and remove the other entries for any given app. To remove the duplicates, the steps are:\n",
    "1. Create a dictionary, where each dictionary key is a unique app name and the corresponding dictionary value is the highest number of reviews of that app\n",
    "2. Use the information stored in dictionary and create a new data set, which will have only entry per app (and for each app, only select the entry with the highest number of reviews)"
   ]
  },
  {
   "cell_type": "markdown",
   "metadata": {},
   "source": [
    "##### Step 1\n",
    "\n",
    "In this step, we build a dictionary to save the highest number of review from every app. "
   ]
  },
  {
   "cell_type": "code",
   "execution_count": 10,
   "metadata": {},
   "outputs": [],
   "source": [
    "reviews_max={}\n",
    "for row in android_data:\n",
    "    name = row[0]\n",
    "    n_reviews=float(row[3])\n",
    "    if name in reviews_max and reviews_max[name] < n_reviews:\n",
    "        reviews_max[name]=n_reviews\n",
    "    reviews_max[name]=n_reviews"
   ]
  },
  {
   "cell_type": "markdown",
   "metadata": {},
   "source": [
    "In **Part One** we knew that there are **1,181 of duplicate entries** that we have. So, for make sure our dictionary doesnt have an app occurs more than once (of unique apps) it should be equal to the difference between the length of our data set and 1,181."
   ]
  },
  {
   "cell_type": "code",
   "execution_count": 11,
   "metadata": {},
   "outputs": [
    {
     "name": "stdout",
     "output_type": "stream",
     "text": [
      "Expected Length:  9659\n",
      "Actual Length of Dictionary:  9659\n",
      "Example of the Highest number of review for Instagram:  66509917.0\n"
     ]
    }
   ],
   "source": [
    "print(\"Expected Length: \",len(android_data)-1181)\n",
    "print(\"Actual Length of Dictionary: \",len(reviews_max))\n",
    "print(\"Example of the Highest number of review for Instagram: \",reviews_max[\"Instagram\"])"
   ]
  },
  {
   "cell_type": "markdown",
   "metadata": {},
   "source": [
    "##### Step 2\n",
    "\n",
    "Next, we need to make a new data set that stored only one entry per app with the highest number of reviews. In the code below:\n",
    "\n",
    "- Create two empty lists, `android_clean` (will store new data set) and `already_dead` (will store app names)\n",
    "- Do looping in Google Play data set without header (`android_data`) for each row:\n",
    "    - Assign app name (in index 0)\n",
    "    - Convert the type of number of reviews (in index 3) to `float`  and asssign it into a variable\n",
    "    - Add the current row into `android_clean` and the app name into `already_dead`, **if**:\n",
    "        - The number of reviews equal with the highest number of reviews from `reviews_max` dictionary for that app; and\n",
    "        - The name of the app not already in `already_dead`. This part is important to handle a case when there are more than one entry has highest number of reviews for an app.\n"
   ]
  },
  {
   "cell_type": "code",
   "execution_count": 12,
   "metadata": {},
   "outputs": [],
   "source": [
    "android_clean = []\n",
    "already_dead=[]\n",
    "for row in android_data:\n",
    "    name = row[0]\n",
    "    n_reviews = float(row[3])\n",
    "    if (n_reviews == reviews_max[name]) and (name not in already_dead):\n",
    "        android_clean.append(row)\n",
    "        already_dead.append(name)"
   ]
  },
  {
   "cell_type": "markdown",
   "metadata": {},
   "source": [
    "Now, just make sure that our new data set already same with the criterion using `explore_data` function that we already build and the number of rows is **9659**."
   ]
  },
  {
   "cell_type": "code",
   "execution_count": 13,
   "metadata": {},
   "outputs": [
    {
     "name": "stdout",
     "output_type": "stream",
     "text": [
      "['Photo Editor & Candy Camera & Grid & ScrapBook', 'ART_AND_DESIGN', '4.1', '159', '19M', '10,000+', 'Free', '0', 'Everyone', 'Art & Design', 'January 7, 2018', '1.0.0', '4.0.3 and up'] \n",
      "\n",
      "['U Launcher Lite – FREE Live Cool Themes, Hide Apps', 'ART_AND_DESIGN', '4.7', '87510', '8.7M', '5,000,000+', 'Free', '0', 'Everyone', 'Art & Design', 'August 1, 2018', '1.2.4', '4.0.3 and up'] \n",
      "\n",
      "['Sketch - Draw & Paint', 'ART_AND_DESIGN', '4.5', '215644', '25M', '50,000,000+', 'Free', '0', 'Teen', 'Art & Design', 'June 8, 2018', 'Varies with device', '4.2 and up'] \n",
      "\n",
      "Number of rows:  9659\n",
      "Number of columns:  13\n"
     ]
    }
   ],
   "source": [
    "explore_data(android_clean,True)"
   ]
  },
  {
   "cell_type": "markdown",
   "metadata": {},
   "source": [
    "### Removing Non-English Apps"
   ]
  },
  {
   "cell_type": "markdown",
   "metadata": {},
   "source": [
    "Remember that we use English for the apps we develop at our company, and we'd like to analyze only the apps that are directed toward an English-speaking audience. "
   ]
  },
  {
   "cell_type": "markdown",
   "metadata": {},
   "source": [
    "#### Part One"
   ]
  },
  {
   "cell_type": "markdown",
   "metadata": {},
   "source": [
    "If we explore the data long enough, we'll find that both data sets have apps with names that suggest they are not directed toward an English-speaking audience. Below, we see a couple of examples from both data sets (iOS data sets and Android data sets that has been cleaned):"
   ]
  },
  {
   "cell_type": "code",
   "execution_count": 14,
   "metadata": {},
   "outputs": [
    {
     "name": "stdout",
     "output_type": "stream",
     "text": [
      "爱奇艺PPS -《欢乐颂2》电视剧热播\n",
      "【脱出ゲーム】絶対に最後までプレイしないで 〜謎解き＆ブロックパズル〜\n",
      "-----------\n",
      "中国語 AQリスニング\n",
      "لعبة تقدر تربح DZ\n"
     ]
    }
   ],
   "source": [
    "print(ios_data[813][1])\n",
    "print(ios_data[6731][1])\n",
    "print('-----------')\n",
    "print(android_clean[4360][0])\n",
    "print(android_clean[7939][0])"
   ]
  },
  {
   "cell_type": "markdown",
   "metadata": {},
   "source": [
    "We're not interested in keeping these apps. so we'll remove them. One way to go about this is to remove each app with a name containing symbol that is not commonly used in English text, which is usually includes letters from the English alphabet, number composed of digits from 0 to 9, punctuation marks (.,!,?,;), and other symbols (+,*,/)"
   ]
  },
  {
   "cell_type": "markdown",
   "metadata": {},
   "source": [
    "All numbers corresponding to characters that commonly use in English text are in range 0-127, according to the ASCII. Based on this range, we can build a function that detects a character belongs to the set of common English characters or not. "
   ]
  },
  {
   "cell_type": "code",
   "execution_count": 15,
   "metadata": {},
   "outputs": [],
   "source": [
    "def isEnglish(strings):\n",
    "    for char in strings:\n",
    "        if ord(char) > 127:\n",
    "            return False\n",
    "            break\n",
    "            \n",
    "    return True"
   ]
  },
  {
   "cell_type": "code",
   "execution_count": 16,
   "metadata": {},
   "outputs": [
    {
     "name": "stdout",
     "output_type": "stream",
     "text": [
      "True\n",
      "False\n",
      "False\n",
      "False\n"
     ]
    }
   ],
   "source": [
    "instagram = 'Instagram'\n",
    "pps = '爱奇艺PPS -《欢乐颂2》电视剧热播'\n",
    "docs='Docs To Go™ Free Office Suite'\n",
    "instachat='Instachat 😜'\n",
    "print(isEnglish(instagram))\n",
    "print(isEnglish(pps))\n",
    "print(isEnglish(docs))\n",
    "print(isEnglish(instachat))"
   ]
  },
  {
   "cell_type": "markdown",
   "metadata": {},
   "source": [
    "The `isEnglish()` function return right answer for `instagram` and `pps`, but return incorrect values for the next `docs` and `instachat`, which is the right values must be **True** because both are in English text. As you can see above, the last two strings has symbols that are not alphabet character. This results in the ASCII value for the symbols being more than 127, thereby returning the **False** value for both strings. Let see the number of ASCII from that symbols, below:"
   ]
  },
  {
   "cell_type": "code",
   "execution_count": 17,
   "metadata": {},
   "outputs": [
    {
     "name": "stdout",
     "output_type": "stream",
     "text": [
      "™ 8482\n",
      "😜 128540\n"
     ]
    }
   ],
   "source": [
    "for char in docs:\n",
    "    if ord(char)>127:\n",
    "        print(char,ord(char))\n",
    "\n",
    "for char in instachat:\n",
    "    if ord(char)>127:\n",
    "        print(char,ord(char))"
   ]
  },
  {
   "cell_type": "markdown",
   "metadata": {},
   "source": [
    "From the result means that `isEnglish()` function need to be fix, to handle any kind of symbols that appeared in English text."
   ]
  },
  {
   "cell_type": "markdown",
   "metadata": {},
   "source": [
    "#### Part Two"
   ]
  },
  {
   "cell_type": "markdown",
   "metadata": {},
   "source": [
    "In this part we will be fix the `isEnglish()` function, so we'll not going to lose useful data, since many English app will be incorrectly labeled as non-English. To minimize the impact of data loss, just remove an app if its name has more than three characters with corresponding numbers falling outside the ASCII range."
   ]
  },
  {
   "cell_type": "code",
   "execution_count": 18,
   "metadata": {},
   "outputs": [],
   "source": [
    "def isEnglish(strings):\n",
    "    count=0\n",
    "    for char in strings:\n",
    "        if ord(char)>127:\n",
    "            count+=1\n",
    "    if count>3: return False\n",
    "    return True"
   ]
  },
  {
   "cell_type": "markdown",
   "metadata": {},
   "source": [
    "Lets try using `pps`, `docs`, and `instachat` strings to check the result of the new `isEnglish()` function (do not need to check with `instagram` because there are no symbol in that string)."
   ]
  },
  {
   "cell_type": "code",
   "execution_count": 19,
   "metadata": {},
   "outputs": [
    {
     "name": "stdout",
     "output_type": "stream",
     "text": [
      "True\n",
      "False\n",
      "True\n",
      "True\n"
     ]
    }
   ],
   "source": [
    "pps = '爱奇艺PPS -《欢乐颂2》电视剧热播'\n",
    "docs='Docs To Go™ Free Office Suite'\n",
    "instachat='Instachat 😜'\n",
    "print(isEnglish(instagram))\n",
    "print(isEnglish(pps))\n",
    "print(isEnglish(docs))\n",
    "print(isEnglish(instachat))"
   ]
  },
  {
   "cell_type": "markdown",
   "metadata": {},
   "source": [
    "As we can see, the function already return the right answer. Now, we will using `isEnglish()` to filter out non-English app from android data sets and iOS data sets."
   ]
  },
  {
   "cell_type": "code",
   "execution_count": 20,
   "metadata": {},
   "outputs": [],
   "source": [
    "android_english=[]\n",
    "ios_english=[]\n",
    "\n",
    "for row in android_clean:\n",
    "    name=row[0]\n",
    "    if isEnglish(name)==True:\n",
    "        android_english.append(row)\n",
    "\n",
    "for row in ios_data:\n",
    "    name=row[1]\n",
    "    if isEnglish(name)==True:\n",
    "        ios_english.append(row)"
   ]
  },
  {
   "cell_type": "code",
   "execution_count": 21,
   "metadata": {},
   "outputs": [
    {
     "name": "stdout",
     "output_type": "stream",
     "text": [
      "['Photo Editor & Candy Camera & Grid & ScrapBook', 'ART_AND_DESIGN', '4.1', '159', '19M', '10,000+', 'Free', '0', 'Everyone', 'Art & Design', 'January 7, 2018', '1.0.0', '4.0.3 and up'] \n",
      "\n",
      "['U Launcher Lite – FREE Live Cool Themes, Hide Apps', 'ART_AND_DESIGN', '4.7', '87510', '8.7M', '5,000,000+', 'Free', '0', 'Everyone', 'Art & Design', 'August 1, 2018', '1.2.4', '4.0.3 and up'] \n",
      "\n",
      "['Sketch - Draw & Paint', 'ART_AND_DESIGN', '4.5', '215644', '25M', '50,000,000+', 'Free', '0', 'Teen', 'Art & Design', 'June 8, 2018', 'Varies with device', '4.2 and up'] \n",
      "\n",
      "Number of rows:  9614\n",
      "Number of columns:  13\n"
     ]
    }
   ],
   "source": [
    "explore_data(android_english, True)"
   ]
  },
  {
   "cell_type": "code",
   "execution_count": 22,
   "metadata": {},
   "outputs": [
    {
     "name": "stdout",
     "output_type": "stream",
     "text": [
      "['284882215', 'Facebook', '389879808', 'USD', '0.0', '2974676', '212', '3.5', '3.5', '95.0', '4+', 'Social Networking', '37', '1', '29', '1'] \n",
      "\n",
      "['389801252', 'Instagram', '113954816', 'USD', '0.0', '2161558', '1289', '4.5', '4.0', '10.23', '12+', 'Photo & Video', '37', '0', '29', '1'] \n",
      "\n",
      "['529479190', 'Clash of Clans', '116476928', 'USD', '0.0', '2130805', '579', '4.5', '4.5', '9.24.12', '9+', 'Games', '38', '5', '18', '1'] \n",
      "\n",
      "Number of rows:  6183\n",
      "Number of columns:  16\n"
     ]
    }
   ],
   "source": [
    "explore_data(ios_english, True)"
   ]
  },
  {
   "cell_type": "markdown",
   "metadata": {},
   "source": [
    "After removing non-English app that did not match the criteria, now we just have **9614 data** from Android and **6183 data** from iOS."
   ]
  },
  {
   "cell_type": "markdown",
   "metadata": {},
   "source": [
    "### Isolating the Free Apps"
   ]
  },
  {
   "cell_type": "markdown",
   "metadata": {},
   "source": [
    "As mentioned in introduction, the company just build apps that are free to download and installs, and our main source of revenue consists of in-app adds. But, both of data sets (Android and iOS) contain free and non-free apps. So, in this part we need to isolate only the free apps for our analysis. Isolating the free apps is last step in data cleaning process."
   ]
  },
  {
   "cell_type": "markdown",
   "metadata": {},
   "source": [
    "First, we need to know the number of column that has information about paid or free applications."
   ]
  },
  {
   "cell_type": "code",
   "execution_count": 23,
   "metadata": {},
   "outputs": [
    {
     "name": "stdout",
     "output_type": "stream",
     "text": [
      "['App', 'Category', 'Rating', 'Reviews', 'Size', 'Installs', 'Type', 'Price', 'Content Rating', 'Genres', 'Last Updated', 'Current Ver', 'Android Ver']\n",
      "['id', 'track_name', 'size_bytes', 'currency', 'price', 'rating_count_tot', 'rating_count_ver', 'user_rating', 'user_rating_ver', 'ver', 'cont_rating', 'prime_genre', 'sup_devices.num', 'ipadSc_urls.num', 'lang.num', 'vpp_lic']\n"
     ]
    }
   ],
   "source": [
    "print(android_header)\n",
    "print(ios_header)"
   ]
  },
  {
   "cell_type": "markdown",
   "metadata": {},
   "source": [
    "From part of `Open and Exploring the Data`, for Android data sets it is **price** column in index 7, and for iOS data sets it is **price** column in index 4. Now, we can start to isolate the free apps below:"
   ]
  },
  {
   "cell_type": "code",
   "execution_count": 24,
   "metadata": {},
   "outputs": [],
   "source": [
    "android_free=[]\n",
    "ios_free=[]\n",
    "\n",
    "for row in android_english:\n",
    "    price = row[7]\n",
    "    if  price == '0':\n",
    "        android_free.append(row)\n",
    "for row in ios_english:\n",
    "    price = float(row[4])\n",
    "    if price==0.0:\n",
    "        ios_free.append(row)"
   ]
  },
  {
   "cell_type": "code",
   "execution_count": 25,
   "metadata": {},
   "outputs": [
    {
     "name": "stdout",
     "output_type": "stream",
     "text": [
      "8864\n",
      "3222\n"
     ]
    }
   ],
   "source": [
    "print(len(android_free))\n",
    "print(len(ios_free))"
   ]
  },
  {
   "cell_type": "markdown",
   "metadata": {},
   "source": [
    "Now, we have **8864 free apps** for Android and **3222 free apps** for iOs."
   ]
  },
  {
   "cell_type": "markdown",
   "metadata": {},
   "source": [
    "## Data Analysis"
   ]
  },
  {
   "cell_type": "markdown",
   "metadata": {},
   "source": [
    "After finish cleaning the data, now we start to analysis data sets to determine the kind of apps that are likely to attract more users because our revenue is highly influenced by the number of people using our apps.\n",
    "\n",
    "To minimize risks and overhead, our validation strategy for an app idea is comprised of three steps:\n",
    "    1. Build a minimal Android version of the app, and add it to Google Play\n",
    "    2. If the app has a good response from users, we develop it further\n",
    "    3. If the app is profitable after six months, we build an iOS version of the app and add it to the App Store\n",
    "\n",
    "Because our end goal is to add the app on both Google Play and App Store, we need to find app profiles that are successful on both markets. For instance, a profile that works well for both markets might be a productivity app that makes use gamification.\n",
    "\n",
    "Before start our analysis, we can categorize the category of successfull app profiles based on Genre, and that are:\n",
    "- Most Common Apps by Genre\n",
    "- Most Popular Apps by Genre"
   ]
  },
  {
   "cell_type": "markdown",
   "metadata": {},
   "source": [
    "### Most Common Apss by Genre"
   ]
  },
  {
   "cell_type": "markdown",
   "metadata": {},
   "source": [
    "In this part, we will find the most common genre on the market based on the percentage of application with that genre in data set."
   ]
  },
  {
   "cell_type": "markdown",
   "metadata": {},
   "source": [
    "#### Part One"
   ]
  },
  {
   "cell_type": "markdown",
   "metadata": {},
   "source": [
    "First, we need to know what feature that needed to find out the genre of apps in Android data sets and iOS data sets. From the part of `Open and Exploring the Data`, useful features and their descriptions have been determined and we can know that:\n",
    "1. For Android data sets, features related to genre are `Category` and `Genres`. \n",
    "2. For iOS data sets, there is only one feature related to the genre namely `prime_genre`\n",
    "\n",
    "Next, we need to find the index of that features."
   ]
  },
  {
   "cell_type": "code",
   "execution_count": 26,
   "metadata": {},
   "outputs": [
    {
     "name": "stdout",
     "output_type": "stream",
     "text": [
      "1 Category\n",
      "9 Genres\n",
      "11 prime_genre\n"
     ]
    }
   ],
   "source": [
    "for i in range(len(android_header)):\n",
    "    if android_header[i]=='Category' or android_header[i]=='Genres':\n",
    "        print(i,android_header[i])\n",
    "for i in range(len(ios_header)):\n",
    "    if ios_header[i]=='prime_genre':\n",
    "        print(i,ios_header[i])"
   ]
  },
  {
   "cell_type": "markdown",
   "metadata": {},
   "source": [
    "So, for Android data sets we will use index `1` and `9` and for iOS data sets the index is `11`."
   ]
  },
  {
   "cell_type": "markdown",
   "metadata": {},
   "source": [
    "#### Part Two"
   ]
  },
  {
   "cell_type": "markdown",
   "metadata": {},
   "source": [
    "Based on information above, we will build two functions we can use to analyze the frequency tables:\n",
    "- One function to generate frequency tables that show percentages\n",
    "- Another function we can use to display the percentages in a descending order"
   ]
  },
  {
   "cell_type": "code",
   "execution_count": 27,
   "metadata": {},
   "outputs": [],
   "source": [
    "def freq_table(dataset,index):\n",
    "    freq={}\n",
    "    freq_percent={}\n",
    "    total=0\n",
    "    for row in dataset:\n",
    "        total+=1\n",
    "        genre=row[index]\n",
    "        if genre in freq:\n",
    "            freq[genre]+=1\n",
    "        else: freq[genre]=1\n",
    "    \n",
    "    for genre in freq:\n",
    "        freq_percent[genre]=(freq[genre]/total)*100\n",
    "    \n",
    "    return freq_percent"
   ]
  },
  {
   "cell_type": "code",
   "execution_count": 28,
   "metadata": {},
   "outputs": [],
   "source": [
    "def display_table(dataset,index):\n",
    "    table = freq_table(dataset,index)\n",
    "    table_display=[]\n",
    "    for genre in table:\n",
    "        genre_percent_tuple = (table[genre],genre)\n",
    "        table_display.append(genre_percent_tuple)\n",
    "    \n",
    "    table_sorted=sorted(table_display,reverse=True)\n",
    "    for data in table_sorted:\n",
    "        print(data[1],':',data[0])"
   ]
  },
  {
   "cell_type": "markdown",
   "metadata": {},
   "source": [
    "##### Android Dat set Table"
   ]
  },
  {
   "cell_type": "markdown",
   "metadata": {},
   "source": [
    "Based on `Category` in index `1`."
   ]
  },
  {
   "cell_type": "code",
   "execution_count": 29,
   "metadata": {},
   "outputs": [
    {
     "name": "stdout",
     "output_type": "stream",
     "text": [
      "FAMILY : 19.223826714801444\n",
      "GAME : 9.510379061371841\n",
      "TOOLS : 8.461191335740072\n",
      "BUSINESS : 4.580324909747293\n",
      "LIFESTYLE : 3.9034296028880866\n",
      "PRODUCTIVITY : 3.892148014440433\n",
      "FINANCE : 3.7003610108303246\n",
      "MEDICAL : 3.5424187725631766\n",
      "SPORTS : 3.4183212996389893\n",
      "PERSONALIZATION : 3.3167870036101084\n",
      "COMMUNICATION : 3.2490974729241873\n",
      "HEALTH_AND_FITNESS : 3.068592057761733\n",
      "PHOTOGRAPHY : 2.944494584837545\n",
      "NEWS_AND_MAGAZINES : 2.7978339350180503\n",
      "SOCIAL : 2.6624548736462095\n",
      "TRAVEL_AND_LOCAL : 2.33528880866426\n",
      "SHOPPING : 2.2450361010830324\n",
      "BOOKS_AND_REFERENCE : 2.1435018050541514\n",
      "DATING : 1.861462093862816\n",
      "VIDEO_PLAYERS : 1.782490974729242\n",
      "MAPS_AND_NAVIGATION : 1.3989169675090252\n",
      "FOOD_AND_DRINK : 1.2409747292418771\n",
      "EDUCATION : 1.128158844765343\n",
      "LIBRARIES_AND_DEMO : 0.9363718411552346\n",
      "AUTO_AND_VEHICLES : 0.9250902527075812\n",
      "ENTERTAINMENT : 0.8799638989169676\n",
      "HOUSE_AND_HOME : 0.8235559566787004\n",
      "WEATHER : 0.8009927797833934\n",
      "EVENTS : 0.7107400722021661\n",
      "PARENTING : 0.6543321299638989\n",
      "ART_AND_DESIGN : 0.6430505415162455\n",
      "COMICS : 0.6204873646209386\n",
      "BEAUTY : 0.5979241877256317\n"
     ]
    }
   ],
   "source": [
    "display_table(android_free,1)"
   ]
  },
  {
   "cell_type": "markdown",
   "metadata": {},
   "source": [
    "##### Analysis"
   ]
  },
  {
   "cell_type": "markdown",
   "metadata": {},
   "source": [
    "From the result, the most common apps by Genre based on Category in Android Data sets is `Family` with the percentage around **19%**. Followed by `Game` (**9.5%**) and `Tools` (**8.5%**). Eventhough, Game is the second one with high percentage, but after Tools, other categories that follow are apps categories that are not designed for fun, instead have specific practical purpose such as business, lifestyle, productivity, finance, medical, etc.\n",
    "\n",
    "Practical apps seems to have a good representation in Google Apps. It can be seen in the table percentage that the distribution of each category for Free English Apps not dominant to only one category, but almost evenly distributed in each category. "
   ]
  },
  {
   "cell_type": "markdown",
   "metadata": {},
   "source": [
    "Based on `Genres` in index `9`."
   ]
  },
  {
   "cell_type": "code",
   "execution_count": 30,
   "metadata": {},
   "outputs": [
    {
     "name": "stdout",
     "output_type": "stream",
     "text": [
      "Tools : 8.449909747292418\n",
      "Entertainment : 6.069494584837545\n",
      "Education : 5.347472924187725\n",
      "Business : 4.580324909747293\n",
      "Productivity : 3.892148014440433\n",
      "Lifestyle : 3.892148014440433\n",
      "Finance : 3.7003610108303246\n",
      "Medical : 3.5424187725631766\n",
      "Sports : 3.463447653429603\n",
      "Personalization : 3.3167870036101084\n",
      "Communication : 3.2490974729241873\n",
      "Action : 3.1024368231046933\n",
      "Health & Fitness : 3.068592057761733\n",
      "Photography : 2.944494584837545\n",
      "News & Magazines : 2.7978339350180503\n",
      "Social : 2.6624548736462095\n",
      "Travel & Local : 2.3240072202166067\n",
      "Shopping : 2.2450361010830324\n",
      "Books & Reference : 2.1435018050541514\n",
      "Simulation : 2.0419675090252705\n",
      "Dating : 1.861462093862816\n",
      "Arcade : 1.861462093862816\n",
      "Video Players & Editors : 1.782490974729242\n",
      "Casual : 1.7486462093862816\n",
      "Maps & Navigation : 1.3989169675090252\n",
      "Food & Drink : 1.2409747292418771\n",
      "Puzzle : 1.128158844765343\n",
      "Racing : 0.9927797833935018\n",
      "Role Playing : 0.9363718411552346\n",
      "Libraries & Demo : 0.9363718411552346\n",
      "Auto & Vehicles : 0.9250902527075812\n",
      "Strategy : 0.9138086642599278\n",
      "House & Home : 0.8235559566787004\n",
      "Weather : 0.8009927797833934\n",
      "Events : 0.7107400722021661\n",
      "Adventure : 0.6768953068592057\n",
      "Comics : 0.6092057761732852\n",
      "Beauty : 0.5979241877256317\n",
      "Art & Design : 0.5979241877256317\n",
      "Parenting : 0.4963898916967509\n",
      "Card : 0.4399819494584838\n",
      "Casino : 0.42870036101083037\n",
      "Trivia : 0.41741877256317694\n",
      "Educational;Education : 0.39485559566787\n",
      "Board : 0.3835740072202166\n",
      "Educational : 0.3722924187725632\n",
      "Education;Education : 0.33844765342960287\n",
      "Word : 0.2594765342960289\n",
      "Casual;Pretend Play : 0.236913357400722\n",
      "Music : 0.2030685920577617\n",
      "Racing;Action & Adventure : 0.16922382671480143\n",
      "Puzzle;Brain Games : 0.16922382671480143\n",
      "Entertainment;Music & Video : 0.16922382671480143\n",
      "Casual;Brain Games : 0.13537906137184114\n",
      "Casual;Action & Adventure : 0.13537906137184114\n",
      "Arcade;Action & Adventure : 0.12409747292418773\n",
      "Action;Action & Adventure : 0.10153429602888085\n",
      "Educational;Pretend Play : 0.09025270758122744\n",
      "Simulation;Action & Adventure : 0.078971119133574\n",
      "Parenting;Education : 0.078971119133574\n",
      "Entertainment;Brain Games : 0.078971119133574\n",
      "Board;Brain Games : 0.078971119133574\n",
      "Parenting;Music & Video : 0.06768953068592057\n",
      "Educational;Brain Games : 0.06768953068592057\n",
      "Casual;Creativity : 0.06768953068592057\n",
      "Art & Design;Creativity : 0.06768953068592057\n",
      "Education;Pretend Play : 0.056407942238267145\n",
      "Role Playing;Pretend Play : 0.04512635379061372\n",
      "Education;Creativity : 0.04512635379061372\n",
      "Role Playing;Action & Adventure : 0.033844765342960284\n",
      "Puzzle;Action & Adventure : 0.033844765342960284\n",
      "Entertainment;Creativity : 0.033844765342960284\n",
      "Entertainment;Action & Adventure : 0.033844765342960284\n",
      "Educational;Creativity : 0.033844765342960284\n",
      "Educational;Action & Adventure : 0.033844765342960284\n",
      "Education;Music & Video : 0.033844765342960284\n",
      "Education;Brain Games : 0.033844765342960284\n",
      "Education;Action & Adventure : 0.033844765342960284\n",
      "Adventure;Action & Adventure : 0.033844765342960284\n",
      "Video Players & Editors;Music & Video : 0.02256317689530686\n",
      "Sports;Action & Adventure : 0.02256317689530686\n",
      "Simulation;Pretend Play : 0.02256317689530686\n",
      "Puzzle;Creativity : 0.02256317689530686\n",
      "Music;Music & Video : 0.02256317689530686\n",
      "Entertainment;Pretend Play : 0.02256317689530686\n",
      "Casual;Education : 0.02256317689530686\n",
      "Board;Action & Adventure : 0.02256317689530686\n",
      "Trivia;Education : 0.01128158844765343\n",
      "Travel & Local;Action & Adventure : 0.01128158844765343\n",
      "Tools;Education : 0.01128158844765343\n",
      "Strategy;Education : 0.01128158844765343\n",
      "Strategy;Creativity : 0.01128158844765343\n",
      "Strategy;Action & Adventure : 0.01128158844765343\n",
      "Simulation;Education : 0.01128158844765343\n",
      "Role Playing;Brain Games : 0.01128158844765343\n",
      "Racing;Pretend Play : 0.01128158844765343\n",
      "Puzzle;Education : 0.01128158844765343\n",
      "Parenting;Brain Games : 0.01128158844765343\n",
      "Music & Audio;Music & Video : 0.01128158844765343\n",
      "Lifestyle;Pretend Play : 0.01128158844765343\n",
      "Lifestyle;Education : 0.01128158844765343\n",
      "Health & Fitness;Education : 0.01128158844765343\n",
      "Health & Fitness;Action & Adventure : 0.01128158844765343\n",
      "Entertainment;Education : 0.01128158844765343\n",
      "Communication;Creativity : 0.01128158844765343\n",
      "Comics;Creativity : 0.01128158844765343\n",
      "Casual;Music & Video : 0.01128158844765343\n",
      "Card;Brain Games : 0.01128158844765343\n",
      "Card;Action & Adventure : 0.01128158844765343\n",
      "Books & Reference;Education : 0.01128158844765343\n",
      "Art & Design;Pretend Play : 0.01128158844765343\n",
      "Art & Design;Action & Adventure : 0.01128158844765343\n",
      "Arcade;Pretend Play : 0.01128158844765343\n",
      "Adventure;Education : 0.01128158844765343\n"
     ]
    }
   ],
   "source": [
    "display_table(android_free,9)"
   ]
  },
  {
   "cell_type": "markdown",
   "metadata": {},
   "source": [
    "##### Analysis"
   ]
  },
  {
   "cell_type": "markdown",
   "metadata": {},
   "source": [
    "The difference between the Genres and the Category columns is not clearly, but one thing we can notice is that the Genres column is much more specific because has more categories. Because we just want to look for the bigger picture at this moment, so working with the Category column is more recommended."
   ]
  },
  {
   "cell_type": "markdown",
   "metadata": {},
   "source": [
    "##### iOS Data Set Table"
   ]
  },
  {
   "cell_type": "markdown",
   "metadata": {},
   "source": [
    "Based on `prime_category` in index `11`."
   ]
  },
  {
   "cell_type": "code",
   "execution_count": 31,
   "metadata": {},
   "outputs": [
    {
     "name": "stdout",
     "output_type": "stream",
     "text": [
      "Games : 58.16263190564867\n",
      "Entertainment : 7.883302296710118\n",
      "Photo & Video : 4.9658597144630665\n",
      "Education : 3.662321539416512\n",
      "Social Networking : 3.2898820608317814\n",
      "Shopping : 2.60707635009311\n",
      "Utilities : 2.5139664804469275\n",
      "Sports : 2.1415270018621975\n",
      "Music : 2.0484171322160147\n",
      "Health & Fitness : 2.0173805090006205\n",
      "Productivity : 1.7380509000620732\n",
      "Lifestyle : 1.5828677839851024\n",
      "News : 1.3345747982619491\n",
      "Travel : 1.2414649286157666\n",
      "Finance : 1.1173184357541899\n",
      "Weather : 0.8690254500310366\n",
      "Food & Drink : 0.8069522036002483\n",
      "Reference : 0.5586592178770949\n",
      "Business : 0.5276225946617008\n",
      "Book : 0.4345127250155183\n",
      "Navigation : 0.186219739292365\n",
      "Medical : 0.186219739292365\n",
      "Catalogs : 0.12414649286157665\n"
     ]
    }
   ],
   "source": [
    "display_table(ios_free,11)"
   ]
  },
  {
   "cell_type": "markdown",
   "metadata": {},
   "source": [
    "##### Analysis"
   ]
  },
  {
   "cell_type": "markdown",
   "metadata": {},
   "source": [
    "Among the Free English Apps in App Store, more than a half (**58.16%**) are `Games`. Followed by `Entertainment` around **8%**, and `Photo & Video` which are close to **5%**. Around **3%** there are apps with Education and Social Networking, followed by Shopping, Utilities, and Sports around **2%**. \n",
    "\n",
    "General information in App Store for Free English Apps is dominated by apps that are designed for fun, while apps with specific practical purpose are more rare. This is really different from Google Play Store, and also the distribution of Free English apps for each genre in App Store are not that good because it is to dominant in one of genre (Games). However, it doesn't mean that the most common apps also imply that they also have the greatest number of users. "
   ]
  },
  {
   "cell_type": "markdown",
   "metadata": {},
   "source": [
    "Up to this point, we found that App Store is dominated by Free English Apps designed for fun, meanwhile Google Play shows a more balanced distribution of both practical and for-fun apps. Now, we will find out about the kind of apps that have most users."
   ]
  },
  {
   "cell_type": "markdown",
   "metadata": {},
   "source": [
    "### Most Popular Apps by Genre on the App Store"
   ]
  },
  {
   "cell_type": "markdown",
   "metadata": {},
   "source": [
    "One way to find out what genres are the most popular (have the most users) is to calculate the average number of installs for each app genre. For the Android data set, we can find this informations in the `Installs` column, but this information is missing for the iOS Store data set. As a workaround, we will take the total number of user ratings as a proxy, which we can find in the `rating_count_tot` app."
   ]
  },
  {
   "cell_type": "markdown",
   "metadata": {},
   "source": [
    "Below, we calculate the average number of user ratings per app genre on the App Store."
   ]
  },
  {
   "cell_type": "code",
   "execution_count": 32,
   "metadata": {},
   "outputs": [
    {
     "name": "stdout",
     "output_type": "stream",
     "text": [
      "5 rating_count_tot\n"
     ]
    }
   ],
   "source": [
    "for i in range(len(ios_header)):\n",
    "    if ios_header[i]=='rating_count_tot':\n",
    "        print(i,ios_header[i])"
   ]
  },
  {
   "cell_type": "code",
   "execution_count": 33,
   "metadata": {},
   "outputs": [],
   "source": [
    "ios_freq=freq_table(ios_free,11)"
   ]
  },
  {
   "cell_type": "code",
   "execution_count": 34,
   "metadata": {
    "scrolled": true
   },
   "outputs": [
    {
     "name": "stdout",
     "output_type": "stream",
     "text": [
      "Navigation : 86090.33333333333\n",
      "Reference : 74942.11111111111\n",
      "Social Networking : 71548.34905660378\n",
      "Music : 57326.530303030304\n",
      "Weather : 52279.892857142855\n",
      "Book : 39758.5\n",
      "Food & Drink : 33333.92307692308\n",
      "Finance : 31467.944444444445\n",
      "Photo & Video : 28441.54375\n",
      "Travel : 28243.8\n",
      "Shopping : 26919.690476190477\n",
      "Health & Fitness : 23298.015384615384\n",
      "Sports : 23008.898550724636\n",
      "Games : 22788.6696905016\n",
      "News : 21248.023255813954\n",
      "Productivity : 21028.410714285714\n",
      "Utilities : 18684.456790123455\n",
      "Lifestyle : 16485.764705882353\n",
      "Entertainment : 14029.830708661417\n",
      "Business : 7491.117647058823\n",
      "Education : 7003.983050847458\n",
      "Catalogs : 4004.0\n",
      "Medical : 612.0\n"
     ]
    }
   ],
   "source": [
    "genre_rating = []\n",
    "for genre in ios_freq:\n",
    "    total=0\n",
    "    len_genre=0\n",
    "    for row in ios_free:\n",
    "        genre_app = row[11]\n",
    "        if genre_app==genre:\n",
    "            user_rating = float(row[5])\n",
    "            total+=user_rating\n",
    "            len_genre+=1\n",
    "    avg_user_rating=total/len_genre\n",
    "    genre_rating.append((avg_user_rating,genre))\n",
    "\n",
    "genre_rating_sorted=sorted(genre_rating,reverse=True)\n",
    "for data in genre_rating_sorted:\n",
    "    print(data[1],':',data[0])"
   ]
  },
  {
   "cell_type": "markdown",
   "metadata": {},
   "source": [
    "On average, `Navigation` apps have the highest number of user reviews, but this figure is heavily influenced by Waze and Google Maps, which have close to half a million user reviews together. "
   ]
  },
  {
   "cell_type": "code",
   "execution_count": 35,
   "metadata": {},
   "outputs": [
    {
     "name": "stdout",
     "output_type": "stream",
     "text": [
      "Waze - GPS Navigation, Maps & Real-time Traffic : 345046\n",
      "Google Maps - Navigation & Transit : 154911\n",
      "Geocaching® : 12811\n",
      "CoPilot GPS – Car Navigation & Offline Maps : 3582\n",
      "ImmobilienScout24: Real Estate Search in Germany : 187\n",
      "Railway Route Search : 5\n"
     ]
    }
   ],
   "source": [
    "for row in ios_free:\n",
    "    if row[11]=='Navigation':\n",
    "        print(row[1],':',row[5])"
   ]
  },
  {
   "cell_type": "markdown",
   "metadata": {},
   "source": [
    "This pattern also happened in Social Networking apps, where the average number is heavily influenced by a few giants like Facebook, Whatsapp, Pinterest, Skype, etc. Music apps's high average number influenced by a few big players like Spotify, Shazam, Pandora, etc."
   ]
  },
  {
   "cell_type": "markdown",
   "metadata": {},
   "source": [
    "Our aim is to find popular genres, but navigation, social networking or music apps might seem more popular than they really are. The average number of ratings seem to skewed by very few apps which have hundreds of thousands of user ratings, while other apps may struggle to get pas the 10,000 threshold. "
   ]
  },
  {
   "cell_type": "markdown",
   "metadata": {},
   "source": [
    "Reference apps have 74,942 user ratings on average, but it's actually the Bible and Dictionary.com which skew up the average rating:"
   ]
  },
  {
   "cell_type": "code",
   "execution_count": 36,
   "metadata": {},
   "outputs": [
    {
     "name": "stdout",
     "output_type": "stream",
     "text": [
      "Bible : 985920\n",
      "Dictionary.com Dictionary & Thesaurus : 200047\n",
      "Dictionary.com Dictionary & Thesaurus for iPad : 54175\n",
      "Google Translate : 26786\n",
      "Muslim Pro: Ramadan 2017 Prayer Times, Azan, Quran : 18418\n",
      "New Furniture Mods - Pocket Wiki & Game Tools for Minecraft PC Edition : 17588\n",
      "Merriam-Webster Dictionary : 16849\n",
      "Night Sky : 12122\n",
      "City Maps for Minecraft PE - The Best Maps for Minecraft Pocket Edition (MCPE) : 8535\n",
      "LUCKY BLOCK MOD ™ for Minecraft PC Edition - The Best Pocket Wiki & Mods Installer Tools : 4693\n",
      "GUNS MODS for Minecraft PC Edition - Mods Tools : 1497\n",
      "Guides for Pokémon GO - Pokemon GO News and Cheats : 826\n",
      "WWDC : 762\n",
      "Horror Maps for Minecraft PE - Download The Scariest Maps for Minecraft Pocket Edition (MCPE) Free : 718\n",
      "VPN Express : 14\n",
      "Real Bike Traffic Rider Virtual Reality Glasses : 8\n",
      "教えて!goo : 0\n",
      "Jishokun-Japanese English Dictionary & Translator : 0\n"
     ]
    }
   ],
   "source": [
    "for row in ios_free:\n",
    "    if row[11]=='Reference':\n",
    "        print(row[1],':',row[5])"
   ]
  },
  {
   "cell_type": "markdown",
   "metadata": {},
   "source": [
    "Other genres that seem popular include weather, book, food and drink, or finance. Lets take a time to talk about four of them:\n",
    "- Wheater Apps --- people generally don't spend too much time in-app, and the chances of making profit from in-app adds are low. Also, getting reliable live weather data may require us to connect our apps to non-free APIs.\n",
    "- Book --- this seems overlap a bit with the app idea, but when people read a digital book they will spend a lot of time for that, which is they will open it more often. Also, because the main focus will be just a book, then we can add more features that focus in make our apps more fun. Nowadays, there are a lot of e-book.\n",
    "- Food and drink --- examples here include Starbucks, McDonald's, Burger King's, etc. So, making a popular food and drink app requires actual cooking and a delivery service, which is outside the scope of the company\n",
    "- Finance Apps --- these apps involve banking, paying bills, money transfer, etc. Building a financa app requires domain knowledge"
   ]
  },
  {
   "cell_type": "markdown",
   "metadata": {},
   "source": [
    "From above, genres that seems to show potential is Book. One thing we could do is take another popular book and turn it into an app where we could add different features besides the raw version of the book. The features like daily quotes from the book, an audio version of the book, quizzes about the book. Also, we could embed a dictionary within the app, so users don't need to exit our app to look up words in an external apps."
   ]
  },
  {
   "cell_type": "markdown",
   "metadata": {},
   "source": [
    "Now, let's analyze the Google Play Market."
   ]
  },
  {
   "cell_type": "markdown",
   "metadata": {},
   "source": [
    "### Most Popular Apps by Genre on Google Play"
   ]
  },
  {
   "cell_type": "markdown",
   "metadata": {},
   "source": [
    "For Android data sets, we have data about the number of installs for the Google Play market. So, we should be able to get a clearer picture about genre popularity. "
   ]
  },
  {
   "cell_type": "code",
   "execution_count": 37,
   "metadata": {},
   "outputs": [
    {
     "name": "stdout",
     "output_type": "stream",
     "text": [
      "5 Installs\n"
     ]
    }
   ],
   "source": [
    "for i in range(len(android_header)):\n",
    "    if android_header[i]=='Installs':\n",
    "        print(i,android_header[i])"
   ]
  },
  {
   "cell_type": "code",
   "execution_count": 38,
   "metadata": {},
   "outputs": [
    {
     "name": "stdout",
     "output_type": "stream",
     "text": [
      "1,000,000+ : 15.749097472924186\n",
      "100,000+ : 11.563628158844766\n",
      "10,000,000+ : 10.503158844765343\n",
      "10,000+ : 10.209837545126353\n",
      "1,000+ : 8.393501805054152\n",
      "100+ : 6.915613718411552\n",
      "5,000,000+ : 6.825361010830325\n",
      "500,000+ : 5.561823104693141\n",
      "50,000+ : 4.7721119133574\n",
      "5,000+ : 4.512635379061372\n",
      "10+ : 3.5424187725631766\n",
      "500+ : 3.2490974729241873\n",
      "50,000,000+ : 2.3014440433213\n",
      "100,000,000+ : 2.1322202166064983\n",
      "50+ : 1.917870036101083\n",
      "5+ : 0.78971119133574\n",
      "1+ : 0.5076714801444043\n",
      "500,000,000+ : 0.2707581227436823\n",
      "1,000,000,000+ : 0.22563176895306858\n",
      "0+ : 0.04512635379061372\n",
      "0 : 0.01128158844765343\n"
     ]
    }
   ],
   "source": [
    "display_table(android_free,5)"
   ]
  },
  {
   "cell_type": "markdown",
   "metadata": {},
   "source": [
    "As we can see, the install numbers don't seem precise enough, because the most values are open-ended (100+, 1,000+, 5,000+). For instance, we don't know whethere an app with 100,000+ installs has 100,000 installs, 200,000, or 300,000. However, we don't need very precise data for our purposes, we only want to find out which app genres attract the most users, and we don't need perfect precision with respect to the number of users. "
   ]
  },
  {
   "cell_type": "markdown",
   "metadata": {},
   "source": [
    "We're going to leave the numbers as they are, which means that we will consider that an app with 100,000+ installs has 100,000 installs, and app with 1,000,000+ installs has 1,000,000 installs, and so on. To perform computations, we need to convert each install number from string to float. It means, we need to remove the commas and the plus characters, otherwise the conversion will fail and raise an error."
   ]
  },
  {
   "cell_type": "markdown",
   "metadata": {},
   "source": [
    "We will do that below, but remember that we will use the `Category` column in index `1`."
   ]
  },
  {
   "cell_type": "code",
   "execution_count": 44,
   "metadata": {},
   "outputs": [],
   "source": [
    "android_freq=freq_table(android_free,1)"
   ]
  },
  {
   "cell_type": "code",
   "execution_count": 46,
   "metadata": {},
   "outputs": [
    {
     "name": "stdout",
     "output_type": "stream",
     "text": [
      "COMMUNICATION : 38326063.197916664\n",
      "VIDEO_PLAYERS : 24790074.17721519\n",
      "SOCIAL : 23253652.127118643\n",
      "PHOTOGRAPHY : 17840110.40229885\n",
      "PRODUCTIVITY : 16772838.591304347\n",
      "TRAVEL_AND_LOCAL : 13984077.710144928\n",
      "GAME : 12914435.883748516\n",
      "TOOLS : 10801391.298666667\n",
      "NEWS_AND_MAGAZINES : 9549178.467741935\n",
      "ENTERTAINMENT : 9146923.076923076\n",
      "BOOKS_AND_REFERENCE : 8767811.894736841\n",
      "SHOPPING : 7036877.311557789\n",
      "PERSONALIZATION : 5201482.6122448975\n",
      "FAMILY : 5180161.789906103\n",
      "WEATHER : 5074486.197183099\n",
      "SPORTS : 4274688.722772277\n",
      "HEALTH_AND_FITNESS : 4167457.3602941176\n",
      "MAPS_AND_NAVIGATION : 4056941.7741935486\n",
      "ART_AND_DESIGN : 1986335.0877192982\n",
      "FOOD_AND_DRINK : 1924897.7363636363\n",
      "EDUCATION : 1768500.0\n",
      "BUSINESS : 1704192.3399014778\n",
      "LIFESTYLE : 1437816.2687861272\n",
      "FINANCE : 1387692.475609756\n",
      "HOUSE_AND_HOME : 1331540.5616438356\n",
      "DATING : 854028.8303030303\n",
      "COMICS : 817657.2727272727\n",
      "AUTO_AND_VEHICLES : 647317.8170731707\n",
      "LIBRARIES_AND_DEMO : 638503.734939759\n",
      "PARENTING : 542603.6206896552\n",
      "BEAUTY : 513151.88679245283\n",
      "EVENTS : 253542.22222222222\n",
      "MEDICAL : 123064.7898089172\n"
     ]
    }
   ],
   "source": [
    "category_install = []\n",
    "for category in android_freq:\n",
    "    total=0\n",
    "    len_genre=0\n",
    "    for row in android_free:\n",
    "        category_app = row[1]\n",
    "        if category_app==category:\n",
    "            n_install = row[5]\n",
    "            n_install = n_install.replace(',','')\n",
    "            n_install = n_install.replace('+','')\n",
    "            total+=float(n_install)\n",
    "            len_genre+=1\n",
    "    avg_n_install=total/len_genre\n",
    "    category_install.append((avg_n_install,category))\n",
    "\n",
    "category_install_sorted=sorted(category_install,reverse=True)\n",
    "for data in category_install_sorted:\n",
    "    print(data[1],':',data[0])"
   ]
  },
  {
   "cell_type": "markdown",
   "metadata": {},
   "source": [
    "On average, communication apps have the most installs: 38,456,119. This number is heavily skewed up by a few apps that have over one billion installs (WhatsApp, Facebook, Line, Google Chrome, etc), and a few others with over 100 and 500 million installs:"
   ]
  },
  {
   "cell_type": "code",
   "execution_count": 47,
   "metadata": {},
   "outputs": [
    {
     "name": "stdout",
     "output_type": "stream",
     "text": [
      "Messenger – Text and Video Chat for Free : 1,000,000,000+\n",
      "Gmail : 1,000,000,000+\n",
      "imo beta free calls and text : 100,000,000+\n",
      "imo free video calls and chat : 500,000,000+\n",
      "Android Messages : 100,000,000+\n",
      "Google Duo - High Quality Video Calls : 500,000,000+\n",
      "UC Browser - Fast Download Private & Secure : 500,000,000+\n",
      "Skype - free IM & video calls : 1,000,000,000+\n",
      "Who : 100,000,000+\n",
      "GO SMS Pro - Messenger, Free Themes, Emoji : 100,000,000+\n",
      "WhatsApp Messenger : 1,000,000,000+\n",
      "Google Chrome: Fast & Secure : 1,000,000,000+\n",
      "Firefox Browser fast & private : 100,000,000+\n",
      "Messenger Lite: Free Calls & Messages : 100,000,000+\n",
      "LINE: Free Calls & Messages : 500,000,000+\n",
      "Hangouts : 1,000,000,000+\n",
      "Kik : 100,000,000+\n",
      "KakaoTalk: Free Calls & Text : 100,000,000+\n",
      "Opera Mini - fast web browser : 100,000,000+\n",
      "Opera Browser: Fast and Secure : 100,000,000+\n",
      "Telegram : 100,000,000+\n",
      "Truecaller: Caller ID, SMS spam blocking & Dialer : 100,000,000+\n",
      "UC Browser Mini -Tiny Fast Private & Secure : 100,000,000+\n",
      "Viber Messenger : 500,000,000+\n",
      "WeChat : 100,000,000+\n",
      "Yahoo Mail – Stay Organized : 100,000,000+\n",
      "BBM - Free Calls & Messages : 100,000,000+\n"
     ]
    }
   ],
   "source": [
    "for row in android_free:\n",
    "    if row[1]=='COMMUNICATION' and (row[5]=='1,000,000,000+'\n",
    "                                   or row[5]=='500,000,000+'\n",
    "                                   or row[5]=='100,000,000+'):\n",
    "        print(row[0],':',row[5])"
   ]
  },
  {
   "cell_type": "markdown",
   "metadata": {},
   "source": [
    "If we removed all the communication apps that have over 100 million installs, the average would be reduced ten times:"
   ]
  },
  {
   "cell_type": "code",
   "execution_count": 48,
   "metadata": {},
   "outputs": [
    {
     "data": {
      "text/plain": [
       "3593510.3486590036"
      ]
     },
     "execution_count": 48,
     "metadata": {},
     "output_type": "execute_result"
    }
   ],
   "source": [
    "under_100_m=[]\n",
    "\n",
    "for row in android_free:\n",
    "    n_install = row[5]\n",
    "    n_install = n_install.replace(',','')\n",
    "    n_install = n_install.replace('+','')\n",
    "    if row[1]=='COMMUNICATION' and float(n_install)<100000000:\n",
    "        under_100_m.append(float(n_install))\n",
    "sum(under_100_m)/len(under_100_m)"
   ]
  },
  {
   "cell_type": "code",
   "execution_count": null,
   "metadata": {},
   "outputs": [],
   "source": []
  }
 ],
 "metadata": {
  "kernelspec": {
   "display_name": "Python 3",
   "language": "python",
   "name": "python3"
  },
  "language_info": {
   "codemirror_mode": {
    "name": "ipython",
    "version": 3
   },
   "file_extension": ".py",
   "mimetype": "text/x-python",
   "name": "python",
   "nbconvert_exporter": "python",
   "pygments_lexer": "ipython3",
   "version": "3.7.0"
  }
 },
 "nbformat": 4,
 "nbformat_minor": 2
}
