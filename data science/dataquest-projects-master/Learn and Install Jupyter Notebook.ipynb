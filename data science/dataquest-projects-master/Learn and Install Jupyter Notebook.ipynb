{
 "cells": [
  {
   "cell_type": "code",
   "execution_count": null,
   "metadata": {},
   "outputs": [],
   "source": [
    "welcome_message = 'Hello, Jupyter!'\n",
    "first_cell = True\n",
    "\n",
    "if first_cell == True:\n",
    "    print(welcome_message)\n",
    "    \n",
    "print('First cell')"
   ]
  },
  {
   "cell_type": "code",
   "execution_count": null,
   "metadata": {},
   "outputs": [],
   "source": [
    "print('Second cell')"
   ]
  },
  {
   "cell_type": "code",
   "execution_count": null,
   "metadata": {},
   "outputs": [],
   "source": [
    "result = 1200 / 5\n",
    "second_cell = True\n",
    "\n",
    "if second_cell == True:\n",
    "    print(result)\n",
    "    \n",
    "print('Third cell')"
   ]
  },
  {
   "cell_type": "code",
   "execution_count": 6,
   "metadata": {},
   "outputs": [],
   "source": [
    "def welcome(a_string):\n",
    "    value = 'Welcome to ' + a_string + '!'\n",
    "    return value\n",
    "dq = 'Dataquest'\n",
    "jn = 'Jupyter Notebook'"
   ]
  },
  {
   "cell_type": "code",
   "execution_count": 8,
   "metadata": {},
   "outputs": [
    {
     "name": "stdout",
     "output_type": "stream",
     "text": [
      "Welcome to Dataquest!\n",
      "Welcome to Jupyter Notebook!\n"
     ]
    }
   ],
   "source": [
    "print(welcome(dq))\n",
    "print(welcome(jn))\n",
    "# welcome(py)"
   ]
  },
  {
   "cell_type": "code",
   "execution_count": null,
   "metadata": {},
   "outputs": [],
   "source": [
    "%history -p"
   ]
  },
  {
   "cell_type": "markdown",
   "metadata": {},
   "source": [
    "## Opening a data file\n",
    "\n",
    "- In the exercise below, I will open a `AppleStore.csv` file, which contains information about appstore downloads and user ratings.\n",
    "- I will open this csv file using the `open` function. \n",
    "    - The `open` function takes a file and return a stream\n",
    "    - In order for Python to decode the file, it is sometimes necessary to pass the `encoding` type such as `utf8`.\n",
    "- From the csv library, I used the `reader` function to open the csv file and save into a variable called `read_file`. \n",
    "- I converted the file into a `list` type using the list function and saved it in a variable called `apps_data`. \n",
    "- Making use of Python data slicing capabilities, I removed a blank space by slicing and looping through apps_data. \n",
    "- Finally, I printed the header row and four additional rows containing the data. "
   ]
  },
  {
   "cell_type": "code",
   "execution_count": 13,
   "metadata": {},
   "outputs": [
    {
     "name": "stdout",
     "output_type": "stream",
     "text": [
      "[['id', 'track_name', 'size_bytes', 'currency', 'price', 'rating_count_tot', 'rating_count_ver', 'user_rating', 'user_rating_ver', 'ver', 'cont_rating', 'prime_genre', 'sup_devices.num', 'ipadSc_urls.num', 'lang.num', 'vpp_lic'], ['281656475', 'PAC-MAN Premium', '100788224', 'USD', '3.99', '21292', '26', '4', '4.5', '6.3.5', '4+', 'Games', '38', '5', '10', '1'], ['281796108', 'Evernote - stay organized', '158578688', 'USD', '0', '161065', '26', '4', '3.5', '8.2.2', '4+', 'Productivity', '37', '5', '23', '1'], ['281940292', 'WeatherBug - Local Weather, Radar, Maps, Alerts', '100524032', 'USD', '0', '188583', '2822', '3.5', '4.5', '5.0.0', '4+', 'Weather', '37', '5', '3', '1'], ['282614216', 'eBay: Best App to Buy, Sell, Save! Online Shopping', '128512000', 'USD', '0', '262241', '649', '4', '4.5', '5.10.0', '12+', 'Shopping', '37', '5', '9', '1']]\n"
     ]
    }
   ],
   "source": [
    "opened_file = open('AppleStore.csv', encoding=\"utf8\")\n",
    "from csv import reader\n",
    "read_file = reader(opened_file)\n",
    "apps_data = list(read_file)\n",
    "\n",
    "apps_data = [row[1:] for row in apps_data]\n",
    "\n",
    "print(apps_data[0:5])"
   ]
  },
  {
   "cell_type": "markdown",
   "metadata": {},
   "source": [
    "### What the data set is about\n",
    "The `Applestore` dataset contains information about **7197** apps available in Apple's appstore. The dataset provides information about the \"top trending apps in the iOS app store. \n",
    "\n",
    "### The source of the dataset\n",
    "The dataset was contributed to the [Kaggle dataset](https://www.kaggle.com/ramamet4/app-store-apple-data-set-10k-apps) repository by Ramanathan Perumal."
   ]
  },
  {
   "cell_type": "markdown",
   "metadata": {},
   "source": [
    "## Dictionary of data elements\n",
    "\n",
    "Below is a table providing the names and description of the variables in the dataset:\n",
    "\n",
    "| **Variable**    | **Description** |\n",
    "| :---        |    :----   | \n",
    "| id          | An unique identifier for each application|\n",
    "| track_name  | The name of the app|\n",
    "| size_bytes  | Size (in Bytes)|\n",
    "| currency    | Currency Type |\n",
    "| price | Price Amount |\n",
    "| rating_count_tot | User rating counts (for all versions)|\n",
    "| rating_count_ver | User rating counts (for current version)|\n",
    "| user_rating | Average user rating value (for all versions)|\n",
    "| user_rating_ver | Average user rating (for current version)|\n",
    "| ver | Latest version code|\n",
    "| cont_rating | Content rating|\n",
    "| prime_genre | Primary genre|\n",
    "| sup_devices.num | Number of supporting devices|\n",
    "| ipadSc_urls.num | Number of screenshots showed for display|\n",
    "| lang.num | Number of supported languages |\n",
    "| vpp_lic | Vpp device based licensing enabled|"
   ]
  },
  {
   "cell_type": "code",
   "execution_count": null,
   "metadata": {},
   "outputs": [],
   "source": []
  }
 ],
 "metadata": {
  "kernelspec": {
   "display_name": "py37",
   "language": "python",
   "name": "py37"
  },
  "language_info": {
   "codemirror_mode": {
    "name": "ipython",
    "version": 3
   },
   "file_extension": ".py",
   "mimetype": "text/x-python",
   "name": "python",
   "nbconvert_exporter": "python",
   "pygments_lexer": "ipython3",
   "version": "3.7.2"
  }
 },
 "nbformat": 4,
 "nbformat_minor": 2
}
