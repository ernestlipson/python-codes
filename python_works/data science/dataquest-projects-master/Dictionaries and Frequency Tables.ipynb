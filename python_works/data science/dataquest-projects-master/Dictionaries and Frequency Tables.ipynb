{
 "cells": [
  {
   "cell_type": "code",
   "execution_count": 21,
   "metadata": {},
   "outputs": [
    {
     "name": "stdout",
     "output_type": "stream",
     "text": [
      "['.git', '.ipynb_checkpoints', 'AppleStore.csv', 'Conditional Statements.ipynb', 'datasets', 'Dictionaries and Frequency Tables.ipynb', 'discovery_of_handwashing.ipynb', 'draw_flowers_with_mathematics.ipynb', 'lists_loops.ipynb', 'README.md']\n"
     ]
    }
   ],
   "source": [
    "# This Python 3 environment comes with many helpful analytics libraries installed\n",
    "# It is defined by the kaggle/python docker image: https://github.com/kaggle/docker-python\n",
    "# For example, here's several helpful packages to load in \n",
    "\n",
    "import numpy as np # linear algebra\n",
    "import pandas as pd # data processing, CSV file I/O (e.g. pd.read_csv)\n",
    "\n",
    "# Input data files are available in the \"../input/\" directory.\n",
    "# For example, running this (by clicking run or pressing Shift+Enter) will list the files in the input directory\n",
    "\n",
    "import os\n",
    "print(os.listdir(\"../datacamp-projects/\"))\n",
    "\n",
    "# Any results you write to the current directory are saved as output."
   ]
  },
  {
   "cell_type": "code",
   "execution_count": 22,
   "metadata": {},
   "outputs": [
    {
     "data": {
      "text/html": [
       "<div>\n",
       "<style>\n",
       "    .dataframe thead tr:only-child th {\n",
       "        text-align: right;\n",
       "    }\n",
       "\n",
       "    .dataframe thead th {\n",
       "        text-align: left;\n",
       "    }\n",
       "\n",
       "    .dataframe tbody tr th {\n",
       "        vertical-align: top;\n",
       "    }\n",
       "</style>\n",
       "<table border=\"1\" class=\"dataframe\">\n",
       "  <thead>\n",
       "    <tr style=\"text-align: right;\">\n",
       "      <th></th>\n",
       "      <th>id</th>\n",
       "      <th>track_name</th>\n",
       "      <th>size_bytes</th>\n",
       "      <th>currency</th>\n",
       "      <th>price</th>\n",
       "      <th>rating_count_tot</th>\n",
       "      <th>rating_count_ver</th>\n",
       "      <th>user_rating</th>\n",
       "      <th>user_rating_ver</th>\n",
       "      <th>ver</th>\n",
       "      <th>cont_rating</th>\n",
       "      <th>prime_genre</th>\n",
       "      <th>sup_devices.num</th>\n",
       "      <th>ipadSc_urls.num</th>\n",
       "      <th>lang.num</th>\n",
       "      <th>vpp_lic</th>\n",
       "    </tr>\n",
       "  </thead>\n",
       "  <tbody>\n",
       "    <tr>\n",
       "      <th>1</th>\n",
       "      <td>281656475</td>\n",
       "      <td>PAC-MAN Premium</td>\n",
       "      <td>100788224</td>\n",
       "      <td>USD</td>\n",
       "      <td>3.99</td>\n",
       "      <td>21292</td>\n",
       "      <td>26</td>\n",
       "      <td>4.0</td>\n",
       "      <td>4.5</td>\n",
       "      <td>6.3.5</td>\n",
       "      <td>4+</td>\n",
       "      <td>Games</td>\n",
       "      <td>38</td>\n",
       "      <td>5</td>\n",
       "      <td>10</td>\n",
       "      <td>1</td>\n",
       "    </tr>\n",
       "    <tr>\n",
       "      <th>2</th>\n",
       "      <td>281796108</td>\n",
       "      <td>Evernote - stay organized</td>\n",
       "      <td>158578688</td>\n",
       "      <td>USD</td>\n",
       "      <td>0.00</td>\n",
       "      <td>161065</td>\n",
       "      <td>26</td>\n",
       "      <td>4.0</td>\n",
       "      <td>3.5</td>\n",
       "      <td>8.2.2</td>\n",
       "      <td>4+</td>\n",
       "      <td>Productivity</td>\n",
       "      <td>37</td>\n",
       "      <td>5</td>\n",
       "      <td>23</td>\n",
       "      <td>1</td>\n",
       "    </tr>\n",
       "    <tr>\n",
       "      <th>3</th>\n",
       "      <td>281940292</td>\n",
       "      <td>WeatherBug - Local Weather, Radar, Maps, Alerts</td>\n",
       "      <td>100524032</td>\n",
       "      <td>USD</td>\n",
       "      <td>0.00</td>\n",
       "      <td>188583</td>\n",
       "      <td>2822</td>\n",
       "      <td>3.5</td>\n",
       "      <td>4.5</td>\n",
       "      <td>5.0.0</td>\n",
       "      <td>4+</td>\n",
       "      <td>Weather</td>\n",
       "      <td>37</td>\n",
       "      <td>5</td>\n",
       "      <td>3</td>\n",
       "      <td>1</td>\n",
       "    </tr>\n",
       "    <tr>\n",
       "      <th>4</th>\n",
       "      <td>282614216</td>\n",
       "      <td>eBay: Best App to Buy, Sell, Save! Online Shop...</td>\n",
       "      <td>128512000</td>\n",
       "      <td>USD</td>\n",
       "      <td>0.00</td>\n",
       "      <td>262241</td>\n",
       "      <td>649</td>\n",
       "      <td>4.0</td>\n",
       "      <td>4.5</td>\n",
       "      <td>5.10.0</td>\n",
       "      <td>12+</td>\n",
       "      <td>Shopping</td>\n",
       "      <td>37</td>\n",
       "      <td>5</td>\n",
       "      <td>9</td>\n",
       "      <td>1</td>\n",
       "    </tr>\n",
       "    <tr>\n",
       "      <th>5</th>\n",
       "      <td>282935706</td>\n",
       "      <td>Bible</td>\n",
       "      <td>92774400</td>\n",
       "      <td>USD</td>\n",
       "      <td>0.00</td>\n",
       "      <td>985920</td>\n",
       "      <td>5320</td>\n",
       "      <td>4.5</td>\n",
       "      <td>5.0</td>\n",
       "      <td>7.5.1</td>\n",
       "      <td>4+</td>\n",
       "      <td>Reference</td>\n",
       "      <td>37</td>\n",
       "      <td>5</td>\n",
       "      <td>45</td>\n",
       "      <td>1</td>\n",
       "    </tr>\n",
       "  </tbody>\n",
       "</table>\n",
       "</div>"
      ],
      "text/plain": [
       "          id                                         track_name  size_bytes  \\\n",
       "1  281656475                                    PAC-MAN Premium   100788224   \n",
       "2  281796108                          Evernote - stay organized   158578688   \n",
       "3  281940292    WeatherBug - Local Weather, Radar, Maps, Alerts   100524032   \n",
       "4  282614216  eBay: Best App to Buy, Sell, Save! Online Shop...   128512000   \n",
       "5  282935706                                              Bible    92774400   \n",
       "\n",
       "  currency  price  rating_count_tot  rating_count_ver  user_rating  \\\n",
       "1      USD   3.99             21292                26          4.0   \n",
       "2      USD   0.00            161065                26          4.0   \n",
       "3      USD   0.00            188583              2822          3.5   \n",
       "4      USD   0.00            262241               649          4.0   \n",
       "5      USD   0.00            985920              5320          4.5   \n",
       "\n",
       "   user_rating_ver     ver cont_rating   prime_genre  sup_devices.num  \\\n",
       "1              4.5   6.3.5          4+         Games               38   \n",
       "2              3.5   8.2.2          4+  Productivity               37   \n",
       "3              4.5   5.0.0          4+       Weather               37   \n",
       "4              4.5  5.10.0         12+      Shopping               37   \n",
       "5              5.0   7.5.1          4+     Reference               37   \n",
       "\n",
       "   ipadSc_urls.num  lang.num  vpp_lic  \n",
       "1                5        10        1  \n",
       "2                5        23        1  \n",
       "3                5         3        1  \n",
       "4                5         9        1  \n",
       "5                5        45        1  "
      ]
     },
     "execution_count": 22,
     "metadata": {},
     "output_type": "execute_result"
    }
   ],
   "source": [
    "df = pd.read_csv('../datacamp-projects/AppleStore.csv', index_col=0)\n",
    "df.head()"
   ]
  },
  {
   "cell_type": "code",
   "execution_count": 23,
   "metadata": {
    "collapsed": true
   },
   "outputs": [],
   "source": [
    "# reviews.iloc[0:5,:]\n",
    "# df.iloc[:,10]"
   ]
  },
  {
   "cell_type": "markdown",
   "metadata": {},
   "source": [
    "## Creating a dictionary"
   ]
  },
  {
   "cell_type": "code",
   "execution_count": 24,
   "metadata": {},
   "outputs": [
    {
     "name": "stdout",
     "output_type": "stream",
     "text": [
      "{'4+': 4433, '9+': 987, '12+': 1155, '17+': 622}\n"
     ]
    }
   ],
   "source": [
    "content_ratings = {'4+':4433, '9+':987, '12+': 1155, '17+':622}\n",
    "print(content_ratings)"
   ]
  },
  {
   "cell_type": "markdown",
   "metadata": {},
   "source": [
    "> **The order of elements in a dictionary are not preserved.**"
   ]
  },
  {
   "cell_type": "code",
   "execution_count": 25,
   "metadata": {},
   "outputs": [
    {
     "data": {
      "text/plain": [
       "{'12+': 1155, '17+': 622, '4+': 4433, '9+': 987}"
      ]
     },
     "execution_count": 25,
     "metadata": {},
     "output_type": "execute_result"
    }
   ],
   "source": [
    "content_ratings"
   ]
  },
  {
   "cell_type": "code",
   "execution_count": 26,
   "metadata": {
    "collapsed": true
   },
   "outputs": [],
   "source": [
    "over_4 = content_ratings['4+']\n",
    "over_9 = content_ratings['9+']\n",
    "over_12 = content_ratings['12+']\n",
    "over_17 = content_ratings['17+']"
   ]
  },
  {
   "cell_type": "code",
   "execution_count": 27,
   "metadata": {
    "collapsed": true
   },
   "outputs": [],
   "source": [
    "top_genres = {'Games':3862, 'Entertainment':535, 'Education': 453, 'Photo & Video':349, 'Utilities':248}"
   ]
  },
  {
   "cell_type": "code",
   "execution_count": 28,
   "metadata": {},
   "outputs": [
    {
     "data": {
      "text/plain": [
       "{'Education': 453,\n",
       " 'Entertainment': 535,\n",
       " 'Games': 3862,\n",
       " 'Photo & Video': 349,\n",
       " 'Utilities': 248}"
      ]
     },
     "execution_count": 28,
     "metadata": {},
     "output_type": "execute_result"
    }
   ],
   "source": [
    "top_genres"
   ]
  },
  {
   "cell_type": "code",
   "execution_count": 29,
   "metadata": {
    "collapsed": true
   },
   "outputs": [],
   "source": [
    "number_of_gaming_apps = top_genres['Games']"
   ]
  },
  {
   "cell_type": "markdown",
   "metadata": {},
   "source": [
    "## Alternative way of creating a dictionary"
   ]
  },
  {
   "cell_type": "code",
   "execution_count": 30,
   "metadata": {
    "collapsed": true
   },
   "outputs": [],
   "source": [
    "content_ratings = {} \n",
    "content_ratings['4+'] = 4433\n",
    "content_ratings['9+'] = 987\n",
    "content_ratings['12+'] = 1155\n",
    "content_ratings['17+'] = 622"
   ]
  },
  {
   "cell_type": "code",
   "execution_count": 31,
   "metadata": {},
   "outputs": [
    {
     "name": "stdout",
     "output_type": "stream",
     "text": [
      "{'4+': 4433, '9+': 987, '12+': 1155, '17+': 622}\n"
     ]
    }
   ],
   "source": [
    "print(content_ratings)"
   ]
  },
  {
   "cell_type": "code",
   "execution_count": 32,
   "metadata": {
    "collapsed": true
   },
   "outputs": [],
   "source": [
    "over_12_n_apps = content_ratings['12+']"
   ]
  },
  {
   "cell_type": "code",
   "execution_count": 33,
   "metadata": {
    "collapsed": true
   },
   "outputs": [],
   "source": [
    "top_genres = {}\n",
    "top_genres['Games'] = 3862\n",
    "top_genres['Entertainment'] = 535\n",
    "top_genres['Education'] = 453\n",
    "top_genres['Photo & Video'] = 349\n",
    "top_genres['Utilities'] = 248"
   ]
  },
  {
   "cell_type": "code",
   "execution_count": 34,
   "metadata": {
    "collapsed": true
   },
   "outputs": [],
   "source": [
    "n_apps_education = top_genres['Education']"
   ]
  },
  {
   "cell_type": "markdown",
   "metadata": {},
   "source": [
    "> **Dictionary values can be of any type: strings, integers, floats, Booleans, lists, and even dictionaries.**"
   ]
  },
  {
   "cell_type": "code",
   "execution_count": 35,
   "metadata": {},
   "outputs": [
    {
     "name": "stdout",
     "output_type": "stream",
     "text": [
      "These are the elements of the dictionary, d_1: {'key_1': 'value 1', 'key 2': 1, 'key 3': 1.832, 'key_4': False, 'key_5': [1, 2, 3], 'key_6': {'inner_key': 10}}\n",
      "This is the key-value pair of key_1: value 1\n",
      "{'inner_key': 10}\n"
     ]
    }
   ],
   "source": [
    "d_1 = {'key_1': 'value 1',\n",
    "      'key 2': 1,\n",
    "      'key 3': 1.832,\n",
    "      'key_4': False,\n",
    "      'key_5': [1,2,3],\n",
    "      'key_6': {'inner_key': 10}\n",
    "      }\n",
    "print('These are the elements of the dictionary, d_1: ' + str(d_1))\n",
    "print('This is the key-value pair of key_1: '+ str( d_1['key_1']))\n",
    "print(d_1['key_6'])"
   ]
  },
  {
   "cell_type": "markdown",
   "metadata": {},
   "source": [
    "> **Dictionary keys can be of almost any data type we've learned so far, except *lists* and *dictionaries*. If we use lists or dictionaries as dictionary keys, the computer raises an error:**"
   ]
  },
  {
   "cell_type": "code",
   "execution_count": 36,
   "metadata": {},
   "outputs": [
    {
     "data": {
      "text/plain": [
       "{5: 'int', '5': 'string', 3.5: 'float', False: 'Boolean'}"
      ]
     },
     "execution_count": 36,
     "metadata": {},
     "output_type": "execute_result"
    }
   ],
   "source": [
    "d_1 = {5: 'int',\n",
    "      '5': 'string',\n",
    "      3.5: 'float',\n",
    "      False: 'Boolean'}\n",
    "d_1"
   ]
  },
  {
   "cell_type": "code",
   "execution_count": 37,
   "metadata": {},
   "outputs": [
    {
     "ename": "TypeError",
     "evalue": "unhashable type: 'list'",
     "output_type": "error",
     "traceback": [
      "\u001b[1;31m---------------------------------------------------------------------------\u001b[0m",
      "\u001b[1;31mTypeError\u001b[0m                                 Traceback (most recent call last)",
      "\u001b[1;32m<ipython-input-37-be990981e98f>\u001b[0m in \u001b[0;36m<module>\u001b[1;34m()\u001b[0m\n\u001b[1;32m----> 1\u001b[1;33m \u001b[0md_2\u001b[0m \u001b[1;33m=\u001b[0m \u001b[1;33m{\u001b[0m\u001b[1;33m[\u001b[0m\u001b[1;36m1\u001b[0m\u001b[1;33m,\u001b[0m\u001b[1;36m2\u001b[0m\u001b[1;33m,\u001b[0m\u001b[1;36m3\u001b[0m\u001b[1;33m]\u001b[0m\u001b[1;33m:\u001b[0m \u001b[1;34m'list'\u001b[0m\u001b[1;33m}\u001b[0m\u001b[1;33m\u001b[0m\u001b[0m\n\u001b[0m\u001b[0;32m      2\u001b[0m \u001b[0mprint\u001b[0m\u001b[1;33m(\u001b[0m\u001b[0md_2\u001b[0m\u001b[1;33m)\u001b[0m\u001b[1;33m\u001b[0m\u001b[0m\n\u001b[0;32m      3\u001b[0m \u001b[0md_3\u001b[0m \u001b[1;33m=\u001b[0m \u001b[1;33m{\u001b[0m\u001b[1;33m{\u001b[0m\u001b[1;34m'key'\u001b[0m\u001b[1;33m:\u001b[0m \u001b[1;34m'value'\u001b[0m\u001b[1;33m}\u001b[0m\u001b[1;33m:\u001b[0m \u001b[1;34m'dictionary'\u001b[0m\u001b[1;33m}\u001b[0m\u001b[1;33m\u001b[0m\u001b[0m\n\u001b[0;32m      4\u001b[0m \u001b[0mprint\u001b[0m\u001b[1;33m(\u001b[0m\u001b[0md_3\u001b[0m\u001b[1;33m)\u001b[0m\u001b[1;33m\u001b[0m\u001b[0m\n",
      "\u001b[1;31mTypeError\u001b[0m: unhashable type: 'list'"
     ]
    }
   ],
   "source": [
    "d_2 = {[1,2,3]: 'list'}\n",
    "print(d_2)\n",
    "d_3 = {{'key': 'value'}: 'dictionary'}\n",
    "print(d_3)"
   ]
  },
  {
   "cell_type": "markdown",
   "metadata": {},
   "source": [
    "> To understand the error messages above, we have to take a brief look at what Python does behind the scenes. **When we populate a dictionary, Python tries to convert each dictionary key to an integer (even if the key is of a data type other than an integer) in the background.** Python does the conversion using the `hash()` command:"
   ]
  },
  {
   "cell_type": "code",
   "execution_count": 38,
   "metadata": {},
   "outputs": [
    {
     "name": "stdout",
     "output_type": "stream",
     "text": [
      "4\n",
      "2939209016861899037\n",
      "737869762948381699\n",
      "1\n"
     ]
    }
   ],
   "source": [
    "print(hash(4))\n",
    "print(hash('four'))\n",
    "print(hash(3.32))\n",
    "print(hash(True))"
   ]
  },
  {
   "cell_type": "code",
   "execution_count": 39,
   "metadata": {},
   "outputs": [
    {
     "ename": "TypeError",
     "evalue": "unhashable type: 'list'",
     "output_type": "error",
     "traceback": [
      "\u001b[1;31m---------------------------------------------------------------------------\u001b[0m",
      "\u001b[1;31mTypeError\u001b[0m                                 Traceback (most recent call last)",
      "\u001b[1;32m<ipython-input-39-b5e69e3fd09e>\u001b[0m in \u001b[0;36m<module>\u001b[1;34m()\u001b[0m\n\u001b[1;32m----> 1\u001b[1;33m \u001b[0mprint\u001b[0m\u001b[1;33m(\u001b[0m\u001b[0mhash\u001b[0m\u001b[1;33m(\u001b[0m\u001b[1;33m[\u001b[0m\u001b[1;36m1\u001b[0m\u001b[1;33m,\u001b[0m\u001b[1;36m2\u001b[0m\u001b[1;33m,\u001b[0m\u001b[1;36m3\u001b[0m\u001b[1;33m]\u001b[0m\u001b[1;33m)\u001b[0m\u001b[1;33m)\u001b[0m\u001b[1;33m\u001b[0m\u001b[0m\n\u001b[0m",
      "\u001b[1;31mTypeError\u001b[0m: unhashable type: 'list'"
     ]
    }
   ],
   "source": [
    "print(hash([1,2,3]))"
   ]
  },
  {
   "cell_type": "code",
   "execution_count": 40,
   "metadata": {},
   "outputs": [
    {
     "ename": "TypeError",
     "evalue": "unhashable type: 'dict'",
     "output_type": "error",
     "traceback": [
      "\u001b[1;31m---------------------------------------------------------------------------\u001b[0m",
      "\u001b[1;31mTypeError\u001b[0m                                 Traceback (most recent call last)",
      "\u001b[1;32m<ipython-input-40-0df843859810>\u001b[0m in \u001b[0;36m<module>\u001b[1;34m()\u001b[0m\n\u001b[1;32m----> 1\u001b[1;33m \u001b[0mhash\u001b[0m\u001b[1;33m(\u001b[0m\u001b[1;33m{\u001b[0m\u001b[1;34m'key'\u001b[0m\u001b[1;33m:\u001b[0m\u001b[1;34m'value'\u001b[0m\u001b[1;33m}\u001b[0m\u001b[1;33m)\u001b[0m\u001b[1;33m\u001b[0m\u001b[0m\n\u001b[0m",
      "\u001b[1;31mTypeError\u001b[0m: unhashable type: 'dict'"
     ]
    }
   ],
   "source": [
    "hash({'key':'value'})"
   ]
  },
  {
   "cell_type": "markdown",
   "metadata": {},
   "source": [
    "> When we populate a dictionary, we also need to make sure each key in that dictionary is unique. If we use an identical key for two different values or more, Python keeps only the last key-value pair in the dictionary and removes the others — this means that we'll lose data. We illustrate this in the diagram below, where we highlited the identical keys with a distinct color:"
   ]
  },
  {
   "cell_type": "code",
   "execution_count": 41,
   "metadata": {},
   "outputs": [
    {
     "data": {
      "text/plain": [
       "{'a_key': 5, 'another_key': 2, 'yet_another_key': 4}"
      ]
     },
     "execution_count": 41,
     "metadata": {},
     "output_type": "execute_result"
    }
   ],
   "source": [
    "d_1 = {'a_key': 1,\n",
    "      'another_key': 2,\n",
    "      'a_key': 3,\n",
    "      'yet_another_key': 4,\n",
    "      'a_key': 5}\n",
    "d_1"
   ]
  },
  {
   "cell_type": "code",
   "execution_count": 42,
   "metadata": {},
   "outputs": [],
   "source": [
    "think_python = {}\n",
    "think_python['1'] = 34355\n",
    "think_python['Allen B. Downey'] = 'How to think like a computer scientist'\n",
    "think_python['version'] = 2.71\n",
    "think_python['sorted'] = [23,34,566,645,'a cat', 'a dog', 'etc']\n",
    "think_python['dict'] = d_1"
   ]
  },
  {
   "cell_type": "code",
   "execution_count": 43,
   "metadata": {},
   "outputs": [
    {
     "data": {
      "text/plain": [
       "{'1': 34355,\n",
       " 'Allen B. Downey': 'How to think like a computer scientist',\n",
       " 'dict': {'a_key': 5, 'another_key': 2, 'yet_another_key': 4},\n",
       " 'sorted': [23, 34, 566, 645, 'a cat', 'a dog', 'etc'],\n",
       " 'version': 2.71}"
      ]
     },
     "execution_count": 43,
     "metadata": {},
     "output_type": "execute_result"
    }
   ],
   "source": [
    "think_python"
   ]
  },
  {
   "cell_type": "code",
   "execution_count": 44,
   "metadata": {},
   "outputs": [
    {
     "ename": "TypeError",
     "evalue": "unhashable type: 'list'",
     "output_type": "error",
     "traceback": [
      "\u001b[1;31m---------------------------------------------------------------------------\u001b[0m",
      "\u001b[1;31mTypeError\u001b[0m                                 Traceback (most recent call last)",
      "\u001b[1;32m<ipython-input-44-bd170226b17a>\u001b[0m in \u001b[0;36m<module>\u001b[1;34m()\u001b[0m\n\u001b[0;32m      3\u001b[0m                  \u001b[1;36m2.71\u001b[0m\u001b[1;33m:\u001b[0m \u001b[1;34m'version'\u001b[0m\u001b[1;33m,\u001b[0m\u001b[1;33m\u001b[0m\u001b[0m\n\u001b[0;32m      4\u001b[0m                  \u001b[1;33m[\u001b[0m\u001b[1;36m23\u001b[0m\u001b[1;33m,\u001b[0m\u001b[1;36m34\u001b[0m\u001b[1;33m,\u001b[0m\u001b[1;36m566\u001b[0m\u001b[1;33m,\u001b[0m\u001b[1;36m645\u001b[0m\u001b[1;33m,\u001b[0m\u001b[1;34m'a cat'\u001b[0m\u001b[1;33m,\u001b[0m \u001b[1;34m'a dog'\u001b[0m\u001b[1;33m,\u001b[0m \u001b[1;34m'etc'\u001b[0m\u001b[1;33m]\u001b[0m\u001b[1;33m:\u001b[0m \u001b[1;34m'sorted'\u001b[0m\u001b[1;33m,\u001b[0m\u001b[1;33m\u001b[0m\u001b[0m\n\u001b[1;32m----> 5\u001b[1;33m                  d_1: 'dict'}\n\u001b[0m",
      "\u001b[1;31mTypeError\u001b[0m: unhashable type: 'list'"
     ]
    }
   ],
   "source": [
    "app_statistics = {34355:'a random list', \n",
    "                  'How to think like a computer scientist': 'Allen B. Downey',\n",
    "                 2.71: 'version',\n",
    "                 [23,34,566,645,'a cat', 'a dog', 'etc']: 'sorted',\n",
    "                 d_1: 'dict'}"
   ]
  },
  {
   "cell_type": "code",
   "execution_count": 45,
   "metadata": {},
   "outputs": [
    {
     "name": "stdout",
     "output_type": "stream",
     "text": [
      "1\n",
      "0\n",
      "34566\n",
      "1637148536541722626\n",
      "838971687453567321\n"
     ]
    }
   ],
   "source": [
    "print(hash(True))\n",
    "print(hash(False))\n",
    "# print(hash([3,4,8]))\n",
    "# print(hash(d_1))\n",
    "print(hash(34566))\n",
    "print(hash(2.71))\n",
    "print(hash('a random hash'))\n"
   ]
  },
  {
   "cell_type": "code",
   "execution_count": 46,
   "metadata": {},
   "outputs": [
    {
     "data": {
      "text/plain": [
       "True"
      ]
     },
     "execution_count": 46,
     "metadata": {},
     "output_type": "execute_result"
    }
   ],
   "source": [
    "'12+' in content_ratings"
   ]
  },
  {
   "cell_type": "code",
   "execution_count": 47,
   "metadata": {},
   "outputs": [
    {
     "data": {
      "text/plain": [
       "True"
      ]
     },
     "execution_count": 47,
     "metadata": {},
     "output_type": "execute_result"
    }
   ],
   "source": [
    "'version' in think_python"
   ]
  },
  {
   "cell_type": "code",
   "execution_count": 48,
   "metadata": {},
   "outputs": [
    {
     "data": {
      "text/plain": [
       "False"
      ]
     },
     "execution_count": 48,
     "metadata": {},
     "output_type": "execute_result"
    }
   ],
   "source": [
    "'10' in content_ratings"
   ]
  },
  {
   "cell_type": "code",
   "execution_count": 49,
   "metadata": {},
   "outputs": [
    {
     "data": {
      "text/plain": [
       "False"
      ]
     },
     "execution_count": 49,
     "metadata": {},
     "output_type": "execute_result"
    }
   ],
   "source": [
    "'343' in think_python"
   ]
  },
  {
   "cell_type": "markdown",
   "metadata": {},
   "source": [
    "An expression of the form a_value in a_dictionary always returns a Boolean value:\n",
    "\n",
    "- `True` is returned if `a_value` exists in `a_dictionary` as a dictionary key.\n",
    "- `False` is returned if `a_value` doesn't exist in `a_dictionary` as a dictionary key.\n"
   ]
  },
  {
   "cell_type": "code",
   "execution_count": 50,
   "metadata": {},
   "outputs": [
    {
     "data": {
      "text/plain": [
       "{'12+': 1155, '17+': 622, '4+': 4433, '9+': 987}"
      ]
     },
     "execution_count": 50,
     "metadata": {},
     "output_type": "execute_result"
    }
   ],
   "source": [
    "content_ratings"
   ]
  },
  {
   "cell_type": "code",
   "execution_count": 51,
   "metadata": {},
   "outputs": [
    {
     "name": "stdout",
     "output_type": "stream",
     "text": [
      "True\n",
      "False\n",
      "False\n",
      "False\n"
     ]
    }
   ],
   "source": [
    "is_in_dictionary_1 = '4+' in content_ratings\n",
    "print(is_in_dictionary_1)\n",
    "is_in_dictionary_2 = '20+' in content_ratings\n",
    "print(is_in_dictionary_2)\n",
    "is_in_dictionary_3 = 4433 in content_ratings\n",
    "print(is_in_dictionary_3)\n",
    "is_in_dictionary_4 = 987 in content_ratings\n",
    "print(is_in_dictionary_4)"
   ]
  },
  {
   "cell_type": "code",
   "execution_count": 57,
   "metadata": {},
   "outputs": [
    {
     "name": "stdout",
     "output_type": "stream",
     "text": [
      "'17+' exists in content_ratings\n"
     ]
    }
   ],
   "source": [
    "# result = []\n",
    "if '17+' in content_ratings:\n",
    "    result=\"'17+' exists in content_ratings\"\n",
    "    print(result)"
   ]
  },
  {
   "cell_type": "code",
   "execution_count": 58,
   "metadata": {},
   "outputs": [
    {
     "name": "stdout",
     "output_type": "stream",
     "text": [
      "{'4+': 1, '9+': 0, '12+': 0, '17+': 0}\n",
      "{'4+': 2, '9+': 0, '12+': 0, '17+': 0}\n",
      "{'4+': 3, '9+': 0, '12+': 0, '17+': 0}\n",
      "{'4+': 3, '9+': 1, '12+': 0, '17+': 0}\n",
      "{'4+': 3, '9+': 2, '12+': 0, '17+': 0}\n",
      "{'4+': 3, '9+': 2, '12+': 1, '17+': 0}\n",
      "{'4+': 3, '9+': 2, '12+': 1, '17+': 1}\n"
     ]
    }
   ],
   "source": [
    "content_ratings = {'4+':0, '4+':0, '4+':0, '9+':0, '9+':0, '12+':0, '17+':0}\n",
    "ratings = ['4+', '4+', '4+', '9+', '9+', '12+', '17+']\n",
    "\n",
    "for c_ratings in ratings:\n",
    "    if c_ratings in content_ratings:\n",
    "        content_ratings[c_ratings] += 1\n",
    "    print(content_ratings)"
   ]
  },
  {
   "cell_type": "code",
   "execution_count": 59,
   "metadata": {
    "collapsed": true
   },
   "outputs": [],
   "source": [
    "opened_file = open('../datacamp-projects/AppleStore.csv', encoding=\"utf8\")\n",
    "from csv import reader\n",
    "read_file = reader(opened_file)\n",
    "apps_data = list(read_file)"
   ]
  },
  {
   "cell_type": "code",
   "execution_count": 61,
   "metadata": {},
   "outputs": [
    {
     "name": "stdout",
     "output_type": "stream",
     "text": [
      "{'4+': 4433, '9+': 987, '12+': 1155, '17+': 622}\n"
     ]
    }
   ],
   "source": [
    "content_ratings = {'4+':0, '9+':0, '12+':0, '17+':0}\n",
    "for row in apps_data[1:]:\n",
    "    c_ratings = row[11]\n",
    "    if c_ratings in content_ratings:\n",
    "        content_ratings[c_ratings] += 1\n",
    "print(content_ratings)"
   ]
  },
  {
   "cell_type": "code",
   "execution_count": 63,
   "metadata": {},
   "outputs": [
    {
     "name": "stdout",
     "output_type": "stream",
     "text": [
      "{'4+': 4433, '12+': 1155, '17+': 622, '9+': 987}\n"
     ]
    }
   ],
   "source": [
    "content_ratings = {}\n",
    "\n",
    "for row in apps_data[1:]:\n",
    "    c_ratings = row[11]\n",
    "    if c_ratings in content_ratings:\n",
    "        content_ratings[c_ratings] += 1\n",
    "    else:\n",
    "        content_ratings[c_ratings] = 1\n",
    "print(content_ratings)"
   ]
  },
  {
   "cell_type": "code",
   "execution_count": 79,
   "metadata": {},
   "outputs": [
    {
     "name": "stdout",
     "output_type": "stream",
     "text": [
      "{'Games': 3862, 'Productivity': 178, 'Weather': 72, 'Shopping': 122, 'Reference': 64, 'Finance': 104, 'Music': 138, 'Utilities': 248, 'Travel': 81, 'Social Networking': 167, 'Sports': 114, 'Business': 57, 'Health & Fitness': 180, 'Entertainment': 535, 'Photo & Video': 349, 'Navigation': 46, 'Education': 453, 'Lifestyle': 144, 'Food & Drink': 63, 'News': 75, 'Book': 112, 'Medical': 23, 'Catalogs': 10}\n"
     ]
    }
   ],
   "source": [
    "# rating = float(row[8])\n",
    "genre_counting = {}\n",
    "\n",
    "for row in apps_data[1:]:\n",
    "    genre = row[12]\n",
    "    if genre in genre_counting:\n",
    "        genre_counting[genre] += 1\n",
    "    else:\n",
    "        genre_counting[genre] = 1\n",
    "print(genre_counting)"
   ]
  },
  {
   "cell_type": "code",
   "execution_count": 70,
   "metadata": {
    "collapsed": true
   },
   "outputs": [],
   "source": [
    "most_common_genre = 'Games'"
   ]
  },
  {
   "cell_type": "code",
   "execution_count": 83,
   "metadata": {},
   "outputs": [
    {
     "name": "stdout",
     "output_type": "stream",
     "text": [
      "{'4+': 0.008558442277785877, '12+': 0.002229867094708479, '17+': 0.0012008461756785054, '9+': 0.0019055227900236095}\n"
     ]
    }
   ],
   "source": [
    "total_number_of_apps = 7197\n",
    "for rating in content_ratings:\n",
    "    content_ratings[rating] /= total_number_of_apps\n",
    "    content_ratings[rating] *= 100\n",
    "print(content_ratings)"
   ]
  },
  {
   "cell_type": "code",
   "execution_count": 73,
   "metadata": {},
   "outputs": [
    {
     "data": {
      "text/plain": [
       "0.08642489926358204"
      ]
     },
     "execution_count": 73,
     "metadata": {},
     "output_type": "execute_result"
    }
   ],
   "source": [
    "percentage_17_plus = content_ratings['17+']\n",
    "percentage_17_plus"
   ]
  },
  {
   "cell_type": "code",
   "execution_count": 75,
   "metadata": {},
   "outputs": [
    {
     "data": {
      "text/plain": [
       "0.9135751007364179"
      ]
     },
     "execution_count": 75,
     "metadata": {},
     "output_type": "execute_result"
    }
   ],
   "source": [
    "percentage_15_allowed = content_ratings['4+'] + content_ratings['9+'] + content_ratings['12+']\n",
    "percentage_15_allowed"
   ]
  },
  {
   "cell_type": "code",
   "execution_count": 81,
   "metadata": {},
   "outputs": [
    {
     "name": "stdout",
     "output_type": "stream",
     "text": [
      "{'Games': 53.66124774211477, 'Productivity': 2.473252744198972, 'Weather': 1.0004168403501459, 'Shopping': 1.6951507572599693, 'Reference': 0.8892594136445742, 'Finance': 1.445046547172433, 'Music': 1.9174656106711132, 'Utilities': 3.4458802278727245, 'Travel': 1.1254689453939142, 'Social Networking': 2.3204112824788106, 'Sports': 1.5839933305543976, 'Business': 0.7919966652771988, 'Health & Fitness': 2.501042100875365, 'Entertainment': 7.433652910935113, 'Photo & Video': 4.849242740030569, 'Navigation': 0.6391552035570377, 'Education': 6.294289287203002, 'Lifestyle': 2.0008336807002918, 'Food & Drink': 0.8753647353063776, 'News': 1.0421008753647354, 'Book': 1.5562039738780047, 'Medical': 0.31957760177851885, 'Catalogs': 0.1389467833819647}\n"
     ]
    }
   ],
   "source": [
    "for genre in genre_counting:\n",
    "    genre_counting[genre] /= total_number_of_apps\n",
    "    genre_counting[genre] *= 100\n",
    "print(genre_counting)"
   ]
  },
  {
   "cell_type": "code",
   "execution_count": 82,
   "metadata": {},
   "outputs": [
    {
     "name": "stdout",
     "output_type": "stream",
     "text": [
      "53.66124774211477\n",
      "46.33875225788523\n"
     ]
    }
   ],
   "source": [
    "percentage_games = genre_counting['Games']\n",
    "print(percentage_games)\n",
    "\n",
    "percentage_non_games = 100 - percentage_games\n",
    "print(percentage_non_games)"
   ]
  },
  {
   "cell_type": "markdown",
   "metadata": {},
   "source": [
    "## Transforming Frequencies"
   ]
  },
  {
   "cell_type": "code",
   "execution_count": 90,
   "metadata": {},
   "outputs": [
    {
     "name": "stdout",
     "output_type": "stream",
     "text": [
      "{'4+': 1.1891680252585629e-06, '12+': 3.0983286017903e-07, '17+': 1.6685371344706202e-07, '9+': 2.647662623348075e-07}\n",
      "{'4+': 0.8558442277785877, '12+': 0.2229867094708479, '17+': 0.12008461756785054, '9+': 0.19055227900236094}\n"
     ]
    }
   ],
   "source": [
    "c_ratings_proportions = {}\n",
    "c_ratings_percentages = {}\n",
    "for key in content_ratings:\n",
    "    proportion = content_ratings[key] / total_number_of_apps\n",
    "    percentages = content_ratings[key] * 100\n",
    "    c_ratings_proportions[key] = proportion\n",
    "    c_ratings_percentages[key] = percentages\n",
    "print(c_ratings_proportions)\n",
    "print(c_ratings_percentages)\n",
    "    \n",
    "    "
   ]
  },
  {
   "cell_type": "code",
   "execution_count": 91,
   "metadata": {},
   "outputs": [
    {
     "name": "stdout",
     "output_type": "stream",
     "text": [
      "{'Games': 0.007456057766029563, 'Productivity': 0.0003436505132970643, 'Weather': 0.00013900470200780128, 'Shopping': 0.0002355357450687744, 'Reference': 0.0001235597351180456, 'Finance': 0.0002007845695668241, 'Music': 0.00026642567884828584, 'Utilities': 0.00047879397358242663, 'Travel': 0.00015638028975877645, 'Social Networking': 0.00032241368382365023, 'Sports': 0.00022009077817901872, 'Business': 0.00011004538908950936, 'Health & Fitness': 0.00034751175501950324, 'Entertainment': 0.0010328821607524124, 'Photo & Video': 0.0006737866805655924, 'Navigation': 8.880855961609528e-05, 'Education': 0.0008745712501324165, 'Lifestyle': 0.00027800940401560256, 'Food & Drink': 0.00012162911425682612, 'News': 0.0001447965645914597, 'Book': 0.00021622953645657978, 'Medical': 4.440427980804764e-05, 'Catalogs': 1.930620861219462e-05}\n",
      "{'Games': 0.7456057766029563, 'Productivity': 0.03436505132970643, 'Weather': 0.013900470200780128, 'Shopping': 0.02355357450687744, 'Reference': 0.01235597351180456, 'Finance': 0.02007845695668241, 'Music': 0.026642567884828584, 'Utilities': 0.04787939735824266, 'Travel': 0.015638028975877644, 'Social Networking': 0.03224136838236502, 'Sports': 0.022009077817901873, 'Business': 0.011004538908950937, 'Health & Fitness': 0.034751175501950324, 'Entertainment': 0.10328821607524125, 'Photo & Video': 0.06737866805655923, 'Navigation': 0.008880855961609528, 'Education': 0.08745712501324165, 'Lifestyle': 0.027800940401560257, 'Food & Drink': 0.012162911425682613, 'News': 0.01447965645914597, 'Book': 0.02162295364565798, 'Medical': 0.004440427980804764, 'Catalogs': 0.0019306208612194621}\n"
     ]
    }
   ],
   "source": [
    "genre_proportions = {}\n",
    "genre_percentages = {}\n",
    "for genre in genre_counting:\n",
    "    proportion = genre_counting[genre] / total_number_of_apps\n",
    "    percentage = proportion * 100\n",
    "    \n",
    "    genre_proportions[genre] = proportion\n",
    "    genre_percentages[genre] = percentage\n",
    "\n",
    "print(genre_proportions)\n",
    "print(genre_percentages)"
   ]
  },
  {
   "cell_type": "markdown",
   "metadata": {},
   "source": [
    "## Creating frequencies based on intervals"
   ]
  },
  {
   "cell_type": "code",
   "execution_count": 96,
   "metadata": {},
   "outputs": [],
   "source": [
    "data_sizes = []\n",
    "\n",
    "for row in apps_data[1:]:\n",
    "    size = float(row[3])\n",
    "    data_sizes.append(size)\n",
    "\n",
    "min_size = min(data_sizes) # 589824.0\n",
    "max_size = max(data_sizes) # 4025969664.0"
   ]
  },
  {
   "cell_type": "code",
   "execution_count": 95,
   "metadata": {},
   "outputs": [],
   "source": [
    "# print(data_sizes)"
   ]
  },
  {
   "cell_type": "markdown",
   "metadata": {},
   "source": [
    "> First, we create a dictionary with the intervals as keys and frequencies as dictionary values (we initialize all frequencies with zero)"
   ]
  },
  {
   "cell_type": "code",
   "execution_count": 98,
   "metadata": {},
   "outputs": [],
   "source": [
    "data_sizes = {'0 - 10 MB': 0, '10 - 50 MB' : 0, '50 - 100 MB': 0, '100 - 500 MB': 0, '500 MB+': 0}"
   ]
  },
  {
   "cell_type": "markdown",
   "metadata": {},
   "source": [
    "> Second, we loop through our data set, and for each iteration"
   ]
  },
  {
   "cell_type": "code",
   "execution_count": 99,
   "metadata": {
    "collapsed": true
   },
   "outputs": [],
   "source": [
    "for row in apps_data[1:]:\n",
    "    size = float(row[3])\n",
    "    \n",
    "    if size <= 10000000:\n",
    "        data_sizes['0 - 10 MB'] += 1\n",
    "        \n",
    "    elif 10000000 < size <= 50000000:\n",
    "        data_sizes['10 - 50 MB'] += 1\n",
    "        \n",
    "    elif 50000000 < size <= 100000000:\n",
    "        data_sizes['50 - 100 MB'] += 1\n",
    "    \n",
    "    elif 100000000 < size <= 5000000000:\n",
    "        data_sizes['100 - 500 MB'] += 1\n",
    "        \n",
    "    elif size > 5000000000:\n",
    "        data_sizes['500 MB+'] += 1"
   ]
  },
  {
   "cell_type": "code",
   "execution_count": 100,
   "metadata": {},
   "outputs": [
    {
     "data": {
      "text/plain": [
       "{'0 - 10 MB': 285,\n",
       " '10 - 50 MB': 1639,\n",
       " '100 - 500 MB': 3495,\n",
       " '50 - 100 MB': 1778,\n",
       " '500 MB+': 0}"
      ]
     },
     "execution_count": 100,
     "metadata": {},
     "output_type": "execute_result"
    }
   ],
   "source": [
    "data_sizes"
   ]
  },
  {
   "cell_type": "code",
   "execution_count": 104,
   "metadata": {},
   "outputs": [
    {
     "name": "stdout",
     "output_type": "stream",
     "text": [
      "0.0\n",
      "2974676.0\n"
     ]
    }
   ],
   "source": [
    "rating_count_tot = []\n",
    "\n",
    "for row in apps_data[1:]:\n",
    "    rating_count = float(row[6])\n",
    "    rating_count_tot.append(rating_count)\n",
    "\n",
    "print(min(rating_count_tot)) # 0.0\n",
    "print(max(rating_count_tot)) # 2974676.0"
   ]
  },
  {
   "cell_type": "code",
   "execution_count": 105,
   "metadata": {
    "collapsed": true
   },
   "outputs": [],
   "source": [
    "rating_count_tot_intervals = {'0 - 60000': 0, '60000 - 120000' : 0, '120000 - 180000': 0, '180000 - 240000': 0, '240+': 0}"
   ]
  },
  {
   "cell_type": "code",
   "execution_count": 109,
   "metadata": {
    "collapsed": true
   },
   "outputs": [],
   "source": [
    "for row in apps_data[1:]:\n",
    "    rating_count = float(row[6])\n",
    "    \n",
    "    if rating_count <= 60000:\n",
    "        rating_count_tot_intervals['0 - 60000'] += 1\n",
    "        \n",
    "    elif 60000 < rating_count <= 120000:\n",
    "        rating_count_tot_intervals['60000 - 120000'] += 1\n",
    "        \n",
    "    elif 120000 < rating_count <= 180000:\n",
    "        rating_count_tot_intervals['120000 - 180000'] += 1\n",
    "    \n",
    "    elif 180000 < rating_count <= 240000:\n",
    "        rating_count_tot_intervals['180000 - 240000'] += 1\n",
    "        \n",
    "    elif rating_count > 240000:\n",
    "        rating_count_tot_intervals['240+'] += 1"
   ]
  },
  {
   "cell_type": "code",
   "execution_count": 110,
   "metadata": {},
   "outputs": [
    {
     "name": "stdout",
     "output_type": "stream",
     "text": [
      "{'0 - 60000': 13784, '60000 - 120000': 262, '120000 - 180000': 65, '180000 - 240000': 29, '240+': 254}\n"
     ]
    }
   ],
   "source": [
    "print(rating_count_tot_intervals)"
   ]
  },
  {
   "cell_type": "code",
   "execution_count": 108,
   "metadata": {},
   "outputs": [
    {
     "data": {
      "text/plain": [
       "'Most of the rating counts fall within the 0 - 60000 interval'"
      ]
     },
     "execution_count": 108,
     "metadata": {},
     "output_type": "execute_result"
    }
   ],
   "source": [
    "'''Most of the rating counts fall within the 0 - 60000 interval.\n",
    "The fewest number of ratings fall within the 180 - 240k interval'''"
   ]
  },
  {
   "cell_type": "code",
   "execution_count": null,
   "metadata": {
    "collapsed": true
   },
   "outputs": [],
   "source": []
  }
 ],
 "metadata": {
  "kernelspec": {
   "display_name": "Python 3",
   "language": "python",
   "name": "python3"
  },
  "language_info": {
   "codemirror_mode": {
    "name": "ipython",
    "version": 3
   },
   "file_extension": ".py",
   "mimetype": "text/x-python",
   "name": "python",
   "nbconvert_exporter": "python",
   "pygments_lexer": "ipython3",
   "version": "3.6.3"
  }
 },
 "nbformat": 4,
 "nbformat_minor": 2
}
