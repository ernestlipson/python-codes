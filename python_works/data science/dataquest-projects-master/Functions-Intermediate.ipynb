{
 "cells": [
  {
   "cell_type": "markdown",
   "metadata": {},
   "source": [
    "# Functions: Intermediate"
   ]
  },
  {
   "cell_type": "markdown",
   "metadata": {},
   "source": [
    "## Default Arguments"
   ]
  },
  {
   "cell_type": "markdown",
   "metadata": {},
   "source": [
    "- Write a function named open_dataset() that takes the name of a CSV file in as the input and returns the file as a list of lists.\n",
    "\n",
    "    - Initiate the function with the default argument 'AppleStore.csv'. Name the parameter as you wish.\n",
    "    - Inside the function definition:\n",
    "    - Open the file using the open() function.\n",
    "    - Read in the opened file using the reader() function, which we import from the csv module.\n",
    "    - Use list() to convert the output returned by reader() to a list of lists.\n",
    "    \n",
    "- Use the open_dataset() function to open the AppleStore.csv file.\n",
    "    - Use the open_dataset() function by taking advantage of the default argument.\n",
    "    - Assign the data set to a variable named apps_data.\n",
    "    \n",
    "- Inspect the apps_data data set after you run the code to confirm that everything went as expected. \n",
    "    - You can try to print the first few rows or just use the variable inspector of the code editor."
   ]
  },
  {
   "cell_type": "code",
   "execution_count": 7,
   "metadata": {},
   "outputs": [],
   "source": [
    "def open_dataset(file_name='AppleStore.csv'):\n",
    "    opened_file = open(file_name, encoding=\"utf8\")\n",
    "    from csv import reader\n",
    "    read_file = reader(opened_file)\n",
    "    data = list(read_file)\n",
    "    \n",
    "    return data\n",
    "\n",
    "apps_data = open_dataset()"
   ]
  },
  {
   "cell_type": "code",
   "execution_count": 8,
   "metadata": {},
   "outputs": [
    {
     "name": "stdout",
     "output_type": "stream",
     "text": [
      "['id', 'track_name', 'size_bytes', 'currency', 'price', 'rating_count_tot', 'rating_count_ver', 'user_rating', 'user_rating_ver', 'ver', 'cont_rating', 'prime_genre', 'sup_devices.num', 'ipadSc_urls.num', 'lang.num', 'vpp_lic']\n"
     ]
    }
   ],
   "source": [
    "apps_data = [row[1:] for row in apps_data]\n",
    "print(apps_data[0])"
   ]
  },
  {
   "cell_type": "markdown",
   "metadata": {},
   "source": [
    "## The Official Python Documentation"
   ]
  },
  {
   "cell_type": "markdown",
   "metadata": {},
   "source": [
    "Use this [link](https://docs.python.org/3/) to access the official python documentation"
   ]
  },
  {
   "cell_type": "code",
   "execution_count": 1,
   "metadata": {
    "collapsed": true
   },
   "outputs": [],
   "source": [
    "open?"
   ]
  },
  {
   "cell_type": "code",
   "execution_count": 2,
   "metadata": {},
   "outputs": [
    {
     "data": {
      "text/plain": [
       "'C:\\\\Users\\\\USER\\\\Anaconda3\\\\python.exe'"
      ]
     },
     "execution_count": 2,
     "metadata": {},
     "output_type": "execute_result"
    }
   ],
   "source": [
    "import sys\n",
    "sys.executable"
   ]
  },
  {
   "cell_type": "code",
   "execution_count": 1,
   "metadata": {},
   "outputs": [
    {
     "name": "stdout",
     "output_type": "stream",
     "text": [
      "3.7.2\n"
     ]
    }
   ],
   "source": [
    "from platform import python_version\n",
    "print(python_version())"
   ]
  },
  {
   "cell_type": "code",
   "execution_count": 2,
   "metadata": {},
   "outputs": [],
   "source": [
    "round?"
   ]
  },
  {
   "cell_type": "code",
   "execution_count": 5,
   "metadata": {},
   "outputs": [
    {
     "name": "stdout",
     "output_type": "stream",
     "text": [
      "3.4\n",
      "0.23\n",
      "921.22252\n"
     ]
    }
   ],
   "source": [
    "one_decimal = round(3.43, 1)\n",
    "print(one_decimal)\n",
    "two_decimals = round(0.23321, 2)\n",
    "print(two_decimals)\n",
    "five_decimals = round(921.2225227, 5)\n",
    "print(five_decimals)"
   ]
  },
  {
   "cell_type": "markdown",
   "metadata": {},
   "source": [
    "## Using Multiple Return Statements"
   ]
  },
  {
   "cell_type": "code",
   "execution_count": 9,
   "metadata": {},
   "outputs": [
    {
     "data": {
      "text/plain": [
       "['id',\n",
       " 'track_name',\n",
       " 'size_bytes',\n",
       " 'currency',\n",
       " 'price',\n",
       " 'rating_count_tot',\n",
       " 'rating_count_ver',\n",
       " 'user_rating',\n",
       " 'user_rating_ver',\n",
       " 'ver',\n",
       " 'cont_rating',\n",
       " 'prime_genre',\n",
       " 'sup_devices.num',\n",
       " 'ipadSc_urls.num',\n",
       " 'lang.num',\n",
       " 'vpp_lic']"
      ]
     },
     "execution_count": 9,
     "metadata": {},
     "output_type": "execute_result"
    }
   ],
   "source": [
    "apps_data[0]"
   ]
  },
  {
   "cell_type": "code",
   "execution_count": 10,
   "metadata": {},
   "outputs": [
    {
     "name": "stdout",
     "output_type": "stream",
     "text": [
      "['281656475', 'PAC-MAN Premium', '100788224', 'USD', '3.99', '21292', '26', '4', '4.5', '6.3.5', '4+', 'Games', '38', '5', '10', '1']\n"
     ]
    }
   ],
   "source": [
    "def open_dataset(file_name='AppleStore.csv', header=True):\n",
    "    opened_file = open(file_name, encoding=\"utf8\")\n",
    "    from csv import reader\n",
    "    read_file = reader(opened_file)\n",
    "    data = list(read_file)\n",
    "    \n",
    "    if header == True:\n",
    "        return data[1:]\n",
    "    else:\n",
    "        return data\n",
    "    \n",
    "apps_data = open_dataset()\n",
    "apps_data = [row[1:] for row in apps_data]\n",
    "print(apps_data[0])"
   ]
  },
  {
   "cell_type": "code",
   "execution_count": 13,
   "metadata": {},
   "outputs": [
    {
     "name": "stdout",
     "output_type": "stream",
     "text": [
      "(15, 5)\n"
     ]
    },
    {
     "data": {
      "text/plain": [
       "tuple"
      ]
     },
     "execution_count": 13,
     "metadata": {},
     "output_type": "execute_result"
    }
   ],
   "source": [
    "def sum_and_difference(a, b):\n",
    "    a_sum = a + b\n",
    "    difference = a - b\n",
    "    return a_sum, difference\n",
    "\n",
    "sum_diff =sum_and_difference(10, 5)\n",
    "print(sum_diff)\n",
    "type(sum_diff)"
   ]
  },
  {
   "cell_type": "markdown",
   "metadata": {},
   "source": [
    "- One thing you might have found a bit odd is the structure of the output `(20, 10)`. `(20, 10)` is a tuple, which is a data type that is very similar to a list (recall that examples of data types include integers, strings, lists, dictionaries, etc.).\n",
    "- Just as a list, a tuple is usually used for storing multiple values. Creating a tuple is similar to creating a list, with the exception that we need to use parentheses instead of brackets.\n",
    "- Just as lists, tuples support positive and negative indexing.\n",
    "- The main difference between tuples and lists boils down to whether we can modify the existing values or not. In the case of tuples, we can't modify the existing values, while in the case of lists, we can. Below, we're trying to modify the first value of a list and a tuple.\n",
    "- Tuples are called **immutable** data types because we can't change their state after they've been created. Conversely, lists are mutable data types because their state can be changed after they've been created. The only way we could modify tuples, and immutable data types in general, is by recreating them. This is a list of all the **mutable** and immutable data types we've learned so far."
   ]
  },
  {
   "cell_type": "markdown",
   "metadata": {},
   "source": [
    "| Mutable| Immutable\n",
    "| --- | --- |\n",
    "| Tuples | Lists |\n",
    "| Integers | Dictionary |\n",
    "| Floats |\n",
    "| Strings |\n",
    "| Booleans |\n"
   ]
  },
  {
   "cell_type": "code",
   "execution_count": 26,
   "metadata": {},
   "outputs": [],
   "source": [
    "def open_dataset(file_name='AppleStore.csv', header=True):\n",
    "    opened_file = open(file_name, encoding=\"utf8\")\n",
    "    from csv import reader\n",
    "    read_file = reader(opened_file)\n",
    "    data = list(read_file)\n",
    "    \n",
    "    if header:\n",
    "        return data[1:], data[0]\n",
    "    else:\n",
    "        return data\n"
   ]
  },
  {
   "cell_type": "code",
   "execution_count": 29,
   "metadata": {},
   "outputs": [
    {
     "name": "stdout",
     "output_type": "stream",
     "text": [
      "['id', 'track_name', 'size_bytes', 'currency', 'price', 'rating_count_tot', 'rating_count_ver', 'user_rating', 'user_rating_ver', 'ver', 'cont_rating', 'prime_genre', 'sup_devices.num', 'ipadSc_urls.num', 'lang.num', 'vpp_lic']\n"
     ]
    }
   ],
   "source": [
    "all_data = open_dataset()\n",
    "header = all_data[1]\n",
    "header = header[1:]\n",
    "print(header)\n",
    "apps_data = all_data[0]\n",
    "# print(apps_data)"
   ]
  },
  {
   "cell_type": "markdown",
   "metadata": {},
   "source": [
    "## More About Tuples"
   ]
  },
  {
   "cell_type": "markdown",
   "metadata": {},
   "source": [
    "When we create a **`tuple`**, surrounding the values with parentheses is optional. It's enough to write the individual values and separate each with a comma. Below, we see two ways of creating a tuple (on the right, we're not using parentheses):"
   ]
  },
  {
   "cell_type": "code",
   "execution_count": 1,
   "metadata": {},
   "outputs": [
    {
     "name": "stdout",
     "output_type": "stream",
     "text": [
      "(1, 'a')\n",
      "<class 'tuple'>\n",
      "(1, 'a')\n",
      "<class 'tuple'>\n"
     ]
    }
   ],
   "source": [
    "a_tuple = (1, 'a')\n",
    "print(a_tuple)\n",
    "print(type(a_tuple))\n",
    "\n",
    "a_tuple = 1, 'a'\n",
    "print(a_tuple)\n",
    "print(type(a_tuple))"
   ]
  },
  {
   "cell_type": "markdown",
   "metadata": {},
   "source": [
    "With this in mind, remember the syntax we used in the **`return`** statement to return multiple values:"
   ]
  },
  {
   "cell_type": "code",
   "execution_count": 3,
   "metadata": {},
   "outputs": [
    {
     "name": "stdout",
     "output_type": "stream",
     "text": [
      "(20, 10)\n",
      "<class 'tuple'>\n"
     ]
    }
   ],
   "source": [
    "def sum_and_difference(a, b):\n",
    "    a_sum = a + b\n",
    "    difference = a - b\n",
    "    return a_sum, difference\n",
    "\n",
    "sum_diff = sum_and_difference(15, 5)\n",
    "print(sum_diff)\n",
    "print(type(sum_diff))"
   ]
  },
  {
   "cell_type": "markdown",
   "metadata": {},
   "source": [
    "When we use return a_sum, difference, Python thinks we want the tuple a_sum, difference returned. This is why multiple variables are returned as **`tuples`**. If we wanted to return a **`list`** instead of a tuple, we need to use brackets: $[value]$"
   ]
  },
  {
   "cell_type": "code",
   "execution_count": 4,
   "metadata": {},
   "outputs": [
    {
     "name": "stdout",
     "output_type": "stream",
     "text": [
      "[20, 10]\n",
      "<class 'list'>\n"
     ]
    }
   ],
   "source": [
    "def sum_and_difference(a, b):\n",
    "    a_sum = a + b\n",
    "    difference = a - b\n",
    "    return [a_sum, difference]\n",
    "\n",
    "sum_diff = sum_and_difference(15, 5)\n",
    "print(sum_diff)\n",
    "print(type(sum_diff))"
   ]
  },
  {
   "cell_type": "markdown",
   "metadata": {},
   "source": [
    "When we work with tuples, we can assign their individual elements to separate variables in a single line of code."
   ]
  },
  {
   "cell_type": "code",
   "execution_count": 6,
   "metadata": {},
   "outputs": [
    {
     "name": "stdout",
     "output_type": "stream",
     "text": [
      "1\n",
      "2\n",
      "1\n",
      "2\n"
     ]
    }
   ],
   "source": [
    "a_tuple = 1, 2\n",
    "first_element = a_tuple[0]\n",
    "second_element = a_tuple[1]\n",
    "\n",
    "print(first_element)\n",
    "print(second_element)\n",
    "\n",
    "# Alternatively we can:\n",
    "\n",
    "a_tuple = 1, 2\n",
    "first_element, second_element = a_tuple\n",
    "\n",
    "print(first_element)\n",
    "print(second_element)"
   ]
  },
  {
   "cell_type": "markdown",
   "metadata": {},
   "source": [
    "We can do the same with lists — we can assign individual list elements to separate variables in a single line of code:"
   ]
  },
  {
   "cell_type": "code",
   "execution_count": 7,
   "metadata": {},
   "outputs": [
    {
     "name": "stdout",
     "output_type": "stream",
     "text": [
      "3\n",
      "4\n",
      "3\n",
      "4\n"
     ]
    }
   ],
   "source": [
    "a_list = [3, 4]\n",
    "first_element = a_list[0]\n",
    "second_element = a_list[1]\n",
    "\n",
    "print(first_element)\n",
    "print(second_element)\n",
    "\n",
    "# Alternatively we can:\n",
    "\n",
    "a_list = [3, 4]\n",
    "first_element, second_element = a_list\n",
    "\n",
    "print(first_element)\n",
    "print(second_element)"
   ]
  },
  {
   "cell_type": "markdown",
   "metadata": {},
   "source": [
    "We can use this variable assignment technique with functions that **`return`** multiple variables."
   ]
  },
  {
   "cell_type": "code",
   "execution_count": 8,
   "metadata": {},
   "outputs": [
    {
     "name": "stdout",
     "output_type": "stream",
     "text": [
      "20\n",
      "10\n"
     ]
    }
   ],
   "source": [
    "def sum_and_difference(a, b):\n",
    "    a_sum = a + b\n",
    "    difference = a - b\n",
    "    return a_sum, difference\n",
    "\n",
    "a_sum, a_diff = sum_and_difference(15, 5)\n",
    "\n",
    "print(a_sum)\n",
    "print(a_diff)"
   ]
  },
  {
   "cell_type": "markdown",
   "metadata": {},
   "source": [
    "- Use the open_dataset() function to open the `AppleStore.csv` file, which has a header row.\n",
    "    - Do the variable assignment step in a single line of code.\n",
    "        - Assign the header to a variable named header.\n",
    "        - Assign the rest of the data set to a variable named apps_data."
   ]
  },
  {
   "cell_type": "code",
   "execution_count": 10,
   "metadata": {},
   "outputs": [
    {
     "name": "stdout",
     "output_type": "stream",
     "text": [
      "<class 'list'>\n",
      "<class 'list'>\n"
     ]
    }
   ],
   "source": [
    "def open_dataset(file_name='AppleStore.csv', header=True):        \n",
    "    opened_file = open(file_name, encoding=\"utf8\")\n",
    "    from csv import reader\n",
    "    read_file = reader(opened_file)\n",
    "    data = list(read_file)\n",
    "    \n",
    "    if header:\n",
    "        return data[1:], data[0]\n",
    "    else:\n",
    "        return data\n",
    "\n",
    "apps_data, header = open_dataset()\n",
    "\n",
    "print(type(apps_data))\n",
    "print(type(header))"
   ]
  },
  {
   "cell_type": "markdown",
   "metadata": {},
   "source": [
    "## Code Running Quirks"
   ]
  },
  {
   "cell_type": "markdown",
   "metadata": {},
   "source": [
    "So far, we've been using parameters and `return` statements for all of our functions. Note, however, that parameters and `return` statements are optional:"
   ]
  },
  {
   "cell_type": "code",
   "execution_count": 11,
   "metadata": {},
   "outputs": [
    {
     "name": "stdout",
     "output_type": "stream",
     "text": [
      "3.14\n"
     ]
    }
   ],
   "source": [
    "def print_constant():\n",
    "    x = 3.14\n",
    "    print(x)\n",
    "\n",
    "print_constant()"
   ]
  },
  {
   "cell_type": "markdown",
   "metadata": {},
   "source": [
    "Functions without a `return` statement don't return any value. However, strictly speaking, they `return` a **`None`** value, which practically represents the absence of a value. The None value is an instance of the **`NoneType`** data type (just like 5.321 is an instance of the float data type)."
   ]
  },
  {
   "cell_type": "code",
   "execution_count": 12,
   "metadata": {},
   "outputs": [
    {
     "name": "stdout",
     "output_type": "stream",
     "text": [
      "3.14\n",
      "None\n",
      "<class 'NoneType'>\n"
     ]
    }
   ],
   "source": [
    "def print_constant():\n",
    "    x = 3.14\n",
    "    print(x)\n",
    "\n",
    "j = print_constant()\n",
    "print(j)\n",
    "print(type(j))"
   ]
  },
  {
   "cell_type": "markdown",
   "metadata": {},
   "source": [
    "In the function above, notice also that we assigned **`3.14`** to a variable named **`x`**. Although we clearly defined **`x`**, it turns out that we can't access **`x`** outside the function definition — Python raises a **`NameError`** and says that **`x`** is not defined.\n",
    "\n"
   ]
  },
  {
   "cell_type": "code",
   "execution_count": 13,
   "metadata": {},
   "outputs": [
    {
     "ename": "NameError",
     "evalue": "name 'x' is not defined",
     "output_type": "error",
     "traceback": [
      "\u001b[1;31m---------------------------------------------------------------------------\u001b[0m",
      "\u001b[1;31mNameError\u001b[0m                                 Traceback (most recent call last)",
      "\u001b[1;32m<ipython-input-13-7fda589df874>\u001b[0m in \u001b[0;36m<module>\u001b[1;34m\u001b[0m\n\u001b[0;32m      3\u001b[0m     \u001b[0mprint\u001b[0m\u001b[1;33m(\u001b[0m\u001b[0mx\u001b[0m\u001b[1;33m)\u001b[0m\u001b[1;33m\u001b[0m\u001b[1;33m\u001b[0m\u001b[0m\n\u001b[0;32m      4\u001b[0m \u001b[1;33m\u001b[0m\u001b[0m\n\u001b[1;32m----> 5\u001b[1;33m \u001b[0mx\u001b[0m\u001b[1;33m\u001b[0m\u001b[1;33m\u001b[0m\u001b[0m\n\u001b[0m",
      "\u001b[1;31mNameError\u001b[0m: name 'x' is not defined"
     ]
    }
   ],
   "source": [
    "def print_constant():\n",
    "    x = 3.14\n",
    "    print(x)\n",
    "    \n",
    "x"
   ]
  },
  {
   "cell_type": "markdown",
   "metadata": {},
   "source": [
    "To debug the code above, let's start by mentioning that **_Python doesn't run the code we write inside a function's definition until we call that function_**. In the code example above, x = 3.14 is never run.\n",
    "\n",
    "This behavior applies to every function we create. For instance, below we're trying to perform a division between an empty list and a string, but no error is returned, which is proof that the code inside the function's definition is not executed:"
   ]
  },
  {
   "cell_type": "code",
   "execution_count": 15,
   "metadata": {},
   "outputs": [
    {
     "name": "stdout",
     "output_type": "stream",
     "text": [
      "Code finished running, but no error was returned\n"
     ]
    }
   ],
   "source": [
    "def divide():\n",
    "    [] / 'abc'\n",
    "    \n",
    "print('Code finished running, but no error was returned')"
   ]
  },
  {
   "cell_type": "markdown",
   "metadata": {},
   "source": [
    "As we've already mentioned, Python executes the code inside a function's definition only when the function is called. Above, we'd get an error only if we called divide() because only then Python would run [] / 'abc'."
   ]
  },
  {
   "cell_type": "code",
   "execution_count": 16,
   "metadata": {},
   "outputs": [
    {
     "ename": "TypeError",
     "evalue": "unsupported operand type(s) for /: 'list' and 'str'",
     "output_type": "error",
     "traceback": [
      "\u001b[1;31m---------------------------------------------------------------------------\u001b[0m",
      "\u001b[1;31mTypeError\u001b[0m                                 Traceback (most recent call last)",
      "\u001b[1;32m<ipython-input-16-0adbd83d24fe>\u001b[0m in \u001b[0;36m<module>\u001b[1;34m\u001b[0m\n\u001b[1;32m----> 1\u001b[1;33m \u001b[0mdivide\u001b[0m\u001b[1;33m(\u001b[0m\u001b[1;33m)\u001b[0m\u001b[1;33m\u001b[0m\u001b[1;33m\u001b[0m\u001b[0m\n\u001b[0m",
      "\u001b[1;32m<ipython-input-15-25afc1beae5d>\u001b[0m in \u001b[0;36mdivide\u001b[1;34m()\u001b[0m\n\u001b[0;32m      1\u001b[0m \u001b[1;32mdef\u001b[0m \u001b[0mdivide\u001b[0m\u001b[1;33m(\u001b[0m\u001b[1;33m)\u001b[0m\u001b[1;33m:\u001b[0m\u001b[1;33m\u001b[0m\u001b[1;33m\u001b[0m\u001b[0m\n\u001b[1;32m----> 2\u001b[1;33m     \u001b[1;33m[\u001b[0m\u001b[1;33m]\u001b[0m \u001b[1;33m/\u001b[0m \u001b[1;34m'abc'\u001b[0m\u001b[1;33m\u001b[0m\u001b[1;33m\u001b[0m\u001b[0m\n\u001b[0m\u001b[0;32m      3\u001b[0m \u001b[1;33m\u001b[0m\u001b[0m\n\u001b[0;32m      4\u001b[0m \u001b[0mprint\u001b[0m\u001b[1;33m(\u001b[0m\u001b[1;34m'Code finished running, but no error was returned'\u001b[0m\u001b[1;33m)\u001b[0m\u001b[1;33m\u001b[0m\u001b[1;33m\u001b[0m\u001b[0m\n",
      "\u001b[1;31mTypeError\u001b[0m: unsupported operand type(s) for /: 'list' and 'str'"
     ]
    }
   ],
   "source": [
    "divide()"
   ]
  },
  {
   "cell_type": "markdown",
   "metadata": {},
   "source": [
    "If Python runs the code inside a function definition only when the function is called, it seems that in order to debug the code below we first need to run **`print_constant()`** to get **`x = 3.14`** executed."
   ]
  },
  {
   "cell_type": "markdown",
   "metadata": {},
   "source": [
    "- Rewrite the print_constant() function above.\n",
    "- Call the print_constant() function to make sure x = 3.14 gets executed.\n",
    "- Print the variable x using the print() function.\n",
    "    - What do you notice about the output?\n",
    "    - This may be totally unexpected, and we'll explain why this happens in the next screen."
   ]
  },
  {
   "cell_type": "code",
   "execution_count": 19,
   "metadata": {},
   "outputs": [
    {
     "name": "stdout",
     "output_type": "stream",
     "text": [
      "3.14\n"
     ]
    },
    {
     "ename": "NameError",
     "evalue": "name 'x' is not defined",
     "output_type": "error",
     "traceback": [
      "\u001b[1;31m---------------------------------------------------------------------------\u001b[0m",
      "\u001b[1;31mNameError\u001b[0m                                 Traceback (most recent call last)",
      "\u001b[1;32m<ipython-input-19-79971188adbc>\u001b[0m in \u001b[0;36m<module>\u001b[1;34m\u001b[0m\n\u001b[0;32m      4\u001b[0m \u001b[1;33m\u001b[0m\u001b[0m\n\u001b[0;32m      5\u001b[0m \u001b[0mprint_constant\u001b[0m\u001b[1;33m(\u001b[0m\u001b[1;33m)\u001b[0m\u001b[1;33m\u001b[0m\u001b[1;33m\u001b[0m\u001b[0m\n\u001b[1;32m----> 6\u001b[1;33m \u001b[0mprint\u001b[0m\u001b[1;33m(\u001b[0m\u001b[0mx\u001b[0m\u001b[1;33m)\u001b[0m\u001b[1;33m\u001b[0m\u001b[1;33m\u001b[0m\u001b[0m\n\u001b[0m",
      "\u001b[1;31mNameError\u001b[0m: name 'x' is not defined"
     ]
    }
   ],
   "source": [
    "def print_constant():\n",
    "    x = 3.14\n",
    "    print (x)\n",
    "    \n",
    "print_constant()\n",
    "print(x)"
   ]
  },
  {
   "cell_type": "markdown",
   "metadata": {},
   "source": [
    "## Scopes - Global and Local"
   ]
  },
  {
   "cell_type": "markdown",
   "metadata": {},
   "source": [
    "You might have found the error we got in the previous exercise completely unexpected. After all, we called the print_constant() function, which means that x = 3.14 must have been executed. So why did we still get an error telling us that x is undefined?"
   ]
  },
  {
   "cell_type": "markdown",
   "metadata": {},
   "source": [
    "When print_constant() is called, x = 3.14 is indeed executed, but the quirk is that Python only saves the x variable temporarily. Python saves x into a kind of temporary memory, which is immediately erased after the print_constant() finishes running.\n",
    "\n",
    "This explains why x is still undefined even after print_constant() is called — the temporary memory associated with print_constant() is immediately erased after the function finishes running, being freed up for later use.\n",
    "\n",
    "This kind of temporary memory storage doesn't also apply to the code that is being run outside function definitions. If we define x = 3.14 in our main program (outside function definitions), we can use x later on without having to worry that it was erased from memory.\n",
    "\n"
   ]
  },
  {
   "cell_type": "code",
   "execution_count": 20,
   "metadata": {},
   "outputs": [
    {
     "name": "stdout",
     "output_type": "stream",
     "text": [
      "random code\n",
      "more random code\n"
     ]
    }
   ],
   "source": [
    "x = 3.14\n",
    "\n",
    "print('random code')\n",
    "print('more random code')"
   ]
  },
  {
   "cell_type": "markdown",
   "metadata": {},
   "source": [
    "The temporary memory associated with a function is isolated from the memory associated with the main program. The consequence of this is that we can initialize a variable `x = 10` in the main program, and then execute `x = 3.14` in the body of a function without overwriting the x variable of the main program."
   ]
  },
  {
   "cell_type": "markdown",
   "metadata": {},
   "source": [
    "<img src=\"memory_isolation_image.PNG\">"
   ]
  },
  {
   "cell_type": "code",
   "execution_count": 22,
   "metadata": {},
   "outputs": [
    {
     "name": "stdout",
     "output_type": "stream",
     "text": [
      "2.72\n",
      "148.88279736320004\n",
      "1000\n",
      "50\n",
      "20.0\n"
     ]
    }
   ],
   "source": [
    "e = 'mathematical constant'\n",
    "a_sum = 1000\n",
    "length = 50\n",
    "\n",
    "def exponential(x):\n",
    "    e = 2.72\n",
    "    print (e)\n",
    "    return e**x\n",
    "\n",
    "result = exponential(5)\n",
    "print(result)\n",
    "\n",
    "def divide():\n",
    "    print(a_sum)\n",
    "    print(length)\n",
    "    return a_sum / length\n",
    "\n",
    "result_2 = divide()\n",
    "print(result_2)"
   ]
  },
  {
   "cell_type": "code",
   "execution_count": null,
   "metadata": {},
   "outputs": [],
   "source": []
  }
 ],
 "metadata": {
  "kernelspec": {
   "display_name": "py37",
   "language": "python",
   "name": "py37"
  },
  "language_info": {
   "codemirror_mode": {
    "name": "ipython",
    "version": 3
   },
   "file_extension": ".py",
   "mimetype": "text/x-python",
   "name": "python",
   "nbconvert_exporter": "python",
   "pygments_lexer": "ipython3",
   "version": "3.7.2"
  }
 },
 "nbformat": 4,
 "nbformat_minor": 2
}
